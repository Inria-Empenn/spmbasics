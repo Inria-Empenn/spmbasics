{
 "cells": [
  {
   "cell_type": "markdown",
   "metadata": {},
   "source": [
    "## Preprocessing"
   ]
  },
  {
   "cell_type": "code",
   "execution_count": 1,
   "metadata": {},
   "outputs": [],
   "source": [
    "from nilearn import plotting\n",
    "%matplotlib inline\n",
    "import os\n",
    "import json\n",
    "from nipype.interfaces import fsl \n",
    "from nipype.interfaces import spm\n",
    "from nipype.interfaces.spm import (Realign, SliceTiming, Coregister,  NewSegment,  Normalize12, Smooth)\n",
    "from nipype.interfaces.spm import Level1Design, EstimateModel, EstimateContrast\n",
    "from nipype.algorithms.modelgen import SpecifySPMModel\n",
    "from nipype.interfaces import matlab as mlab\n",
    "from nipype.interfaces.io import SelectFiles, DataSink\n",
    "import nipype.interfaces.utility as util \n",
    "from nipype.algorithms import rapidart as ra\n",
    "from nipype.interfaces.utility import Function, IdentityInterface\n",
    "import nipype.pipeline.engine as pe\n",
    "import nipype.interfaces.io as nio\n",
    "from nipype.interfaces.base import Bunch\n",
    "from nipype import DataGrabber, Workflow, Node\n",
    "from scipy.io.matlab import loadmat"
   ]
  },
  {
   "cell_type": "code",
   "execution_count": 2,
   "metadata": {},
   "outputs": [],
   "source": [
    "# necessary to let nipype know about matlab path"
   ]
  },
  {
   "cell_type": "code",
   "execution_count": 3,
   "metadata": {},
   "outputs": [
    {
     "name": "stderr",
     "output_type": "stream",
     "text": [
      "stty: 'standard input': Inappropriate ioctl for device\n"
     ]
    }
   ],
   "source": [
    "spm.SPMCommand.set_mlab_paths(paths=os.path.abspath(os.path.join(os.environ['HOME'], 'Documents/MATLAB/spm12/')), matlab_cmd='/soft/matlab_hd/R2020b/bin/glnxa64/MATLAB -nodesktop -nosplash')"
   ]
  },
  {
   "cell_type": "code",
   "execution_count": 4,
   "metadata": {},
   "outputs": [],
   "source": [
    "mlab.MatlabCommand.set_default_matlab_cmd(\"/soft/matlab_hd/R2020b/bin/glnxa64/MATLAB  -nodesktop -nosplash\")\n",
    "mlab.MatlabCommand.set_default_paths(os.path.abspath(os.path.join(os.environ['HOME'], 'Documents/MATLAB/spm12/')))"
   ]
  },
  {
   "cell_type": "code",
   "execution_count": 5,
   "metadata": {},
   "outputs": [],
   "source": [
    "# spm.SPMCommand().version"
   ]
  },
  {
   "cell_type": "code",
   "execution_count": 6,
   "metadata": {},
   "outputs": [],
   "source": [
    "fsl.FSLCommand.set_default_output_type('NIFTI')"
   ]
  },
  {
   "cell_type": "code",
   "execution_count": 7,
   "metadata": {},
   "outputs": [],
   "source": [
    "base_dir = os.path.join(os.environ['HOME'], 'spmbasics/data/')"
   ]
  },
  {
   "cell_type": "code",
   "execution_count": 8,
   "metadata": {},
   "outputs": [],
   "source": [
    "experiment_dir = os.path.join(base_dir, 'output')\n",
    "data_dir = os.path.abspath(os.path.join(base_dir, 'face_rep'))\n",
    "output_dir = 'datasink'\n",
    "working_dir = 'workingdir'\n",
    "\n",
    "# list of subject identifiers\n",
    "subject_list = ['M03953']\n",
    "\n",
    "# TR of functional images\n",
    "TR = 2.\n",
    "\n",
    "\n",
    "# Smoothing width used during preprocessing\n",
    "fwhm = [8]"
   ]
  },
  {
   "cell_type": "code",
   "execution_count": 9,
   "metadata": {},
   "outputs": [],
   "source": [
    "# add how to refer sots"
   ]
  },
  {
   "cell_type": "code",
   "execution_count": 10,
   "metadata": {},
   "outputs": [],
   "source": [
    "mat0 = mat = loadmat(os.path.join(data_dir, \"sots.mat\"), mat_dtype=True, matlab_compatible=True, struct_as_record=True)"
   ]
  },
  {
   "cell_type": "code",
   "execution_count": 11,
   "metadata": {},
   "outputs": [],
   "source": [
    "mat = loadmat(os.path.join(data_dir, \"sots.mat\"), mat_dtype=True, matlab_compatible=True, struct_as_record=True, simplify_cells=True)\n",
    "#sot = mat['sot'][1]\n",
    "\n",
    "#itemlag = mat['itemlag'][0]\n",
    "#onsets=[sot[0], sot[1], sot[2], sot[3]],\n"
   ]
  },
  {
   "cell_type": "code",
   "execution_count": 39,
   "metadata": {},
   "outputs": [
    {
     "name": "stdout",
     "output_type": "stream",
     "text": [
      "{'__header__': b'MATLAB 5.0 MAT-file, Platform: GLNX86, Created on: Wed Jun  4 11:58:02 2008', '__version__': '1.0', '__globals__': [], 'itemlag': array([array([], dtype=float64),\n",
      "       array([ 3.,  3., 10., 10., 14.,  1., 23.,  3.,  3., 37., 10., 42., 61.,\n",
      "              33., 27., 61., 28., 22., 39., 37., 62., 37., 20., 54., 34., 50.]),\n",
      "       array([], dtype=float64),\n",
      "       array([11., 14.,  2., 47., 36., 18., 37., 59., 11., 56., 33.,  4., 57.,\n",
      "              18., 59., 55., 46., 61.,  4., 67.,  9., 63., 13., 19., 42.,  1.])],\n",
      "      dtype=object), 'sot': array([array([  6.74996667,  15.74996667,  17.99996667,  26.99996667,\n",
      "               29.24996667,  31.49996667,  35.99996667,  42.74996667,\n",
      "               65.24996667,  67.49996667,  74.24996667,  92.24996667,\n",
      "              112.49996667, 119.24996667, 123.74996667, 125.99996667,\n",
      "              137.24996667, 141.74996667, 143.99996667, 146.24996667,\n",
      "              155.24996667, 159.74996667, 161.99996667, 164.24996667,\n",
      "              204.74996667, 238.49996667])                           ,\n",
      "       array([ 13.49996667,  40.49996667,  47.24996667,  56.24996667,\n",
      "               89.99996667,  94.49996667,  96.74996667, 134.99996667,\n",
      "              148.49996667, 184.49996667, 191.24996667, 202.49996667,\n",
      "              215.99996667, 233.99996667, 236.24996667, 242.99996667,\n",
      "              245.24996667, 256.49996667, 260.99996667, 281.24996667,\n",
      "              290.24996667, 303.74996667, 310.49996667, 319.49996667,\n",
      "              339.74996667, 341.99996667])                           ,\n",
      "       array([-3.33333333e-05,  2.24996667e+00,  8.99996667e+00,  1.12499667e+01,\n",
      "               2.24999667e+01,  4.49999667e+01,  5.17499667e+01,  6.07499667e+01,\n",
      "               6.29999667e+01,  7.64999667e+01,  7.87499667e+01,  8.54999667e+01,\n",
      "               9.89999667e+01,  1.01249967e+02,  1.03499967e+02,  1.16999967e+02,\n",
      "               1.30499967e+02,  1.50749967e+02,  1.70999967e+02,  1.88999967e+02,\n",
      "               2.27249967e+02,  2.65499967e+02,  2.83499967e+02,  2.85749967e+02,\n",
      "               2.87999967e+02,  3.44249967e+02])                                 ,\n",
      "       array([ 33.74996667,  49.49996667, 105.74996667, 152.99996667,\n",
      "              157.49996667, 168.74996667, 177.74996667, 179.99996667,\n",
      "              182.24996667, 197.99996667, 222.74996667, 240.74996667,\n",
      "              254.24996667, 267.74996667, 269.99996667, 274.49996667,\n",
      "              294.74996667, 299.24996667, 301.49996667, 314.99996667,\n",
      "              317.24996667, 326.24996667, 332.99996667, 335.24996667,\n",
      "              337.49996667, 346.49996667])                           ],\n",
      "      dtype=object)}\n"
     ]
    }
   ],
   "source": [
    "print(mat)"
   ]
  },
  {
   "cell_type": "code",
   "execution_count": 40,
   "metadata": {},
   "outputs": [
    {
     "name": "stdout",
     "output_type": "stream",
     "text": [
      "[ 13.49996667  40.49996667  47.24996667  56.24996667  89.99996667\n",
      "  94.49996667  96.74996667 134.99996667 148.49996667 184.49996667\n",
      " 191.24996667 202.49996667 215.99996667 233.99996667 236.24996667\n",
      " 242.99996667 245.24996667 256.49996667 260.99996667 281.24996667\n",
      " 290.24996667 303.74996667 310.49996667 319.49996667 339.74996667\n",
      " 341.99996667]\n"
     ]
    }
   ],
   "source": [
    "print(sot)"
   ]
  },
  {
   "cell_type": "code",
   "execution_count": 29,
   "metadata": {},
   "outputs": [
    {
     "name": "stdout",
     "output_type": "stream",
     "text": [
      "1\n"
     ]
    }
   ],
   "source": [
    "print(len(onsets))"
   ]
  },
  {
   "cell_type": "code",
   "execution_count": 17,
   "metadata": {},
   "outputs": [
    {
     "name": "stdout",
     "output_type": "stream",
     "text": [
      "[1.33333334]\n"
     ]
    }
   ],
   "source": [
    "print(sot[2][0])"
   ]
  },
  {
   "cell_type": "code",
   "execution_count": 30,
   "metadata": {},
   "outputs": [],
   "source": [
    "c = sot[1]"
   ]
  },
  {
   "cell_type": "code",
   "execution_count": 20,
   "metadata": {},
   "outputs": [],
   "source": [
    "import numpy as np"
   ]
  },
  {
   "cell_type": "code",
   "execution_count": 31,
   "metadata": {},
   "outputs": [
    {
     "data": {
      "text/plain": [
       "(26, 1)"
      ]
     },
     "execution_count": 31,
     "metadata": {},
     "output_type": "execute_result"
    }
   ],
   "source": [
    "np.shape(c)"
   ]
  },
  {
   "cell_type": "code",
   "execution_count": 32,
   "metadata": {},
   "outputs": [
    {
     "name": "stdout",
     "output_type": "stream",
     "text": [
      "2\n"
     ]
    }
   ],
   "source": [
    "print(c.ndim)"
   ]
  },
  {
   "cell_type": "code",
   "execution_count": 41,
   "metadata": {},
   "outputs": [],
   "source": [
    "onsets=[ mat['sot'][0], mat['sot'][1],  mat['sot'][2],  mat['sot'][3]]"
   ]
  },
  {
   "cell_type": "code",
   "execution_count": 42,
   "metadata": {},
   "outputs": [
    {
     "name": "stdout",
     "output_type": "stream",
     "text": [
      "[array([  6.74996667,  15.74996667,  17.99996667,  26.99996667,\n",
      "        29.24996667,  31.49996667,  35.99996667,  42.74996667,\n",
      "        65.24996667,  67.49996667,  74.24996667,  92.24996667,\n",
      "       112.49996667, 119.24996667, 123.74996667, 125.99996667,\n",
      "       137.24996667, 141.74996667, 143.99996667, 146.24996667,\n",
      "       155.24996667, 159.74996667, 161.99996667, 164.24996667,\n",
      "       204.74996667, 238.49996667]), array([ 13.49996667,  40.49996667,  47.24996667,  56.24996667,\n",
      "        89.99996667,  94.49996667,  96.74996667, 134.99996667,\n",
      "       148.49996667, 184.49996667, 191.24996667, 202.49996667,\n",
      "       215.99996667, 233.99996667, 236.24996667, 242.99996667,\n",
      "       245.24996667, 256.49996667, 260.99996667, 281.24996667,\n",
      "       290.24996667, 303.74996667, 310.49996667, 319.49996667,\n",
      "       339.74996667, 341.99996667]), array([-3.33333333e-05,  2.24996667e+00,  8.99996667e+00,  1.12499667e+01,\n",
      "        2.24999667e+01,  4.49999667e+01,  5.17499667e+01,  6.07499667e+01,\n",
      "        6.29999667e+01,  7.64999667e+01,  7.87499667e+01,  8.54999667e+01,\n",
      "        9.89999667e+01,  1.01249967e+02,  1.03499967e+02,  1.16999967e+02,\n",
      "        1.30499967e+02,  1.50749967e+02,  1.70999967e+02,  1.88999967e+02,\n",
      "        2.27249967e+02,  2.65499967e+02,  2.83499967e+02,  2.85749967e+02,\n",
      "        2.87999967e+02,  3.44249967e+02]), array([ 33.74996667,  49.49996667, 105.74996667, 152.99996667,\n",
      "       157.49996667, 168.74996667, 177.74996667, 179.99996667,\n",
      "       182.24996667, 197.99996667, 222.74996667, 240.74996667,\n",
      "       254.24996667, 267.74996667, 269.99996667, 274.49996667,\n",
      "       294.74996667, 299.24996667, 301.49996667, 314.99996667,\n",
      "       317.24996667, 326.24996667, 332.99996667, 335.24996667,\n",
      "       337.49996667, 346.49996667])]\n"
     ]
    }
   ],
   "source": [
    "print(onsets)"
   ]
  },
  {
   "cell_type": "code",
   "execution_count": 14,
   "metadata": {},
   "outputs": [],
   "source": [
    "subjectinfo = [\n",
    "    Bunch(\n",
    "        conditions=['N1', 'N2', 'F1', 'F2'],\n",
    "        onsets=[ mat['sot'][0], mat['sot'][1],  mat['sot'][2],  mat['sot'][3]],\n",
    "        durations=[[0], [0], [0], [0]],\n",
    "        amplitudes=None,\n",
    "        tmod=None,\n",
    "        pmod=None,\n",
    "        regressor_names=None,\n",
    "        regressors=None)\n",
    "]"
   ]
  },
  {
   "cell_type": "code",
   "execution_count": 15,
   "metadata": {},
   "outputs": [],
   "source": [
    "# design matrix setting"
   ]
  },
  {
   "cell_type": "code",
   "execution_count": 16,
   "metadata": {},
   "outputs": [],
   "source": [
    "cond1 = ('positive effect of condition', 'T',\n",
    "         ['N1', 'N2', 'F1', 'F2'], [1, 1, 1, 1])\n",
    "cond2 = ('positive effect of condition_dtemo', 'T',\n",
    "          ['N1', 'N2', 'F1', 'F2'], [1, 1, 1, 1])\n",
    "cond3 = ('positive effect of condition_ddisp', 'T',\n",
    "          ['N1', 'N2', 'F1', 'F2'], [1, 1, 1, 1])\n",
    "# non-famous > famous\n",
    "fam1 = ('positive effect of Fame', 'T',\n",
    "        ['N1', 'N2', 'F1', 'F2'], [1, 1, -1, -1])\n",
    "fam2 = ('positive effect of Fame_dtemp', 'T',\n",
    "        ['N1', 'N2', 'F1', 'F2'], [1, 1, -1, -1])\n",
    "fam3 = ('positive effect of Fame_ddisp', 'T',\n",
    "        ['N1', 'N2', 'F1', 'F2'], [1, 1, -1, -1])\n",
    "# rep1 > rep2\n",
    "rep1 = ('positive effect of Rep', 'T',\n",
    "        ['N1', 'N2', 'F1', 'F2'], [1, -1, 1, -1])\n",
    "rep2 = ('positive effect of Rep_dtemp', 'T',\n",
    "        ['N1', 'N2', 'F1', 'F2'], [1, -1, 1, -1])\n",
    "rep3 = ('positive effect of Rep_ddisp', 'T',\n",
    "        ['N1', 'N2', 'F1', 'F2'], [1, -1, 1, -1])\n",
    "int1 = ('positive interaction of Fame x Rep', 'T',\n",
    "        ['N1', 'N2', 'F1', 'F2'], [-1, -1, -1, 1])\n",
    "int2 = ('positive interaction of Fame x Rep_dtemp', 'T',\n",
    "        ['N1', 'N2', 'F1', 'F2'], [1, -1, -1, 1])\n",
    "int3 = ('positive interaction of Fame x Rep_ddisp', 'T',\n",
    "        ['N1', 'N2', 'F1', 'F2'], [1, -1, -1, 1])\n",
    "\n",
    "contf1 = ['average effect condition', 'F', [cond1, cond2, cond3]]\n",
    "contf2 = ['main effect Fam', 'F', [fam1, fam2, fam3]]\n",
    "contf3 = ['main effect Rep', 'F', [rep1, rep2, rep3]]\n",
    "contf4 = ['interaction: Fam x Rep', 'F', [int1, int2, int3]]\n",
    "contrast_list = [\n",
    "    cond1, cond2, cond3, fam1, fam2, fam3, rep1, rep2, rep3, int1, int2, int3,\n",
    "    contf1, contf2, contf3, contf4\n",
    "]"
   ]
  },
  {
   "cell_type": "code",
   "execution_count": 17,
   "metadata": {},
   "outputs": [],
   "source": [
    "# SpecifyModel - Generates SPM-specific Model\n",
    "modelspec = Node(SpecifySPMModel(concatenate_runs=False,\n",
    "                                 input_units='scans',\n",
    "                                 output_units='scans',\n",
    "                                 time_repetition=TR,\n",
    "                                 high_pass_filter_cutoff=128,\n",
    "                                 subject_info = subjectinfo),\n",
    "                 name=\"modelspec\")\n",
    "\n",
    "# Level1Design - Generates an SPM design matrix same as the first level tutorial\n",
    "level1design = Node(Level1Design(bases={'hrf': {'derivs': [0, 0]}},\n",
    "                                 timing_units='scans',\n",
    "                                 interscan_interval=TR,\n",
    "                                 volterra_expansion_order=1, # no model interction\n",
    "                                 flags={'mthresh': 0.8},\n",
    "                                 global_intensity_normalization='none',\n",
    "                                 microtime_onset=12,\n",
    "                                 microtime_resolution=24,\n",
    "                                 #factor_info = [dict(name = 'Fame', levels = 2),\n",
    "                                                #dict(name = 'Rep', levels = 2)],\n",
    "                                 model_serial_correlations='AR(1)'), #matlabbatch{1}.spm.stats.fmri_spec.cvi = 'AR(1)';\n",
    "                    name=\"level1design\")\n",
    "\n",
    "# EstimateModel - estimate the parameters of the model\n",
    "level1estimate = Node(EstimateModel(estimation_method={'Classical': 1}),\n",
    "                      write_residuals=False, \n",
    "                      name=\"level1estimate\")\n",
    "\n",
    "# EstimateContrast - estimates contrasts\n",
    "level1conest = Node(EstimateContrast(contrasts = contrast_list),\n",
    "                    use_derivs=True, \n",
    "                    name=\"level1conest\")"
   ]
  },
  {
   "cell_type": "code",
   "execution_count": 18,
   "metadata": {},
   "outputs": [],
   "source": [
    "# Infosource - a function free node to iterate over the list of subject names\n",
    "infosource = Node(IdentityInterface(fields=['subject_id',\n",
    "                                            'contrasts'],\n",
    "                                    contrasts=contrast_list),\n",
    "                  name=\"infosource\")\n",
    "infosource.iterables = [('subject_id', subject_list)]\n",
    "\n",
    "\n",
    "templates = {'func': os.path.join(output_dir, 'preproc', '_subject_id_{subject_id}',\n",
    "                         's{subject_id}_0005_0006_merged.nii'),\n",
    "             'mc_param': os.path.join(output_dir, 'preproc', '_subject_id_{subject_id}',\n",
    "                         'rp_s{subject_id}_0005_0006_merged.txt'),\n",
    "             'outliers': os.path.join(output_dir, 'preproc', '_subject_id_{subject_id}', \n",
    "                             'art.wars{subject_id}_0005_0006_merged_outliers.txt')}\n",
    "selectfiles = Node(SelectFiles(templates,\n",
    "                               base_directory=experiment_dir,\n",
    "                               sort_filelist=True),\n",
    "                   name=\"selectfiles\")\n",
    "\n",
    "# Datasink - creates output folder for important outputs\n",
    "datasink = Node(DataSink(base_directory=experiment_dir,\n",
    "                         container=output_dir),\n",
    "                name=\"datasink\")"
   ]
  },
  {
   "cell_type": "code",
   "execution_count": 19,
   "metadata": {},
   "outputs": [],
   "source": [
    "# Initiation of the 1st-level analysis workflow\n",
    "event_cat = Workflow(name='l1analysis')\n",
    "event_cat.base_dir = os.path.join(experiment_dir, working_dir)\n",
    "\n",
    "# Connect up the 1st-level analysis components\n",
    "event_cat.connect([(infosource, selectfiles, [('subject_id', 'subject_id')]),\n",
    "                    (infosource, level1conest, [('contrasts', 'contrasts')]),\n",
    "                    (selectfiles, modelspec, [('func', 'functional_runs')]),\n",
    "                    (selectfiles, modelspec, [('mc_param', 'realignment_parameters'),\n",
    "                                              ('outliers', 'outlier_files')]),\n",
    "                    (modelspec, level1design, [('session_info','session_info')]),\n",
    "                    (level1design, level1estimate, [('spm_mat_file','spm_mat_file')]),\n",
    "                    (level1estimate, level1conest, [('spm_mat_file','spm_mat_file'),\n",
    "                                                    ('beta_images','beta_images'),\n",
    "                                                   ('residual_image', 'residual_image')]),\n",
    "                    (level1conest, datasink, [('spm_mat_file', '1stLevel.@spm_mat'),\n",
    "                                              ('spmT_images', '1stLevel.@T'),\n",
    "                                              ('con_images', '1stLevel.@con'),\n",
    "                                              ('spmF_images', '1stLevel.@F'),\n",
    "                                              ('ess_images', '1stLevel.@ess')]),\n",
    "                    ])"
   ]
  },
  {
   "cell_type": "code",
   "execution_count": 20,
   "metadata": {},
   "outputs": [
    {
     "name": "stdout",
     "output_type": "stream",
     "text": [
      "240522-16:32:19,237 nipype.workflow INFO:\n",
      "\t Generated workflow graph: /home/matay/spmbasics/data/output/workingdir/l1analysis/colored_graph.png (graph2use=colored, simple_form=True).\n"
     ]
    },
    {
     "data": {
      "text/plain": [
       "'/home/matay/spmbasics/data/output/workingdir/l1analysis/colored_graph.png'"
      ]
     },
     "execution_count": 20,
     "metadata": {},
     "output_type": "execute_result"
    }
   ],
   "source": [
    "event_cat.write_graph(graph2use='colored', format='png', dotfilename='colored_graph.dot', simple_form=True)"
   ]
  },
  {
   "cell_type": "code",
   "execution_count": 21,
   "metadata": {},
   "outputs": [
    {
     "name": "stdout",
     "output_type": "stream",
     "text": [
      "240522-16:32:22,760 nipype.workflow INFO:\n",
      "\t Generated workflow graph: /home/matay/spmbasics/data/output/workingdir/l1analysis/flat_graph.png (graph2use=flat, simple_form=True).\n"
     ]
    },
    {
     "data": {
      "text/plain": [
       "'/home/matay/spmbasics/data/output/workingdir/l1analysis/flat_graph.png'"
      ]
     },
     "execution_count": 21,
     "metadata": {},
     "output_type": "execute_result"
    }
   ],
   "source": [
    "event_cat.write_graph(graph2use='flat', format='png', dotfilename='flat_graph.dot', simple_form=True)"
   ]
  },
  {
   "cell_type": "code",
   "execution_count": 21,
   "metadata": {},
   "outputs": [
    {
     "data": {
      "image/png": "[encoded data removed]",
      "text/plain": [
       "<IPython.core.display.Image object>"
      ]
     },
     "execution_count": 21,
     "metadata": {},
     "output_type": "execute_result"
    }
   ],
   "source": [
    "# Visualize the graph\n",
    "from IPython.display import Image\n",
    "Image(filename='/home/matay/spmbasics/data/output/workingdir/l1analysis/colored_graph.png')"
   ]
  },
  {
   "cell_type": "code",
   "execution_count": 22,
   "metadata": {},
   "outputs": [
    {
     "name": "stdout",
     "output_type": "stream",
     "text": [
      "240522-16:32:26,112 nipype.workflow INFO:\n",
      "\t Workflow l1analysis settings: ['check', 'execution', 'logging', 'monitoring']\n",
      "240522-16:32:26,119 nipype.workflow INFO:\n",
      "\t Running serially.\n",
      "240522-16:32:26,120 nipype.workflow INFO:\n",
      "\t [Node] Setting-up \"l1analysis.selectfiles\" in \"/home/matay/spmbasics/data/output/workingdir/l1analysis/_subject_id_M03953/selectfiles\".\n",
      "240522-16:32:26,121 nipype.workflow INFO:\n",
      "\t [Node] Executing \"selectfiles\" <nipype.interfaces.io.SelectFiles>\n",
      "240522-16:32:26,122 nipype.workflow INFO:\n",
      "\t [Node] Finished \"selectfiles\", elapsed time 0.000267s.\n",
      "240522-16:32:26,124 nipype.workflow INFO:\n",
      "\t [Node] Setting-up \"l1analysis.modelspec\" in \"/home/matay/spmbasics/data/output/workingdir/l1analysis/_subject_id_M03953/modelspec\".\n",
      "240522-16:32:26,127 nipype.workflow INFO:\n",
      "\t [Node] Cached \"l1analysis.modelspec\" - collecting precomputed outputs\n",
      "240522-16:32:26,127 nipype.workflow INFO:\n",
      "\t [Node] \"l1analysis.modelspec\" found cached.\n",
      "240522-16:32:26,128 nipype.workflow INFO:\n",
      "\t [Node] Setting-up \"l1analysis.level1design\" in \"/home/matay/spmbasics/data/output/workingdir/l1analysis/_subject_id_M03953/level1design\".\n",
      "240522-16:32:26,142 nipype.workflow INFO:\n",
      "\t [Node] Cached \"l1analysis.level1design\" - collecting precomputed outputs\n",
      "240522-16:32:26,142 nipype.workflow INFO:\n",
      "\t [Node] \"l1analysis.level1design\" found cached.\n",
      "240522-16:32:26,143 nipype.workflow INFO:\n",
      "\t [Node] Setting-up \"l1analysis.level1estimate\" in \"/home/matay/spmbasics/data/output/workingdir/l1analysis/_subject_id_M03953/level1estimate\".\n",
      "240522-16:32:26,144 nipype.workflow INFO:\n",
      "\t [Node] Cached \"l1analysis.level1estimate\" - collecting precomputed outputs\n",
      "240522-16:32:26,145 nipype.workflow INFO:\n",
      "\t [Node] \"l1analysis.level1estimate\" found cached.\n",
      "240522-16:32:26,145 nipype.workflow INFO:\n",
      "\t [Node] Setting-up \"l1analysis.level1conest\" in \"/home/matay/spmbasics/data/output/workingdir/l1analysis/_subject_id_M03953/level1conest\".\n",
      "240522-16:32:26,155 nipype.workflow INFO:\n",
      "\t [Node] Executing \"level1conest\" <nipype.interfaces.spm.model.EstimateContrast>\n"
     ]
    },
    {
     "name": "stderr",
     "output_type": "stream",
     "text": [
      "stty: 'standard input': Inappropriate ioctl for device\n"
     ]
    },
    {
     "name": "stdout",
     "output_type": "stream",
     "text": [
      "240522-16:32:45,30 nipype.workflow INFO:\n",
      "\t [Node] Finished \"level1conest\", elapsed time 12.567019s.\n",
      "240522-16:32:45,33 nipype.workflow INFO:\n",
      "\t [Node] Setting-up \"l1analysis.datasink\" in \"/home/matay/spmbasics/data/output/workingdir/l1analysis/_subject_id_M03953/datasink\".\n",
      "240522-16:32:45,36 nipype.workflow INFO:\n",
      "\t [Node] Executing \"datasink\" <nipype.interfaces.io.DataSink>\n",
      "240522-16:32:45,38 nipype.workflow INFO:\n",
      "\t [Node] Finished \"datasink\", elapsed time 0.00163s.\n"
     ]
    },
    {
     "name": "stderr",
     "output_type": "stream",
     "text": [
      "stty: 'standard input': Inappropriate ioctl for device\n"
     ]
    },
    {
     "data": {
      "text/plain": [
       "<networkx.classes.digraph.DiGraph at 0x7f1c552efbb0>"
      ]
     },
     "execution_count": 22,
     "metadata": {},
     "output_type": "execute_result"
    }
   ],
   "source": [
    "event_cat.run()"
   ]
  },
  {
   "cell_type": "code",
   "execution_count": null,
   "metadata": {},
   "outputs": [],
   "source": []
  }
 ],
 "metadata": {
  "anaconda-cloud": {},
  "kernelspec": {
   "display_name": "Python 3 (ipykernel)",
   "language": "python",
   "name": "python3"
  },
  "language_info": {
   "codemirror_mode": {
    "name": "ipython",
    "version": 3
   },
   "file_extension": ".py",
   "mimetype": "text/x-python",
   "name": "python",
   "nbconvert_exporter": "python",
   "pygments_lexer": "ipython3",
   "version": "3.9.18"
  }
 },
 "nbformat": 4,
 "nbformat_minor": 4
}
