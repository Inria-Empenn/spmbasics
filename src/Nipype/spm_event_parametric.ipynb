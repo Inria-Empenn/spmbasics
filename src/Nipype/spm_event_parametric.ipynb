{
 "cells": [
  {
   "cell_type": "markdown",
   "metadata": {},
   "source": [
    "## Preprocessing"
   ]
  },
  {
   "cell_type": "code",
   "execution_count": 1,
   "metadata": {},
   "outputs": [],
   "source": [
    "from nilearn import plotting\n",
    "%matplotlib inline\n",
    "import os\n",
    "import json\n",
    "from nipype.interfaces import fsl \n",
    "from nipype.interfaces import spm\n",
    "from nipype.interfaces.spm import (Realign, SliceTiming, Coregister,  NewSegment,  Normalize12, Smooth)\n",
    "from nipype.interfaces.spm import Level1Design, EstimateModel, EstimateContrast\n",
    "from nipype.algorithms.modelgen import SpecifySPMModel\n",
    "from nipype.interfaces import matlab as mlab\n",
    "from nipype.interfaces.io import SelectFiles, DataSink\n",
    "import nipype.interfaces.utility as util \n",
    "from nipype.algorithms import rapidart as ra\n",
    "from nipype.interfaces.utility import Function, IdentityInterface\n",
    "import nipype.pipeline.engine as pe\n",
    "import nipype.interfaces.io as nio\n",
    "from nipype.interfaces.base import Bunch\n",
    "from nipype import DataGrabber, Workflow, Node"
   ]
  },
  {
   "cell_type": "code",
   "execution_count": 2,
   "metadata": {},
   "outputs": [
    {
     "data": {
      "text/plain": [
       "'/home/matay/Documents/MATLAB/spm12'"
      ]
     },
     "execution_count": 2,
     "metadata": {},
     "output_type": "execute_result"
    }
   ],
   "source": [
    "os.path.abspath(os.path.join(os.environ['HOME'], 'Documents/MATLAB/spm12/'))"
   ]
  },
  {
   "cell_type": "raw",
   "metadata": {},
   "source": [
    "# necessary to let nipype know about matlab path"
   ]
  },
  {
   "cell_type": "code",
   "execution_count": 3,
   "metadata": {},
   "outputs": [
    {
     "name": "stderr",
     "output_type": "stream",
     "text": [
      "stty: 'standard input': Inappropriate ioctl for device\n"
     ]
    }
   ],
   "source": [
    "spm.SPMCommand.set_mlab_paths(paths=os.path.abspath(os.path.join(os.environ['HOME'], 'Documents/MATLAB/spm12/')), matlab_cmd='/soft/matlab_hd/R2020b/bin/glnxa64/MATLAB -nodesktop -nosplash')"
   ]
  },
  {
   "cell_type": "code",
   "execution_count": 4,
   "metadata": {},
   "outputs": [],
   "source": [
    "mlab.MatlabCommand.set_default_matlab_cmd(\"/soft/matlab_hd/R2020b/bin/glnxa64/MATLAB  -nodesktop -nosplash\")\n",
    "mlab.MatlabCommand.set_default_paths(os.path.abspath(os.path.join(os.environ['HOME'], 'Documents/MATLAB/spm12/')))"
   ]
  },
  {
   "cell_type": "code",
   "execution_count": 5,
   "metadata": {},
   "outputs": [],
   "source": [
    "# spm.SPMCommand().version"
   ]
  },
  {
   "cell_type": "code",
   "execution_count": 6,
   "metadata": {},
   "outputs": [],
   "source": [
    "fsl.FSLCommand.set_default_output_type('NIFTI')"
   ]
  },
  {
   "cell_type": "code",
   "execution_count": 7,
   "metadata": {},
   "outputs": [],
   "source": [
    "base_dir = os.path.join(os.environ['HOME'], 'spmbasics/data/')"
   ]
  },
  {
   "cell_type": "code",
   "execution_count": 8,
   "metadata": {},
   "outputs": [],
   "source": [
    "experiment_dir = os.path.join(base_dir, 'output')\n",
    "data_dir = os.path.abspath(os.path.join(base_dir, 'face_rep'))\n",
    "output_dir = 'datasink'\n",
    "working_dir = 'workingdir'\n",
    "\n",
    "# list of subject identifiers\n",
    "subject_list = ['M03953']\n",
    "\n",
    "# TR of functional images\n",
    "TR = 2.\n",
    "\n",
    "\n",
    "# Smoothing width used during preprocessing\n",
    "fwhm = [8]"
   ]
  },
  {
   "cell_type": "code",
   "execution_count": 9,
   "metadata": {},
   "outputs": [],
   "source": [
    "info = dict(\n",
    "    func=[['RawEPI', 'subject_id', 5, [\"_%04d\" % i for i in range(6, 357)]]],\n",
    "    struct=[['Structural', 'subject_id', 7, '']])\n"
   ]
  },
  {
   "cell_type": "markdown",
   "metadata": {},
   "source": [
    "This part below needs to be edited to load the preprocessed data from the folder"
   ]
  },
  {
   "cell_type": "code",
   "execution_count": 10,
   "metadata": {},
   "outputs": [],
   "source": [
    "infosource = Node(IdentityInterface(fields=['subject_id']),\n",
    "                  name=\"infosource\")\n",
    "infosource.iterables = [('subject_id', subject_list)]"
   ]
  },
  {
   "cell_type": "code",
   "execution_count": 11,
   "metadata": {},
   "outputs": [],
   "source": [
    "datasource = Node(\n",
    "    interface=DataGrabber(\n",
    "        infields=['subject_id'], outfields=['func', 'struct']),\n",
    "    name='datasource')\n",
    "datasource.inputs.base_directory = data_dir\n",
    "datasource.inputs.template = '%s/s%s_%04d%s.img'\n",
    "datasource.inputs.template_args = info\n",
    "datasource.inputs.sort_filelist = True"
   ]
  },
  {
   "cell_type": "code",
   "execution_count": 21,
   "metadata": {},
   "outputs": [],
   "source": [
    "def get_vox_dims(volume):\n",
    "    import nibabel as nb\n",
    "    if isinstance(volume, list):\n",
    "        volume = volume[0]\n",
    "    nii = nb.load(volume)\n",
    "    hdr = nii.header\n",
    "    voxdims = hdr.get_zooms()\n",
    "    return [float(voxdims[0]), float(voxdims[1]), float(voxdims[2])]"
   ]
  },
  {
   "cell_type": "code",
   "execution_count": 12,
   "metadata": {},
   "outputs": [],
   "source": [
    "from scipy.io.matlab import loadmat\n",
    "mat = loadmat(os.path.join(data_dir, \"sots.mat\"), struct_as_record=False)\n",
    "sot = mat['sot'][0]\n",
    "#itemlag = mat['itemlag'][0]\n",
    "\n",
    "subjectinfo = [\n",
    "    Bunch(\n",
    "        conditions=['N1', 'N2', 'F1', 'F2'],\n",
    "        onsets=[sot[0], sot[1], sot[2], sot[3]],\n",
    "        durations=[[0], [0], [0], [0]],\n",
    "        amplitudes=None,\n",
    "        tmod=None,\n",
    "        pmod=None,\n",
    "        regressor_names=None,\n",
    "        regressors=None)\n",
    "]"
   ]
  },
  {
   "cell_type": "code",
   "execution_count": 13,
   "metadata": {},
   "outputs": [],
   "source": [
    "l1analysis = Workflow(name='l1analysis')"
   ]
  },
  {
   "cell_type": "code",
   "execution_count": 15,
   "metadata": {},
   "outputs": [],
   "source": [
    "modelspec = Node(interface=SpecifySPMModel(), name=\"modelspec\")"
   ]
  },
  {
   "cell_type": "code",
   "execution_count": 16,
   "metadata": {},
   "outputs": [],
   "source": [
    "level1design = Node(interface=spm.Level1Design(), name=\"level1design\")"
   ]
  },
  {
   "cell_type": "code",
   "execution_count": 17,
   "metadata": {},
   "outputs": [],
   "source": [
    "level1estimate = Node(interface=spm.EstimateModel(), name=\"level1estimate\")\n",
    "level1estimate.inputs.estimation_method = {'Classical': 1}\n",
    "\n",
    "threshold = Node(interface=spm.Threshold(), name=\"threshold\")"
   ]
  },
  {
   "cell_type": "code",
   "execution_count": 18,
   "metadata": {},
   "outputs": [],
   "source": [
    "# to write the spm mat file\n",
    "contrastestimate = Node(\n",
    "    interface=spm.EstimateContrast(), name=\"contrastestimate\")\n",
    "\n",
    "\n",
    "def pickfirst(l):\n",
    "    return l[0]\n",
    "\n",
    "\n",
    "l1analysis.connect([\n",
    "    (modelspec, level1design, [('session_info', 'session_info')]),\n",
    "    (level1design, level1estimate, [('spm_mat_file', 'spm_mat_file')]),\n",
    "    (level1estimate, contrastestimate,\n",
    "     [('spm_mat_file', 'spm_mat_file'), ('beta_images', 'beta_images'),\n",
    "      ('residual_image', 'residual_image')]),\n",
    "    (contrastestimate, threshold, [('spm_mat_file', 'spm_mat_file'),\n",
    "                                   (('spmT_images', pickfirst),\n",
    "                                    'stat_image')]),\n",
    "])"
   ]
  },
  {
   "cell_type": "code",
   "execution_count": null,
   "metadata": {},
   "outputs": [],
   "source": [
    "l1pipeline = pe.Workflow(name='event_firstlevel')\n",
    "l1pipeline.connect([(preproc, l1analysis,\n",
    "                     [('realign.realignment_parameters',\n",
    "                       'modelspec.realignment_parameters')])])"
   ]
  },
  {
   "cell_type": "code",
   "execution_count": null,
   "metadata": {},
   "outputs": [],
   "source": [
    "l1pipeline.connect([(preproc, l1analysis,\n",
    "                         [('smooth.smoothed_files',\n",
    "                           'modelspec.functional_runs')])])"
   ]
  },
  {
   "cell_type": "code",
   "execution_count": 19,
   "metadata": {},
   "outputs": [],
   "source": [
    "cond1 = ('positive effect of condition', 'T',\n",
    "         ['N1*bf(1)', 'N2*bf(1)', 'F1*bf(1)', 'F2*bf(1)'], [1, 1, 1, 1])\n",
    "cond2 = ('positive effect of condition_dtemo', 'T',\n",
    "         ['N1*bf(2)', 'N2*bf(2)', 'F1*bf(2)', 'F2*bf(2)'], [1, 1, 1, 1])\n",
    "cond3 = ('positive effect of condition_ddisp', 'T',\n",
    "         ['N1*bf(3)', 'N2*bf(3)', 'F1*bf(3)', 'F2*bf(3)'], [1, 1, 1, 1])\n",
    "# non-famous > famous\n",
    "fam1 = ('positive effect of Fame', 'T',\n",
    "        ['N1*bf(1)', 'N2*bf(1)', 'F1*bf(1)', 'F2*bf(1)'], [1, 1, -1, -1])\n",
    "fam2 = ('positive effect of Fame_dtemp', 'T',\n",
    "        ['N1*bf(2)', 'N2*bf(2)', 'F1*bf(2)', 'F2*bf(2)'], [1, 1, -1, -1])\n",
    "fam3 = ('positive effect of Fame_ddisp', 'T',\n",
    "        ['N1*bf(3)', 'N2*bf(3)', 'F1*bf(3)', 'F2*bf(3)'], [1, 1, -1, -1])\n",
    "# rep1 > rep2\n",
    "rep1 = ('positive effect of Rep', 'T',\n",
    "        ['N1*bf(1)', 'N2*bf(1)', 'F1*bf(1)', 'F2*bf(1)'], [1, -1, 1, -1])\n",
    "rep2 = ('positive effect of Rep_dtemp', 'T',\n",
    "        ['N1*bf(2)', 'N2*bf(2)', 'F1*bf(2)', 'F2*bf(2)'], [1, -1, 1, -1])\n",
    "rep3 = ('positive effect of Rep_ddisp', 'T',\n",
    "        ['N1*bf(3)', 'N2*bf(3)', 'F1*bf(3)', 'F2*bf(3)'], [1, -1, 1, -1])\n",
    "int1 = ('positive interaction of Fame x Rep', 'T',\n",
    "        ['N1*bf(1)', 'N2*bf(1)', 'F1*bf(1)', 'F2*bf(1)'], [-1, -1, -1, 1])\n",
    "int2 = ('positive interaction of Fame x Rep_dtemp', 'T',\n",
    "        ['N1*bf(2)', 'N2*bf(2)', 'F1*bf(2)', 'F2*bf(2)'], [1, -1, -1, 1])\n",
    "int3 = ('positive interaction of Fame x Rep_ddisp', 'T',\n",
    "        ['N1*bf(3)', 'N2*bf(3)', 'F1*bf(3)', 'F2*bf(3)'], [1, -1, -1, 1])\n",
    "\n",
    "contf1 = ['average effect condition', 'F', [cond1, cond2, cond3]]\n",
    "contf2 = ['main effect Fam', 'F', [fam1, fam2, fam3]]\n",
    "contf3 = ['main effect Rep', 'F', [rep1, rep2, rep3]]\n",
    "contf4 = ['interaction: Fam x Rep', 'F', [int1, int2, int3]]\n",
    "contrasts = [\n",
    "    cond1, cond2, cond3, fam1, fam2, fam3, rep1, rep2, rep3, int1, int2, int3,\n",
    "    contf1, contf2, contf3, contf4\n",
    "]"
   ]
  },
  {
   "cell_type": "code",
   "execution_count": null,
   "metadata": {},
   "outputs": [],
   "source": [
    "num_slices = 24\n",
    "TR = 2.\n",
    "\n",
    "slice_timingref = l1pipeline.inputs.preproc.slice_timing #needs to be changed to refer slice timing images\n",
    "slice_timingref.num_slices = num_slices\n",
    "slice_timingref.time_repetition = TR\n",
    "slice_timingref.time_acquisition = TR - TR / float(num_slices)\n",
    "slice_timingref.slice_order = list(range(num_slices, 0, -1))\n",
    "slice_timingref.ref_slice = int(num_slices / 2)\n",
    "\n",
    "l1pipeline.inputs.preproc.smooth.fwhm = [8, 8, 8]\n",
    "\n",
    "# set up node specific inputs\n",
    "modelspecref = l1pipeline.inputs.analysis.modelspec\n",
    "modelspecref.input_units = 'scans'\n",
    "modelspecref.output_units = 'scans'\n",
    "modelspecref.time_repetition = TR\n",
    "modelspecref.high_pass_filter_cutoff = 128\n",
    "\n",
    "l1designref = l1pipeline.inputs.analysis.level1design\n",
    "l1designref.timing_units = modelspecref.output_units\n",
    "l1designref.interscan_interval = modelspecref.time_repetition\n",
    "l1designref.microtime_resolution = slice_timingref.num_slices\n",
    "l1designref.microtime_onset = slice_timingref.ref_slice\n",
    "l1designref.bases = {'hrf': {'derivs': [1, 1]}}"
   ]
  },
  {
   "cell_type": "code",
   "execution_count": null,
   "metadata": {},
   "outputs": [],
   "source": [
    "l1designref.factor_info = [dict(name = 'Fame', levels = 2),\n",
    "                           dict(name = 'Rep', levels = 2)]\n",
    "\n",
    "l1pipeline.inputs.analysis.modelspec.subject_info = subjectinfo\n",
    "l1pipeline.inputs.analysis.contrastestimate.contrasts = contrasts\n",
    "l1pipeline.inputs.analysis.threshold.contrast_index = 1"
   ]
  },
  {
   "cell_type": "code",
   "execution_count": null,
   "metadata": {},
   "outputs": [],
   "source": [
    "# categorical modelling without parametric design\n",
    "l1pipeline.inputs.analysis.contrastestimate.use_derivs = True"
   ]
  },
  {
   "cell_type": "code",
   "execution_count": null,
   "metadata": {},
   "outputs": [],
   "source": [
    "subjectinfo_param = [\n",
    "    Bunch(\n",
    "        conditions=['N1', 'N2', 'F1', 'F2'],\n",
    "        onsets=[sot[0], sot[1], sot[2], sot[3]],\n",
    "        durations=[[0], [0], [0], [0]],\n",
    "        amplitudes=None,\n",
    "        tmod=None,\n",
    "        pmod=[\n",
    "            None,\n",
    "            Bunch(name=['Lag'], param=itemlag[1].tolist(), poly=[2]), None,\n",
    "            Bunch(name=['Lag'], param=itemlag[3].tolist(), poly=[2])\n",
    "        ],\n",
    "        regressor_names=None,\n",
    "        regressors=None)\n",
    "]\n",
    "\n",
    "cont1 = ('Famous_lag1', 'T', ['F2xLag^1'], [1])\n",
    "cont2 = ('Famous_lag2', 'T', ['F2xLag^2'], [1])\n",
    "fcont1 = ('Famous Lag', 'F', [cont1, cont2])\n",
    "paramcontrasts = [cont1, cont2, fcont1]\n",
    "\n",
    "paramanalysis = l1analysis.clone(name='paramanalysis')\n",
    "\n",
    "paramanalysis.inputs.level1design.bases = {'hrf': {'derivs': [0, 0]}}\n",
    "paramanalysis.inputs.modelspec.subject_info = subjectinfo_param\n",
    "paramanalysis.inputs.contrastestimate.contrasts = paramcontrasts\n",
    "paramanalysis.inputs.contrastestimate.use_derivs = False\n",
    "\n",
    "l1pipeline.connect(\n",
    "    [(preproc, paramanalysis,\n",
    "      [('realign.realignment_parameters', 'modelspec.realignment_parameters'),\n",
    "       (('smooth.smoothed_files', makelist), 'modelspec.functional_runs')])"
   ]
  },
  {
   "cell_type": "code",
   "execution_count": null,
   "metadata": {},
   "outputs": [],
   "source": [
    "event_par = pe.Workflow(name=\"event_par\")\n",
    "event_par.base_dir = os.path.join(experiment_dir, working_dir)\n",
    "\n",
    "event_par.connect([(infosource, datasource, [('subject_id', 'subject_id')]),\n",
    "                (datasource, l1pipeline,\n",
    "                 [('struct', 'preproc.coregister.source'),\n",
    "                  ('func', 'preproc.realign.in_files')])])"
   ]
  },
  {
   "cell_type": "code",
   "execution_count": null,
   "metadata": {},
   "outputs": [],
   "source": [
    "datasink = Node(DataSink(base_directory=experiment_dir,\n",
    "                         container=output_dir),\n",
    "                name=\"datasink\")"
   ]
  },
  {
   "cell_type": "code",
   "execution_count": null,
   "metadata": {},
   "outputs": [],
   "source": [
    "def getstripdir(subject_id):\n",
    "    import os\n",
    "    return os.path.join(os.path.join(experiment_dir, working_dir),\n",
    "        '_subject_id_%s' % subject_id)"
   ]
  },
  {
   "cell_type": "code",
   "execution_count": null,
   "metadata": {},
   "outputs": [],
   "source": [
    "# store relevant outputs from various stages of the 1st level analysis\n",
    "event_par.connect([\n",
    "    (infosource, datasink, [('subject_id', 'container'),\n",
    "                            (('subject_id', getstripdir), 'strip_dir')]),\n",
    "    (l1pipeline, datasink,\n",
    "     [('analysis.contrastestimate.con_images', 'contrasts.@con'),\n",
    "      ('analysis.contrastestimate.spmT_images', 'contrasts.@T'),\n",
    "      [('analysis.contrastestimate.ess_images', 'contrasts.@ess'),\n",
    "      ('analysis.contrastestimate.spmF_images', 'contrasts.@F'),\n",
    "       ('paramanalysis.contrastestimate.con_images',\n",
    "       'paramcontrasts.@con'), ('paramanalysis.contrastestimate.spmT_images',\n",
    "                                'paramcontrasts.@T')]),\n",
    "])"
   ]
  },
  {
   "cell_type": "code",
   "execution_count": null,
   "metadata": {},
   "outputs": [],
   "source": [
    "event_par.write_graph(graph2use='colored', format='png', dotfilename='colored_graph.dot', simple_form=True)"
   ]
  },
  {
   "cell_type": "code",
   "execution_count": null,
   "metadata": {},
   "outputs": [],
   "source": [
    "# Visualize the graph\n",
    "from IPython.display import Image\n",
    "Image(filename='./spmbasics/data/output/workingdir/event_cat/colored_graph.png', width=750)"
   ]
  },
  {
   "cell_type": "code",
   "execution_count": null,
   "metadata": {},
   "outputs": [],
   "source": [
    "event_par.run()"
   ]
  },
  {
   "cell_type": "code",
   "execution_count": null,
   "metadata": {},
   "outputs": [],
   "source": []
  }
 ],
 "metadata": {
  "anaconda-cloud": {},
  "kernelspec": {
   "display_name": "Python 3 (ipykernel)",
   "language": "python",
   "name": "python3"
  },
  "language_info": {
   "codemirror_mode": {
    "name": "ipython",
    "version": 3
   },
   "file_extension": ".py",
   "mimetype": "text/x-python",
   "name": "python",
   "nbconvert_exporter": "python",
   "pygments_lexer": "ipython3",
   "version": "3.9.18"
  }
 },
 "nbformat": 4,
 "nbformat_minor": 4
}
