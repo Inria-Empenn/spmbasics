{
 "cells": [
  {
   "cell_type": "markdown",
   "metadata": {},
   "source": [
    "## First Level Analysis"
   ]
  },
  {
   "cell_type": "code",
   "execution_count": 1,
   "metadata": {},
   "outputs": [],
   "source": [
    "from nilearn import plotting\n",
    "%matplotlib inline\n",
    "import os\n",
    "import json\n",
    "from nipype.interfaces.spm import Level1Design, EstimateModel, EstimateContrast\n",
    "from nipype.algorithms.modelgen import SpecifySPMModel\n",
    "from nipype.interfaces.utility import Function, IdentityInterface\n",
    "from nipype.interfaces.io import SelectFiles, DataSink\n",
    "from nipype import Workflow, Node\n",
    "from nipype.interfaces import spm\n",
    "from nipype.interfaces import fsl\n",
    "from nipype.interfaces import matlab as mlab"
   ]
  },
  {
   "cell_type": "code",
   "execution_count": 2,
   "metadata": {},
   "outputs": [
    {
     "name": "stderr",
     "output_type": "stream",
     "text": [
      "stty: 'standard input': Inappropriate ioctl for device\n"
     ]
    }
   ],
   "source": [
    "spm.SPMCommand.set_mlab_paths(paths=os.path.abspath('./Documents/MATLAB/spm12/'), matlab_cmd='/soft/matlab_hd/R2020b/bin/glnxa64/MATLAB -nodesktop -nosplash')"
   ]
  },
  {
   "cell_type": "code",
   "execution_count": 3,
   "metadata": {},
   "outputs": [],
   "source": [
    "mlab.MatlabCommand.set_default_matlab_cmd(\"/soft/matlab_hd/R2020b/bin/glnxa64/MATLAB  -nodesktop -nosplash\")\n",
    "mlab.MatlabCommand.set_default_paths(os.path.abspath('./Documents/MATLAB/spm12/'))"
   ]
  },
  {
   "cell_type": "code",
   "execution_count": 4,
   "metadata": {},
   "outputs": [
    {
     "name": "stderr",
     "output_type": "stream",
     "text": [
      "stty: 'standard input': Inappropriate ioctl for device\n"
     ]
    },
    {
     "data": {
      "text/plain": [
       "'12.7771'"
      ]
     },
     "execution_count": 4,
     "metadata": {},
     "output_type": "execute_result"
    }
   ],
   "source": [
    "spm.SPMCommand().version"
   ]
  },
  {
   "cell_type": "code",
   "execution_count": 5,
   "metadata": {},
   "outputs": [],
   "source": [
    "fsl.FSLCommand.set_default_output_type('NIFTI')"
   ]
  },
  {
   "cell_type": "code",
   "execution_count": 8,
   "metadata": {},
   "outputs": [],
   "source": [
    "preproc = Workflow(name='block_1stlvl', base_dir=os.path.abspath('./spmbasics/data/output'))"
   ]
  },
  {
   "cell_type": "code",
   "execution_count": 6,
   "metadata": {},
   "outputs": [],
   "source": [
    "base_dir = os.path.join(os.environ['HOME'], 'spmbasics/data/')"
   ]
  },
  {
   "cell_type": "code",
   "execution_count": 7,
   "metadata": {},
   "outputs": [],
   "source": [
    "data_dir = os.path.join(base_dir, 'MoAEpilot/task-auditory_bold.json')"
   ]
  },
  {
   "cell_type": "code",
   "execution_count": 14,
   "metadata": {},
   "outputs": [
    {
     "name": "stdout",
     "output_type": "stream",
     "text": [
      "/home/matay/spmbasics/data/MoAEpilot/task-auditory_bold.json\n"
     ]
    }
   ],
   "source": [
    "print(data_dir)"
   ]
  },
  {
   "cell_type": "code",
   "execution_count": 8,
   "metadata": {},
   "outputs": [],
   "source": [
    "experiment_dir = os.path.join(base_dir, 'output')\n",
    "output_dir = 'datasink'\n",
    "working_dir = 'workingdir'\n",
    "\n",
    "# list of subject identifiers\n",
    "subject_list = ['01']\n",
    "\n",
    "# TR of functional images\n",
    "with open(os.path.join(base_dir, 'MoAEpilot/task-auditory_bold.json'), 'rt') as fp:\n",
    "    task_info = json.load(fp)\n",
    "TR = task_info['RepetitionTime']\n",
    "\n",
    "# Smoothing width used during preprocessing\n",
    "fwhm = [6]"
   ]
  },
  {
   "cell_type": "code",
   "execution_count": 9,
   "metadata": {},
   "outputs": [],
   "source": [
    "# SpecifyModel - Generates SPM-specific Model\n",
    "modelspec = Node(SpecifySPMModel(concatenate_runs=False,\n",
    "                                 input_units='scans',\n",
    "                                 output_units='scans',\n",
    "                                 time_repetition=TR,\n",
    "                                 high_pass_filter_cutoff=128),\n",
    "                 name=\"modelspec\")\n",
    "\n",
    "# Level1Design - Generates an SPM design matrix\n",
    "level1design = Node(Level1Design(bases={'hrf': {'derivs': [0, 0]}},\n",
    "                                 timing_units='scans',\n",
    "                                 interscan_interval=TR,\n",
    "                                 volterra_expansion_order=1,\n",
    "                                 flags={'mthresh': 0.8},\n",
    "                                 global_intensity_normalization='none',\n",
    "                                 microtime_onset=8,\n",
    "                                 microtime_resolution=16,\n",
    "                                 model_serial_correlations='AR(1)'),\n",
    "                    name=\"level1design\")\n",
    "\n",
    "# EstimateModel - estimate the parameters of the model\n",
    "level1estimate = Node(EstimateModel(estimation_method={'Classical': 1}),\n",
    "                      write_residuals=False, \n",
    "                      name=\"level1estimate\")\n",
    "\n",
    "# EstimateContrast - estimates contrasts\n",
    "level1conest = Node(EstimateContrast(), name=\"level1conest\")"
   ]
  },
  {
   "cell_type": "code",
   "execution_count": 10,
   "metadata": {},
   "outputs": [],
   "source": [
    "# Condition names\n",
    "condition_names = ['listening']\n",
    "#onsets = [6,18, 30, 42, 54, 66, 78]\n",
    "# Contrasts\n",
    "#onsets = ['listening',      'T', condition_names, [6, 18, 30, 42, 54, 66, 78]\n",
    "cont01 = ['listening > rest','T', condition_names, [1, 0]]\n",
    "\n",
    "contrast_list = [cont01]"
   ]
  },
  {
   "cell_type": "code",
   "execution_count": 30,
   "metadata": {},
   "outputs": [
    {
     "name": "stdout",
     "output_type": "stream",
     "text": [
      "onset\tduration\ttrial_type\n",
      "42\t42\tlistening\n",
      "126\t42\tlistening\n",
      "210\t42\tlistening\n",
      "294\t42\tlistening\n",
      "378\t42\tlistening\n",
      "462\t42\tlistening\n",
      "546\t42\tlistening\n"
     ]
    }
   ],
   "source": [
    "!cat ./spmbasics/data/MoAEpilot/sub-01/func/sub-01_task-auditory_events.tsv"
   ]
  },
  {
   "cell_type": "code",
   "execution_count": 11,
   "metadata": {},
   "outputs": [
    {
     "data": {
      "text/html": [
       "<div>\n",
       "<style scoped>\n",
       "    .dataframe tbody tr th:only-of-type {\n",
       "        vertical-align: middle;\n",
       "    }\n",
       "\n",
       "    .dataframe tbody tr th {\n",
       "        vertical-align: top;\n",
       "    }\n",
       "\n",
       "    .dataframe thead th {\n",
       "        text-align: right;\n",
       "    }\n",
       "</style>\n",
       "<table border=\"1\" class=\"dataframe\">\n",
       "  <thead>\n",
       "    <tr style=\"text-align: right;\">\n",
       "      <th></th>\n",
       "      <th>onset</th>\n",
       "      <th>duration</th>\n",
       "      <th>trial_type</th>\n",
       "    </tr>\n",
       "  </thead>\n",
       "  <tbody>\n",
       "    <tr>\n",
       "      <th>0</th>\n",
       "      <td>42</td>\n",
       "      <td>42</td>\n",
       "      <td>listening</td>\n",
       "    </tr>\n",
       "    <tr>\n",
       "      <th>1</th>\n",
       "      <td>126</td>\n",
       "      <td>42</td>\n",
       "      <td>listening</td>\n",
       "    </tr>\n",
       "    <tr>\n",
       "      <th>2</th>\n",
       "      <td>210</td>\n",
       "      <td>42</td>\n",
       "      <td>listening</td>\n",
       "    </tr>\n",
       "    <tr>\n",
       "      <th>3</th>\n",
       "      <td>294</td>\n",
       "      <td>42</td>\n",
       "      <td>listening</td>\n",
       "    </tr>\n",
       "    <tr>\n",
       "      <th>4</th>\n",
       "      <td>378</td>\n",
       "      <td>42</td>\n",
       "      <td>listening</td>\n",
       "    </tr>\n",
       "    <tr>\n",
       "      <th>5</th>\n",
       "      <td>462</td>\n",
       "      <td>42</td>\n",
       "      <td>listening</td>\n",
       "    </tr>\n",
       "    <tr>\n",
       "      <th>6</th>\n",
       "      <td>546</td>\n",
       "      <td>42</td>\n",
       "      <td>listening</td>\n",
       "    </tr>\n",
       "  </tbody>\n",
       "</table>\n",
       "</div>"
      ],
      "text/plain": [
       "   onset  duration trial_type\n",
       "0     42        42  listening\n",
       "1    126        42  listening\n",
       "2    210        42  listening\n",
       "3    294        42  listening\n",
       "4    378        42  listening\n",
       "5    462        42  listening\n",
       "6    546        42  listening"
      ]
     },
     "execution_count": 11,
     "metadata": {},
     "output_type": "execute_result"
    }
   ],
   "source": [
    "import pandas as pd\n",
    "trialinfo = pd.read_table(os.path.join(base_dir, 'MoAEpilot/sub-01/func/sub-01_task-auditory_events.tsv'))\n",
    "trialinfo"
   ]
  },
  {
   "cell_type": "code",
   "execution_count": 12,
   "metadata": {},
   "outputs": [
    {
     "name": "stdout",
     "output_type": "stream",
     "text": [
      "('listening',    onset  duration trial_type\n",
      "0     42        42  listening\n",
      "1    126        42  listening\n",
      "2    210        42  listening\n",
      "3    294        42  listening\n",
      "4    378        42  listening\n",
      "5    462        42  listening\n",
      "6    546        42  listening)\n",
      "\n"
     ]
    }
   ],
   "source": [
    "for group in trialinfo.groupby('trial_type'):\n",
    "    print(group)\n",
    "    print(\"\")"
   ]
  },
  {
   "cell_type": "code",
   "execution_count": 13,
   "metadata": {},
   "outputs": [],
   "source": [
    "def subjectinfo(subject_id):\n",
    "\n",
    "    import pandas as pd\n",
    "    from nipype.interfaces.base import Bunch\n",
    "    \n",
    "    trialinfo = pd.read_table(os.path.join(base_dir, 'MoAEpilot/sub-01/func/sub-01_task-auditory_events.tsv'))\n",
    "    trialinfo.head()\n",
    "    conditions = []\n",
    "    onsets = []\n",
    "    durations = []\n",
    "\n",
    "    for group in trialinfo.groupby('trial_type'):\n",
    "        conditions.append(group[0])\n",
    "        onsets.append(list(group[1].onset - 10)) # subtracting 10s due to removing of 4 dummy scans\n",
    "        durations.append(group[1].duration.tolist())\n",
    "\n",
    "    subject_info = [Bunch(conditions=conditions,\n",
    "                          onsets=onsets,\n",
    "                          durations=durations,\n",
    "                          #amplitudes=None,\n",
    "                          tmod=None,\n",
    "                          pmod=None,\n",
    "                          #regressor_names=None,\n",
    "                          #regressors=None\n",
    "                         )]\n",
    "\n",
    "    return subject_info  # this output will later be returned to infosource\n",
    "\n",
    "# Get Subject Info - get subject specific condition information\n",
    "getsubjectinfo = Node(Function(input_names=['subject_id'],\n",
    "                               output_names=['subject_info'],\n",
    "                               function=subjectinfo),\n",
    "                      name='getsubjectinfo')"
   ]
  },
  {
   "cell_type": "code",
   "execution_count": 14,
   "metadata": {},
   "outputs": [],
   "source": [
    "# Infosource - a function free node to iterate over the list of subject names\n",
    "infosource = Node(IdentityInterface(fields=['subject_id',\n",
    "                                            'contrasts'],\n",
    "                                    contrasts=contrast_list),\n",
    "                  name=\"infosource\")\n",
    "infosource.iterables = [('subject_id', subject_list)]\n",
    "\n",
    "# SelectFiles - to grab the data (alternativ to DataGrabber)\n",
    "templates = {'func': os.path.join(output_dir, 'preproc', 'sub-{subject_id}', 'task-{task_id}',\n",
    "                         'sub-{subject_id}_task-{task_id}_bold.nii'),\n",
    "             'mc_param': os.path.join(output_dir, 'preproc', 'sub-{subject_id}', 'task-{task_id}',\n",
    "                             'sub-{subject_id}_task-{task_id}_bold.par'),\n",
    "             'outliers': os.path.join(output_dir, 'preproc', 'sub-{subject_id}', 'task-{task_id}', \n",
    "                             'art.sub-{subject_id}_task-{task_id}_bold_outliers.txt')}\n",
    "selectfiles = Node(SelectFiles(templates,\n",
    "                               base_directory=experiment_dir,\n",
    "                               sort_filelist=True),\n",
    "                   name=\"selectfiles\")\n",
    "selectfiles.inputs.task_id = 'auditory'\n",
    "\n",
    "# Datasink - creates output folder for important outputs\n",
    "datasink = Node(DataSink(base_directory=experiment_dir,\n",
    "                         container=output_dir),\n",
    "                name=\"datasink\")\n",
    "\n"
   ]
  },
  {
   "cell_type": "code",
   "execution_count": 15,
   "metadata": {},
   "outputs": [
    {
     "ename": "SyntaxError",
     "evalue": "closing parenthesis ')' does not match opening parenthesis '[' (4024526852.py, line 6)",
     "output_type": "error",
     "traceback": [
      "\u001b[0;36m  Cell \u001b[0;32mIn[15], line 6\u001b[0;36m\u001b[0m\n\u001b[0;31m    l1analysis.connect([(infosource, selectfiles, [('subject_id', 'subject_id')),\u001b[0m\n\u001b[0m                                                                               ^\u001b[0m\n\u001b[0;31mSyntaxError\u001b[0m\u001b[0;31m:\u001b[0m closing parenthesis ')' does not match opening parenthesis '['\n"
     ]
    }
   ],
   "source": [
    "# Initiation of the 1st-level analysis workflow\n",
    "l1analysis = Workflow(name='l1analysis')\n",
    "l1analysis.base_dir = os.path.join(experiment_dir, working_dir)\n",
    "\n",
    "# Connect up the 1st-level analysis components\n",
    "l1analysis.connect([(infosource, selectfiles, [('subject_id', 'subject_id')),\n",
    "                    (infosource, getsubjectinfo, [('subject_id',\n",
    "                                                   'subject_id')]),\n",
    "                    (getsubjectinfo, modelspec, [('subject_info',\n",
    "                                                  'subject_info')]),\n",
    "                    (infosource, level1conest, [('contrasts', 'contrasts')]),\n",
    "                    (selectfiles, modelspec, [('func', 'functional_runs')]),\n",
    "                    (selectfiles, modelspec, [('mc_param', 'realignment_parameters'),\n",
    "                                              ('outliers', 'outlier_files')]),\n",
    "                    (modelspec, level1design, [('session_info',\n",
    "                                                'session_info')]),\n",
    "                    (level1design, level1estimate, [('spm_mat_file',\n",
    "                                                     'spm_mat_file')]),\n",
    "                    (level1estimate, level1conest, [('spm_mat_file',\n",
    "                                                     'spm_mat_file'),\n",
    "                                                    ('beta_images',\n",
    "                                                     'beta_images'),\n",
    "                                                    ('residual_image',\n",
    "                                                     'residual_image')]),\n",
    "                    (level1conest, datasink, [('spm_mat_file', '1stLevel.@spm_mat'),\n",
    "                                              ('spmT_images', '1stLevel.@T'),\n",
    "                                              ('con_images', '1stLevel.@con'),\n",
    "                                              ('ess_images', '1stLevel.@ess'),\n",
    "                                              ]),\n",
    "                    ])"
   ]
  },
  {
   "cell_type": "code",
   "execution_count": 16,
   "metadata": {},
   "outputs": [
    {
     "ename": "NameError",
     "evalue": "name 'l1analysis' is not defined",
     "output_type": "error",
     "traceback": [
      "\u001b[0;31m---------------------------------------------------------------------------\u001b[0m",
      "\u001b[0;31mNameError\u001b[0m                                 Traceback (most recent call last)",
      "Cell \u001b[0;32mIn[16], line 2\u001b[0m\n\u001b[1;32m      1\u001b[0m \u001b[38;5;66;03m# Create 1st-level analysis output graph\u001b[39;00m\n\u001b[0;32m----> 2\u001b[0m \u001b[43ml1analysis\u001b[49m\u001b[38;5;241m.\u001b[39mwrite_graph(graph2use\u001b[38;5;241m=\u001b[39m\u001b[38;5;124m'\u001b[39m\u001b[38;5;124mcolored\u001b[39m\u001b[38;5;124m'\u001b[39m, \u001b[38;5;28mformat\u001b[39m\u001b[38;5;241m=\u001b[39m\u001b[38;5;124m'\u001b[39m\u001b[38;5;124mpng\u001b[39m\u001b[38;5;124m'\u001b[39m, dotfilename\u001b[38;5;241m=\u001b[39m\u001b[38;5;124m'\u001b[39m\u001b[38;5;124mcolored_l1analysis.dot\u001b[39m\u001b[38;5;124m'\u001b[39m, simple_form\u001b[38;5;241m=\u001b[39m\u001b[38;5;28;01mTrue\u001b[39;00m)\n\u001b[1;32m      4\u001b[0m \u001b[38;5;66;03m# Visualize the graph\u001b[39;00m\n\u001b[1;32m      5\u001b[0m \u001b[38;5;28;01mfrom\u001b[39;00m \u001b[38;5;21;01mIPython\u001b[39;00m\u001b[38;5;21;01m.\u001b[39;00m\u001b[38;5;21;01mdisplay\u001b[39;00m \u001b[38;5;28;01mimport\u001b[39;00m Image\n",
      "\u001b[0;31mNameError\u001b[0m: name 'l1analysis' is not defined"
     ]
    }
   ],
   "source": [
    "# Create 1st-level analysis output graph\n",
    "l1analysis.write_graph(graph2use='colored', format='png', dotfilename='colored_l1analysis.dot', simple_form=True)\n",
    "\n",
    "# Visualize the graph\n",
    "from IPython.display import Image\n",
    "Image(filename=os.path.join(l1analysis.base_dir, 'l1analysis', 'colored_l1analysis.png'))"
   ]
  },
  {
   "cell_type": "code",
   "execution_count": 40,
   "metadata": {},
   "outputs": [
    {
     "name": "stdout",
     "output_type": "stream",
     "text": [
      "240503-19:28:30,49 nipype.workflow INFO:\n",
      "\t Workflow l1analysis settings: ['check', 'execution', 'logging', 'monitoring']\n",
      "240503-19:28:30,55 nipype.workflow INFO:\n",
      "\t Running in parallel.\n",
      "240503-19:28:30,57 nipype.workflow INFO:\n",
      "\t [MultiProc] Running 0 tasks, and 2 jobs ready. Free memory (GB): 13.77/13.77, Free processors: 4/4.\n",
      "240503-19:28:30,140 nipype.workflow INFO:\n",
      "\t [Node] Setting-up \"l1analysis.selectfiles\" in \"/home/matay/spmbasics/data/output/workingdir/l1analysis/_fwhm_id_6_subject_id_01/selectfiles\".\n",
      "240503-19:28:30,141 nipype.workflow INFO:\n",
      "\t [Node] Setting-up \"l1analysis.getsubjectinfo\" in \"/home/matay/spmbasics/data/output/workingdir/l1analysis/_fwhm_id_6_subject_id_01/getsubjectinfo\".\n",
      "240503-19:28:30,145 nipype.workflow INFO:\n",
      "\t [Node] Executing \"selectfiles\" <nipype.interfaces.io.SelectFiles>\n",
      "240503-19:28:30,146 nipype.workflow INFO:\n",
      "\t [Node] Executing \"getsubjectinfo\" <nipype.interfaces.utility.wrappers.Function>\n",
      "240503-19:28:30,148 nipype.workflow INFO:\n",
      "\t [Node] Finished \"selectfiles\", elapsed time 0.000536s.\n",
      "240503-19:28:30,149 nipype.workflow WARNING:\n",
      "\t Storing result file without outputs\n",
      "240503-19:28:30,150 nipype.workflow WARNING:\n",
      "\t [Node] Error on \"l1analysis.selectfiles\" (/home/matay/spmbasics/data/output/workingdir/l1analysis/_fwhm_id_6_subject_id_01/selectfiles)\n",
      "240503-19:28:30,150 nipype.workflow INFO:\n",
      "\t [Node] Finished \"getsubjectinfo\", elapsed time 0.000602s.\n",
      "240503-19:28:30,151 nipype.workflow WARNING:\n",
      "\t Storing result file without outputs\n",
      "240503-19:28:30,153 nipype.workflow WARNING:\n",
      "\t [Node] Error on \"l1analysis.getsubjectinfo\" (/home/matay/spmbasics/data/output/workingdir/l1analysis/_fwhm_id_6_subject_id_01/getsubjectinfo)\n",
      "240503-19:28:32,63 nipype.workflow ERROR:\n",
      "\t Node selectfiles.a0 failed to run on host ptb-03240070.irisa.fr.\n",
      "240503-19:28:32,65 nipype.workflow ERROR:\n",
      "\t Saving crash info to /home/matay/crash-20240503-192832-matay-selectfiles.a0-af5cdc3e-3dd5-4d8c-93d9-17f5ef77d66d.pklz\n",
      "Traceback (most recent call last):\n",
      "  File \"/home/matay/anaconda3/envs/spmbasics/lib/python3.9/site-packages/nipype/pipeline/plugins/multiproc.py\", line 67, in run_node\n",
      "    result[\"result\"] = node.run(updatehash=updatehash)\n",
      "  File \"/home/matay/anaconda3/envs/spmbasics/lib/python3.9/site-packages/nipype/pipeline/engine/nodes.py\", line 527, in run\n",
      "    result = self._run_interface(execute=True)\n",
      "  File \"/home/matay/anaconda3/envs/spmbasics/lib/python3.9/site-packages/nipype/pipeline/engine/nodes.py\", line 645, in _run_interface\n",
      "    return self._run_command(execute)\n",
      "  File \"/home/matay/anaconda3/envs/spmbasics/lib/python3.9/site-packages/nipype/pipeline/engine/nodes.py\", line 771, in _run_command\n",
      "    raise NodeExecutionError(msg)\n",
      "nipype.pipeline.engine.nodes.NodeExecutionError: Exception raised while executing Node selectfiles.\n",
      "\n",
      "Traceback:\n",
      "\tTraceback (most recent call last):\n",
      "\t  File \"/home/matay/anaconda3/envs/spmbasics/lib/python3.9/site-packages/nipype/interfaces/base/core.py\", line 400, in run\n",
      "\t    outputs = self.aggregate_outputs(runtime)\n",
      "\t  File \"/home/matay/anaconda3/envs/spmbasics/lib/python3.9/site-packages/nipype/interfaces/base/core.py\", line 429, in aggregate_outputs\n",
      "\t    predicted_outputs = self._list_outputs()  # Predictions from _list_outputs\n",
      "\t  File \"/home/matay/anaconda3/envs/spmbasics/lib/python3.9/site-packages/nipype/interfaces/io.py\", line 1469, in _list_outputs\n",
      "\t    raise IOError(msg)\n",
      "\tOSError: No files were found matching func template: /home/matay/spmbasics/data/output/datasink/preproc/sub-01/task-auditory/fwhm-6_sub-01_task-auditory_bold.nii\n",
      "\n",
      "\n",
      "240503-19:28:32,68 nipype.workflow ERROR:\n",
      "\t Node getsubjectinfo.a0 failed to run on host ptb-03240070.irisa.fr.\n",
      "240503-19:28:32,68 nipype.workflow ERROR:\n",
      "\t Saving crash info to /home/matay/crash-20240503-192832-matay-getsubjectinfo.a0-903c867e-f7fc-4151-9e6a-f156addef80a.pklz\n",
      "Traceback (most recent call last):\n",
      "  File \"/home/matay/anaconda3/envs/spmbasics/lib/python3.9/site-packages/nipype/pipeline/plugins/multiproc.py\", line 67, in run_node\n",
      "    result[\"result\"] = node.run(updatehash=updatehash)\n",
      "  File \"/home/matay/anaconda3/envs/spmbasics/lib/python3.9/site-packages/nipype/pipeline/engine/nodes.py\", line 527, in run\n",
      "    result = self._run_interface(execute=True)\n",
      "  File \"/home/matay/anaconda3/envs/spmbasics/lib/python3.9/site-packages/nipype/pipeline/engine/nodes.py\", line 645, in _run_interface\n",
      "    return self._run_command(execute)\n",
      "  File \"/home/matay/anaconda3/envs/spmbasics/lib/python3.9/site-packages/nipype/pipeline/engine/nodes.py\", line 771, in _run_command\n",
      "    raise NodeExecutionError(msg)\n",
      "nipype.pipeline.engine.nodes.NodeExecutionError: Exception raised while executing Node getsubjectinfo.\n",
      "\n",
      "Traceback:\n",
      "\tTraceback (most recent call last):\n",
      "\t  File \"/home/matay/anaconda3/envs/spmbasics/lib/python3.9/site-packages/nipype/interfaces/base/core.py\", line 397, in run\n",
      "\t    runtime = self._run_interface(runtime)\n",
      "\t  File \"/home/matay/anaconda3/envs/spmbasics/lib/python3.9/site-packages/nipype/interfaces/utility/wrappers.py\", line 142, in _run_interface\n",
      "\t    out = function_handle(**args)\n",
      "\t  File \"<string>\", line 6, in subjectinfo\n",
      "\tNameError: name 'os' is not defined\n",
      "\n",
      "\n",
      "240503-19:28:32,71 nipype.workflow INFO:\n",
      "\t [MultiProc] Running 0 tasks, and 0 jobs ready. Free memory (GB): 13.77/13.77, Free processors: 4/4.\n",
      "240503-19:28:34,60 nipype.workflow INFO:\n",
      "\t ***********************************\n",
      "240503-19:28:34,62 nipype.workflow ERROR:\n",
      "\t could not run node: l1analysis.selectfiles.a0\n",
      "240503-19:28:34,64 nipype.workflow INFO:\n",
      "\t crashfile: /home/matay/crash-20240503-192832-matay-selectfiles.a0-af5cdc3e-3dd5-4d8c-93d9-17f5ef77d66d.pklz\n",
      "240503-19:28:34,65 nipype.workflow ERROR:\n",
      "\t could not run node: l1analysis.getsubjectinfo.a0\n",
      "240503-19:28:34,66 nipype.workflow INFO:\n",
      "\t crashfile: /home/matay/crash-20240503-192832-matay-getsubjectinfo.a0-903c867e-f7fc-4151-9e6a-f156addef80a.pklz\n",
      "240503-19:28:34,68 nipype.workflow INFO:\n",
      "\t ***********************************\n"
     ]
    },
    {
     "ename": "RuntimeError",
     "evalue": "2 raised. Re-raising first.",
     "output_type": "error",
     "traceback": [
      "\u001b[0;31m---------------------------------------------------------------------------\u001b[0m",
      "\u001b[0;31mRuntimeError\u001b[0m                              Traceback (most recent call last)",
      "\u001b[0;31mRuntimeError\u001b[0m: Traceback (most recent call last):\n  File \"/home/matay/anaconda3/envs/spmbasics/lib/python3.9/site-packages/nipype/pipeline/plugins/multiproc.py\", line 67, in run_node\n    result[\"result\"] = node.run(updatehash=updatehash)\n  File \"/home/matay/anaconda3/envs/spmbasics/lib/python3.9/site-packages/nipype/pipeline/engine/nodes.py\", line 527, in run\n    result = self._run_interface(execute=True)\n  File \"/home/matay/anaconda3/envs/spmbasics/lib/python3.9/site-packages/nipype/pipeline/engine/nodes.py\", line 645, in _run_interface\n    return self._run_command(execute)\n  File \"/home/matay/anaconda3/envs/spmbasics/lib/python3.9/site-packages/nipype/pipeline/engine/nodes.py\", line 771, in _run_command\n    raise NodeExecutionError(msg)\nnipype.pipeline.engine.nodes.NodeExecutionError: Exception raised while executing Node selectfiles.\n\nTraceback:\n\tTraceback (most recent call last):\n\t  File \"/home/matay/anaconda3/envs/spmbasics/lib/python3.9/site-packages/nipype/interfaces/base/core.py\", line 400, in run\n\t    outputs = self.aggregate_outputs(runtime)\n\t  File \"/home/matay/anaconda3/envs/spmbasics/lib/python3.9/site-packages/nipype/interfaces/base/core.py\", line 429, in aggregate_outputs\n\t    predicted_outputs = self._list_outputs()  # Predictions from _list_outputs\n\t  File \"/home/matay/anaconda3/envs/spmbasics/lib/python3.9/site-packages/nipype/interfaces/io.py\", line 1469, in _list_outputs\n\t    raise IOError(msg)\n\tOSError: No files were found matching func template: /home/matay/spmbasics/data/output/datasink/preproc/sub-01/task-auditory/fwhm-6_sub-01_task-auditory_bold.nii\n\n",
      "\nThe above exception was the direct cause of the following exception:\n",
      "\u001b[0;31mRuntimeError\u001b[0m                              Traceback (most recent call last)",
      "Cell \u001b[0;32mIn[40], line 1\u001b[0m\n\u001b[0;32m----> 1\u001b[0m \u001b[43ml1analysis\u001b[49m\u001b[38;5;241;43m.\u001b[39;49m\u001b[43mrun\u001b[49m\u001b[43m(\u001b[49m\u001b[38;5;124;43m'\u001b[39;49m\u001b[38;5;124;43mMultiProc\u001b[39;49m\u001b[38;5;124;43m'\u001b[39;49m\u001b[43m,\u001b[49m\u001b[43m \u001b[49m\u001b[43mplugin_args\u001b[49m\u001b[38;5;241;43m=\u001b[39;49m\u001b[43m{\u001b[49m\u001b[38;5;124;43m'\u001b[39;49m\u001b[38;5;124;43mn_procs\u001b[39;49m\u001b[38;5;124;43m'\u001b[39;49m\u001b[43m:\u001b[49m\u001b[43m \u001b[49m\u001b[38;5;241;43m4\u001b[39;49m\u001b[43m}\u001b[49m\u001b[43m)\u001b[49m\n",
      "File \u001b[0;32m~/anaconda3/envs/spmbasics/lib/python3.9/site-packages/nipype/pipeline/engine/workflows.py:638\u001b[0m, in \u001b[0;36mWorkflow.run\u001b[0;34m(self, plugin, plugin_args, updatehash)\u001b[0m\n\u001b[1;32m    636\u001b[0m \u001b[38;5;28;01mif\u001b[39;00m str2bool(\u001b[38;5;28mself\u001b[39m\u001b[38;5;241m.\u001b[39mconfig[\u001b[38;5;124m\"\u001b[39m\u001b[38;5;124mexecution\u001b[39m\u001b[38;5;124m\"\u001b[39m][\u001b[38;5;124m\"\u001b[39m\u001b[38;5;124mcreate_report\u001b[39m\u001b[38;5;124m\"\u001b[39m]):\n\u001b[1;32m    637\u001b[0m     \u001b[38;5;28mself\u001b[39m\u001b[38;5;241m.\u001b[39m_write_report_info(\u001b[38;5;28mself\u001b[39m\u001b[38;5;241m.\u001b[39mbase_dir, \u001b[38;5;28mself\u001b[39m\u001b[38;5;241m.\u001b[39mname, execgraph)\n\u001b[0;32m--> 638\u001b[0m \u001b[43mrunner\u001b[49m\u001b[38;5;241;43m.\u001b[39;49m\u001b[43mrun\u001b[49m\u001b[43m(\u001b[49m\u001b[43mexecgraph\u001b[49m\u001b[43m,\u001b[49m\u001b[43m \u001b[49m\u001b[43mupdatehash\u001b[49m\u001b[38;5;241;43m=\u001b[39;49m\u001b[43mupdatehash\u001b[49m\u001b[43m,\u001b[49m\u001b[43m \u001b[49m\u001b[43mconfig\u001b[49m\u001b[38;5;241;43m=\u001b[39;49m\u001b[38;5;28;43mself\u001b[39;49m\u001b[38;5;241;43m.\u001b[39;49m\u001b[43mconfig\u001b[49m\u001b[43m)\u001b[49m\n\u001b[1;32m    639\u001b[0m datestr \u001b[38;5;241m=\u001b[39m datetime\u001b[38;5;241m.\u001b[39mutcnow()\u001b[38;5;241m.\u001b[39mstrftime(\u001b[38;5;124m\"\u001b[39m\u001b[38;5;124m%\u001b[39m\u001b[38;5;124mY\u001b[39m\u001b[38;5;124m%\u001b[39m\u001b[38;5;124mm\u001b[39m\u001b[38;5;132;01m%d\u001b[39;00m\u001b[38;5;124mT\u001b[39m\u001b[38;5;124m%\u001b[39m\u001b[38;5;124mH\u001b[39m\u001b[38;5;124m%\u001b[39m\u001b[38;5;124mM\u001b[39m\u001b[38;5;124m%\u001b[39m\u001b[38;5;124mS\u001b[39m\u001b[38;5;124m\"\u001b[39m)\n\u001b[1;32m    640\u001b[0m \u001b[38;5;28;01mif\u001b[39;00m str2bool(\u001b[38;5;28mself\u001b[39m\u001b[38;5;241m.\u001b[39mconfig[\u001b[38;5;124m\"\u001b[39m\u001b[38;5;124mexecution\u001b[39m\u001b[38;5;124m\"\u001b[39m][\u001b[38;5;124m\"\u001b[39m\u001b[38;5;124mwrite_provenance\u001b[39m\u001b[38;5;124m\"\u001b[39m]):\n",
      "File \u001b[0;32m~/anaconda3/envs/spmbasics/lib/python3.9/site-packages/nipype/pipeline/plugins/base.py:224\u001b[0m, in \u001b[0;36mDistributedPluginBase.run\u001b[0;34m(self, graph, config, updatehash)\u001b[0m\n\u001b[1;32m    218\u001b[0m \u001b[38;5;28;01mif\u001b[39;00m \u001b[38;5;28mlen\u001b[39m(errors) \u001b[38;5;241m>\u001b[39m \u001b[38;5;241m1\u001b[39m:\n\u001b[1;32m    219\u001b[0m     error, cause \u001b[38;5;241m=\u001b[39m (\n\u001b[1;32m    220\u001b[0m         \u001b[38;5;167;01mRuntimeError\u001b[39;00m(\u001b[38;5;124mf\u001b[39m\u001b[38;5;124m\"\u001b[39m\u001b[38;5;132;01m{\u001b[39;00m\u001b[38;5;28mlen\u001b[39m(errors)\u001b[38;5;132;01m}\u001b[39;00m\u001b[38;5;124m raised. Re-raising first.\u001b[39m\u001b[38;5;124m\"\u001b[39m),\n\u001b[1;32m    221\u001b[0m         error,\n\u001b[1;32m    222\u001b[0m     )\n\u001b[0;32m--> 224\u001b[0m \u001b[38;5;28;01mraise\u001b[39;00m error \u001b[38;5;28;01mfrom\u001b[39;00m \u001b[38;5;21;01mcause\u001b[39;00m\n",
      "\u001b[0;31mRuntimeError\u001b[0m: 2 raised. Re-raising first."
     ]
    }
   ],
   "source": [
    "l1analysis.run('MultiProc', plugin_args={'n_procs': 4})"
   ]
  },
  {
   "cell_type": "code",
   "execution_count": 8,
   "metadata": {},
   "outputs": [],
   "source": [
    "grabber =  Node(DataGrabber(infields=['subject_id'],\n",
    "                      outfields=['anat', 'func']),\n",
    "          name='datagrabber')\n",
    "\n",
    "grabber.inputs.base_directory = os.path.join(base_dir, 'MoAEpilot_raw/')\n",
    "\n",
    "grabber.inputs.template = '*'\n",
    "grabber.inputs.sort_filelist = True\n",
    "\n",
    "# specify the template\n",
    "grabber.inputs.template_args = {'anat': [['subject_id']],\n",
    "                           'func': [['subject_id', 'task_name']]}\n",
    "grabber.inputs.field_template = {'anat': 'sub-%02d/anat/*_T1w.nii',\n",
    "                            'func': 'sub-%02d/func/*_task-%s_bold.nii'}\n",
    "\n",
    "grabber.inputs.subject_id = 1\n",
    "grabber.inputs.task_name = \"auditory\""
   ]
  },
  {
   "cell_type": "code",
   "execution_count": 9,
   "metadata": {},
   "outputs": [],
   "source": [
    "realigner = Node(interface=spm.Realign(), name='realign')\n",
    "# realigner.inputs.in_files = func_file\n",
    "realigner.inputs.register_to_mean = True\n",
    "realigner.inputs.fwhm = 5\n",
    "realigner.inputs.interp = 2\n",
    "realigner.inputs.quality = 0.9\n",
    "realigner.inputs.separation = 4\n",
    "realigner.inputs.wrap = [0, 0, 0]\n",
    "realigner.inputs.write_which = [2, 1]\n",
    "realigner.inputs.write_interp = 4 \n",
    "realigner.inputs.write_wrap = [0, 0, 0]\n",
    "realigner.inputs.jobtype = 'estwrite'\n",
    "realigner.inputs.out_prefix = 'r'"
   ]
  },
  {
   "cell_type": "code",
   "execution_count": 10,
   "metadata": {},
   "outputs": [],
   "source": [
    "slicetiming = Node(interface=spm.SliceTiming(), name = 'slicetiming')\n",
    "# st.inputs.in_files = anat_file\n",
    "slicetiming.inputs.num_slices = 64\n",
    "slicetiming.inputs.time_repetition = 7.\n",
    "slicetiming.inputs.time_acquisition = 6.8906\n",
    "slicetiming.inputs.slice_order = list(range(64,0,-1))\n",
    "slicetiming.inputs.ref_slice = 32\n",
    "slicetiming.inputs.out_prefix = 'a'"
   ]
  },
  {
   "cell_type": "code",
   "execution_count": 11,
   "metadata": {},
   "outputs": [],
   "source": [
    "coregister = Node(spm.Coregister(), name=\"coregister\")\n",
    "coregister.inputs.jobtype = 'estimate'\n",
    "coregister.inputs.cost_function = 'nmi'\n",
    "coregister.inputs.fwhm = [7.0, 7.0]\n",
    "coregister.inputs.separation = [4.0, 2.0]\n",
    "coregister.inputs.tolerance = [0.02, 0.02, 0.02, 0.001, 0.001, 0.001, 0.01, 0.01, 0.01, 0.001, 0.001, 0.001]\n",
    "#coregister.inputs.target = './data/preproc/realign/meansub-01_task-auditory_bold.nii'\n",
    "#coregister.inputs.source = './data/MoAEpilot_raw/sub-01/anat/sub-01_T1w.nii'\n",
    "# coregister.inputs.apply_to_files = './data/MoAEpilot_raw/sub-01/anat/sub-01_T1w.nii'"
   ]
  },
  {
   "cell_type": "code",
   "execution_count": 12,
   "metadata": {},
   "outputs": [],
   "source": [
    "tpm_path = os.path.abspath(os.path.join(os.environ['HOME'], 'Documents/MATLAB/spm12/tpm/', 'TPM.nii'))"
   ]
  },
  {
   "cell_type": "code",
   "execution_count": 13,
   "metadata": {},
   "outputs": [
    {
     "name": "stderr",
     "output_type": "stream",
     "text": [
      "stty: 'standard input': Inappropriate ioctl for device\n"
     ]
    }
   ],
   "source": [
    "segment =  Node(spm.NewSegment(), name=\"newsegment\")\n",
    "# seg.inputs.channel_files = '/data/preproc/coregister/sub-01_T1w.nii'\n",
    "#seg.inputs.channel_files = '/data/MoAEpilot_raw/sub-01/anat/sub-01_T1w.nii'\n",
    "segment.inputs.affine_regularization = 'mni'\n",
    "segment.inputs.channel_info = (0.001, 60, (False, True)) #save bias corrected map\n",
    "tissue1 = ((tpm_path, 1), 1, (True, False), (False, False))\n",
    "tissue2 = ((tpm_path, 2), 1, (True, False), (False, False))\n",
    "tissue3 = ((tpm_path, 3), 2, (True, False), (False, False))\n",
    "tissue4 = ((tpm_path, 4), 3, (True, False), (False, False))\n",
    "tissue5 = ((tpm_path, 5), 4, (True, False), (False, False))\n",
    "tissue6 = ((tpm_path, 6), 2, (False, False), (False, False))\n",
    "segment.inputs.tissues = [tissue1, tissue2, tissue3, tissue4, tissue5, tissue6]\n",
    "segment.inputs.warping_regularization = [0, 0.001, 0.5, 0.05, 0.2]\n",
    "segment.inputs.sampling_distance = 3\n",
    "segment.inputs.write_deformation_fields = [False, True] "
   ]
  },
  {
   "cell_type": "code",
   "execution_count": 14,
   "metadata": {},
   "outputs": [],
   "source": [
    "normalize = Node(spm.Normalize12(), name=\"normalize\") #old normalize now\n",
    "#normalize.inputs.deformation_file = '/data/preproc/segment/y_sub-01_T1w.nii'\n",
    "#normalize.inputs.apply_to_files = '/data/preproc/slicetiming/arsub-01_task-auditory_bold.nii'\n",
    "normalize.inputs.jobtype = 'write'\n",
    "normalize.inputs.write_bounding_box =  [[-78, -112, -70], [78, 76, 85]]\n",
    "normalize.inputs.write_voxel_sizes = [3, 3, 3]\n",
    "normalize.inputs.write_interp = 4\n",
    "normalize.inputs.out_prefix = 'w'"
   ]
  },
  {
   "cell_type": "code",
   "execution_count": 15,
   "metadata": {},
   "outputs": [],
   "source": [
    "smooth = Node(spm.Smooth(), name=\"smooth\")\n",
    "# smooth.inputs.in_files = '/data/preproc/normalize/warsub-01_task-auditory_bold.nii'\n",
    "smooth.inputs.fwhm = [6, 6, 6]\n",
    "smooth.inputs.data_type = 0\n",
    "smooth.inputs.implicit_masking = False\n",
    "smooth.inputs.out_prefix = 's'"
   ]
  },
  {
   "cell_type": "code",
   "execution_count": 16,
   "metadata": {},
   "outputs": [],
   "source": [
    "sink = Node(interface=DataSink(),\n",
    "                   name='sink')\n",
    "sink.inputs.base_directory = os.path.join(base_dir, 'output')\n",
    "#sink.inputs.regexp_substitutions = [('_\\w+\\d+', '.')]"
   ]
  },
  {
   "cell_type": "code",
   "execution_count": 17,
   "metadata": {},
   "outputs": [],
   "source": [
    "preproc.connect([(grabber, realigner, [('func', 'in_files')]),\n",
    "                 (realigner, slicetiming, [('realigned_files', 'in_files')]),\n",
    "                 (realigner, coregister, [('mean_image', 'target')]),\n",
    "                 (grabber, coregister, [('anat', 'source')]), \n",
    "                (coregister, segment, [('coregistered_source', 'channel_files')]),\n",
    "                (segment, normalize, [('forward_deformation_field', 'deformation_file')]),\n",
    "                (slicetiming, normalize, [('timecorrected_files', 'apply_to_files')]),\n",
    "                 (normalize, smooth, [('normalized_files', 'in_files')]),\n",
    "])"
   ]
  },
  {
   "cell_type": "code",
   "execution_count": 20,
   "metadata": {},
   "outputs": [
    {
     "name": "stdout",
     "output_type": "stream",
     "text": [
      "240502-18:06:03,463 nipype.workflow INFO:\n",
      "\t Generated workflow graph: /home/matay/spmbasics/data/output/block_preproc0/graph.png (graph2use=colored, simple_form=True).\n"
     ]
    },
    {
     "data": {
      "image/png": "[encoded data removed]",
      "text/plain": [
       "<IPython.core.display.Image object>"
      ]
     },
     "execution_count": 20,
     "metadata": {
      "image/png": {
       "width": 750
      }
     },
     "output_type": "execute_result"
    }
   ],
   "source": [
    "# Create preproc output graph\n",
    "preproc.write_graph(graph2use='colored', format='png', simple_form=True)\n",
    "\n",
    "# Visualize the graph\n",
    "from IPython.display import Image\n",
    "Image(filename='./spmbasics/data/output/block_preproc0/graph.png', width=750)"
   ]
  },
  {
   "cell_type": "code",
   "execution_count": 18,
   "metadata": {},
   "outputs": [
    {
     "name": "stdout",
     "output_type": "stream",
     "text": [
      "240502-18:14:31,602 nipype.workflow INFO:\n",
      "\t Generated workflow graph: /home/matay/spmbasics/data/output/block_preproc1/graph.png (graph2use=flat, simple_form=True).\n"
     ]
    },
    {
     "data": {
      "text/plain": [
       "'/home/matay/spmbasics/data/output/block_preproc1/graph.png'"
      ]
     },
     "execution_count": 18,
     "metadata": {},
     "output_type": "execute_result"
    }
   ],
   "source": [
    "preproc.write_graph(graph2use='flat', format='png', simple_form=True)"
   ]
  },
  {
   "cell_type": "code",
   "execution_count": 19,
   "metadata": {},
   "outputs": [
    {
     "name": "stdout",
     "output_type": "stream",
     "text": [
      "240502-18:14:35,545 nipype.workflow INFO:\n",
      "\t Workflow block_preproc1 settings: ['check', 'execution', 'logging', 'monitoring']\n",
      "240502-18:14:35,549 nipype.workflow INFO:\n",
      "\t Running serially.\n",
      "240502-18:14:35,550 nipype.workflow INFO:\n",
      "\t [Node] Setting-up \"block_preproc1.datagrabber\" in \"/home/matay/spmbasics/data/output/block_preproc1/datagrabber\".\n",
      "240502-18:14:35,552 nipype.workflow INFO:\n",
      "\t [Node] Executing \"datagrabber\" <nipype.interfaces.io.DataGrabber>\n",
      "240502-18:14:35,554 nipype.workflow INFO:\n",
      "\t [Node] Finished \"datagrabber\", elapsed time 0.000876s.\n",
      "240502-18:14:35,557 nipype.workflow INFO:\n",
      "\t [Node] Setting-up \"block_preproc1.realign\" in \"/home/matay/spmbasics/data/output/block_preproc1/realign\".\n",
      "240502-18:14:35,580 nipype.workflow INFO:\n",
      "\t [Node] Executing \"realign\" <nipype.interfaces.spm.preprocess.Realign>\n"
     ]
    },
    {
     "name": "stderr",
     "output_type": "stream",
     "text": [
      "stty: 'standard input': Inappropriate ioctl for device\n"
     ]
    },
    {
     "name": "stdout",
     "output_type": "stream",
     "text": [
      "240502-18:15:06,217 nipype.workflow INFO:\n",
      "\t [Node] Finished \"realign\", elapsed time 23.348648s.\n",
      "240502-18:15:06,222 nipype.workflow INFO:\n",
      "\t [Node] Setting-up \"block_preproc1.slicetiming\" in \"/home/matay/spmbasics/data/output/block_preproc1/slicetiming\".\n",
      "240502-18:15:06,225 nipype.workflow INFO:\n",
      "\t [Node] Executing \"slicetiming\" <nipype.interfaces.spm.preprocess.SliceTiming>\n"
     ]
    },
    {
     "name": "stderr",
     "output_type": "stream",
     "text": [
      "stty: 'standard input': Inappropriate ioctl for device\n"
     ]
    },
    {
     "name": "stdout",
     "output_type": "stream",
     "text": [
      "240502-18:15:19,712 nipype.workflow INFO:\n",
      "\t [Node] Finished \"slicetiming\", elapsed time 13.48703s.\n",
      "240502-18:15:19,716 nipype.workflow INFO:\n",
      "\t [Node] Setting-up \"block_preproc1.coregister\" in \"/home/matay/spmbasics/data/output/block_preproc1/coregister\".\n",
      "240502-18:15:19,722 nipype.workflow INFO:\n",
      "\t [Node] Executing \"coregister\" <nipype.interfaces.spm.preprocess.Coregister>\n"
     ]
    },
    {
     "name": "stderr",
     "output_type": "stream",
     "text": [
      "stty: 'standard input': Inappropriate ioctl for device\n"
     ]
    },
    {
     "name": "stdout",
     "output_type": "stream",
     "text": [
      "240502-18:15:32,454 nipype.workflow INFO:\n",
      "\t [Node] Finished \"coregister\", elapsed time 12.731121s.\n",
      "240502-18:15:32,456 nipype.workflow INFO:\n",
      "\t [Node] Setting-up \"block_preproc1.newsegment\" in \"/home/matay/spmbasics/data/output/block_preproc1/newsegment\".\n",
      "240502-18:15:32,459 nipype.workflow INFO:\n",
      "\t [Node] Executing \"newsegment\" <nipype.interfaces.spm.preprocess.NewSegment>\n"
     ]
    },
    {
     "name": "stderr",
     "output_type": "stream",
     "text": [
      "stty: 'standard input': Inappropriate ioctl for device\n"
     ]
    },
    {
     "name": "stdout",
     "output_type": "stream",
     "text": [
      "240502-18:16:23,5 nipype.workflow INFO:\n",
      "\t [Node] Finished \"newsegment\", elapsed time 50.545137s.\n",
      "240502-18:16:23,11 nipype.workflow INFO:\n",
      "\t [Node] Setting-up \"block_preproc1.normalize\" in \"/home/matay/spmbasics/data/output/block_preproc1/normalize\".\n",
      "240502-18:16:23,30 nipype.workflow INFO:\n",
      "\t [Node] Executing \"normalize\" <nipype.interfaces.spm.preprocess.Normalize12>\n"
     ]
    },
    {
     "name": "stderr",
     "output_type": "stream",
     "text": [
      "stty: 'standard input': Inappropriate ioctl for device\n"
     ]
    },
    {
     "name": "stdout",
     "output_type": "stream",
     "text": [
      "240502-18:16:38,600 nipype.workflow INFO:\n",
      "\t [Node] Finished \"normalize\", elapsed time 15.568788s.\n",
      "240502-18:16:38,609 nipype.workflow INFO:\n",
      "\t [Node] Setting-up \"block_preproc1.smooth\" in \"/home/matay/spmbasics/data/output/block_preproc1/smooth\".\n",
      "240502-18:16:38,611 nipype.workflow INFO:\n",
      "\t [Node] Executing \"smooth\" <nipype.interfaces.spm.preprocess.Smooth>\n"
     ]
    },
    {
     "name": "stderr",
     "output_type": "stream",
     "text": [
      "stty: 'standard input': Inappropriate ioctl for device\n"
     ]
    },
    {
     "name": "stdout",
     "output_type": "stream",
     "text": [
      "240502-18:16:50,11 nipype.workflow INFO:\n",
      "\t [Node] Finished \"smooth\", elapsed time 11.398597s.\n"
     ]
    },
    {
     "name": "stderr",
     "output_type": "stream",
     "text": [
      "stty: 'standard input': Inappropriate ioctl for device\n"
     ]
    },
    {
     "data": {
      "text/plain": [
       "<networkx.classes.digraph.DiGraph at 0x7f7896e78bb0>"
      ]
     },
     "execution_count": 19,
     "metadata": {},
     "output_type": "execute_result"
    }
   ],
   "source": [
    "preproc.run()"
   ]
  },
  {
   "cell_type": "markdown",
   "metadata": {},
   "source": [
    "### first level analysis"
   ]
  },
  {
   "cell_type": "code",
   "execution_count": null,
   "metadata": {},
   "outputs": [],
   "source": []
  }
 ],
 "metadata": {
  "anaconda-cloud": {},
  "kernelspec": {
   "display_name": "Python 3 (ipykernel)",
   "language": "python",
   "name": "python3"
  },
  "language_info": {
   "codemirror_mode": {
    "name": "ipython",
    "version": 3
   },
   "file_extension": ".py",
   "mimetype": "text/x-python",
   "name": "python",
   "nbconvert_exporter": "python",
   "pygments_lexer": "ipython3",
   "version": "3.9.18"
  }
 },
 "nbformat": 4,
 "nbformat_minor": 4
}
