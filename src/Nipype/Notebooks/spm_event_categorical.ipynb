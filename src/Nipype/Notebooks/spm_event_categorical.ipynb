{
 "cells": [
  {
   "cell_type": "markdown",
   "metadata": {},
   "source": [
    "## Categorical Modelling"
   ]
  },
  {
   "cell_type": "code",
   "execution_count": 1,
   "metadata": {},
   "outputs": [],
   "source": [
    "from nilearn import plotting\n",
    "%matplotlib inline\n",
    "import os\n",
    "import json\n",
    "from nipype.interfaces import fsl \n",
    "from nipype.interfaces import spm\n",
    "from nipype.interfaces.spm import (Realign, SliceTiming, Coregister,  NewSegment,  Normalize12, Smooth)\n",
    "from nipype.interfaces.spm import Level1Design, EstimateModel, EstimateContrast\n",
    "from nipype.algorithms.modelgen import SpecifySPMModel\n",
    "from nipype.interfaces import matlab as mlab\n",
    "from nipype.interfaces.io import SelectFiles, DataSink\n",
    "import nipype.interfaces.utility as util \n",
    "from nipype.algorithms import rapidart as ra\n",
    "from nipype.interfaces.utility import Function, IdentityInterface\n",
    "import nipype.pipeline.engine as pe\n",
    "import nipype.interfaces.io as nio\n",
    "from nipype.interfaces.base import Bunch\n",
    "from nipype import DataGrabber, Workflow, Node\n",
    "from scipy.io.matlab import loadmat"
   ]
  },
  {
   "cell_type": "code",
   "execution_count": 2,
   "metadata": {},
   "outputs": [],
   "source": [
    "# necessary to let nipype know about matlab path"
   ]
  },
  {
   "cell_type": "code",
   "execution_count": 3,
   "metadata": {},
   "outputs": [
    {
     "name": "stderr",
     "output_type": "stream",
     "text": [
      "stty: 'standard input': Inappropriate ioctl for device\n"
     ]
    }
   ],
   "source": [
    "spm.SPMCommand.set_mlab_paths(paths=os.path.abspath(os.path.join(os.environ['HOME'], 'Documents/MATLAB/spm12/')), matlab_cmd='/soft/matlab_hd/R2020b/bin/glnxa64/MATLAB -nodesktop -nosplash')"
   ]
  },
  {
   "cell_type": "code",
   "execution_count": 4,
   "metadata": {},
   "outputs": [],
   "source": [
    "mlab.MatlabCommand.set_default_matlab_cmd(\"/soft/matlab_hd/R2020b/bin/glnxa64/MATLAB  -nodesktop -nosplash\")\n",
    "mlab.MatlabCommand.set_default_paths(os.path.abspath(os.path.join(os.environ['HOME'], 'Documents/MATLAB/spm12/')))"
   ]
  },
  {
   "cell_type": "code",
   "execution_count": 5,
   "metadata": {},
   "outputs": [],
   "source": [
    "# spm.SPMCommand().version"
   ]
  },
  {
   "cell_type": "code",
   "execution_count": 6,
   "metadata": {},
   "outputs": [],
   "source": [
    "fsl.FSLCommand.set_default_output_type('NIFTI')"
   ]
  },
  {
   "cell_type": "code",
   "execution_count": 7,
   "metadata": {},
   "outputs": [],
   "source": [
    "base_dir = os.path.join(os.environ['HOME'], 'spmbasics/data/')"
   ]
  },
  {
   "cell_type": "code",
   "execution_count": 8,
   "metadata": {},
   "outputs": [],
   "source": [
    "experiment_dir = os.path.join(base_dir, 'output')\n",
    "data_dir = os.path.abspath(os.path.join(base_dir, 'face_rep'))\n",
    "output_dir = 'nipype'\n",
    "working_dir = 'workingdir'\n",
    "\n",
    "# list of subject identifiers\n",
    "subject_list = ['M03953']\n",
    "\n",
    "# TR of functional images\n",
    "TR = 2.\n",
    "\n",
    "\n",
    "# Smoothing width used during preprocessing\n",
    "fwhm = [8]"
   ]
  },
  {
   "cell_type": "code",
   "execution_count": 9,
   "metadata": {},
   "outputs": [],
   "source": [
    "# add how to refer sots"
   ]
  },
  {
   "cell_type": "code",
   "execution_count": 10,
   "metadata": {},
   "outputs": [],
   "source": [
    "#mat0 = mat = loadmat(os.path.join(data_dir, \"sots.mat\"), mat_dtype=True, matlab_compatible=True, struct_as_record=True)"
   ]
  },
  {
   "cell_type": "markdown",
   "metadata": {},
   "source": [
    "NOT WORKING: https://nipype.readthedocs.io/en/latest/users/examples/fmri_spm_face.html"
   ]
  },
  {
   "cell_type": "code",
   "execution_count": 11,
   "metadata": {},
   "outputs": [],
   "source": [
    "#from scipy.io.matlab import loadmat\n",
    "#mat = loadmat(os.path.join(data_dir, \"sots.mat\"), struct_as_record=False)\n",
    "#sot = mat['sot'][0]\n",
    "#itemlag = mat['itemlag'][0]\n",
    "\n",
    "#subjectinfo = [\n",
    "#    Bunch(\n",
    "#        conditions=['N1', 'N2', 'F1', 'F2'],\n",
    "#        onsets=[sot[0], sot[1], sot[2], sot[3]],\n",
    "#        durations=[[0], [0], [0], [0]],\n",
    "#        amplitudes=None,\n",
    "#        tmod=None,\n",
    "#        pmod=None,\n",
    "#        regressor_names=None,\n",
    "#        regressors=None)\n",
    "#]"
   ]
  },
  {
   "cell_type": "code",
   "execution_count": 12,
   "metadata": {},
   "outputs": [],
   "source": [
    "mat = loadmat(os.path.join(data_dir, \"sots.mat\"), mat_dtype=True, matlab_compatible=True, struct_as_record=True, simplify_cells=True)\n",
    "#sot = mat['sot'][1]\n",
    "\n",
    "#itemlag = mat['itemlag'][0]\n",
    "#onsets=[sot[0], sot[1], sot[2], sot[3]],\n"
   ]
  },
  {
   "cell_type": "code",
   "execution_count": 13,
   "metadata": {},
   "outputs": [],
   "source": [
    "mat = loadmat(os.path.join(data_dir, \"sots.mat\"), mat_dtype=True, matlab_compatible=True, struct_as_record=True, simplify_cells=True)\n",
    "subjectinfo = [\n",
    "    Bunch(\n",
    "        conditions=['N1', 'N2', 'F1', 'F2'],\n",
    "        onsets=[ mat['sot'][0], mat['sot'][1],  mat['sot'][2],  mat['sot'][3]],\n",
    "        durations=[[0], [0], [0], [0]],\n",
    "        amplitudes=None,\n",
    "        tmod=None,\n",
    "        pmod=None,\n",
    "        regressor_names=None,\n",
    "        regressors=None)\n",
    "]"
   ]
  },
  {
   "cell_type": "code",
   "execution_count": 14,
   "metadata": {},
   "outputs": [],
   "source": [
    "# design matrix setting"
   ]
  },
  {
   "cell_type": "code",
   "execution_count": 15,
   "metadata": {},
   "outputs": [],
   "source": [
    "cond1 = ('positive effect of condition', 'T',\n",
    "         ['N1', 'N2', 'F1', 'F2'], [1, 1, 1, 1])\n",
    "cond2 = ('positive effect of condition_dtemo', 'T',\n",
    "          ['N1', 'N2', 'F1', 'F2'], [1, 1, 1, 1])\n",
    "cond3 = ('positive effect of condition_ddisp', 'T',\n",
    "          ['N1', 'N2', 'F1', 'F2'], [1, 1, 1, 1])\n",
    "# non-famous > famous\n",
    "fam1 = ('positive effect of Fame', 'T',\n",
    "        ['N1', 'N2', 'F1', 'F2'], [1, 1, -1, -1])\n",
    "fam2 = ('positive effect of Fame_dtemp', 'T',\n",
    "        ['N1', 'N2', 'F1', 'F2'], [1, 1, -1, -1])\n",
    "fam3 = ('positive effect of Fame_ddisp', 'T',\n",
    "        ['N1', 'N2', 'F1', 'F2'], [1, 1, -1, -1])\n",
    "# rep1 > rep2\n",
    "rep1 = ('positive effect of Rep', 'T',\n",
    "        ['N1', 'N2', 'F1', 'F2'], [1, -1, 1, -1])\n",
    "rep2 = ('positive effect of Rep_dtemp', 'T',\n",
    "        ['N1', 'N2', 'F1', 'F2'], [1, -1, 1, -1])\n",
    "rep3 = ('positive effect of Rep_ddisp', 'T',\n",
    "        ['N1', 'N2', 'F1', 'F2'], [1, -1, 1, -1])\n",
    "int1 = ('positive interaction of Fame x Rep', 'T',\n",
    "        ['N1', 'N2', 'F1', 'F2'], [-1, -1, -1, 1])\n",
    "int2 = ('positive interaction of Fame x Rep_dtemp', 'T',\n",
    "        ['N1', 'N2', 'F1', 'F2'], [1, -1, -1, 1])\n",
    "int3 = ('positive interaction of Fame x Rep_ddisp', 'T',\n",
    "        ['N1', 'N2', 'F1', 'F2'], [1, -1, -1, 1])\n",
    "\n",
    "contf1 = ['average effect condition', 'F', [cond1, cond2, cond3]]\n",
    "contf2 = ['main effect Fam', 'F', [fam1, fam2, fam3]]\n",
    "contf3 = ['main effect Rep', 'F', [rep1, rep2, rep3]]\n",
    "contf4 = ['interaction: Fam x Rep', 'F', [int1, int2, int3]]\n",
    "contrast_list = [\n",
    "    cond1, cond2, cond3, fam1, fam2, fam3, rep1, rep2, rep3, int1, int2, int3,\n",
    "    contf1, contf2, contf3, contf4\n",
    "]"
   ]
  },
  {
   "cell_type": "code",
   "execution_count": 16,
   "metadata": {},
   "outputs": [],
   "source": [
    "# SpecifyModel - Generates SPM-specific Model\n",
    "specifymodel = Node(SpecifySPMModel(concatenate_runs=False,\n",
    "                                 input_units='scans',\n",
    "                                 output_units='scans',\n",
    "                                 time_repetition=TR,\n",
    "                                 high_pass_filter_cutoff=128,\n",
    "                                 subject_info = subjectinfo),\n",
    "                 name=\"specifymodel\")\n",
    "\n",
    "# Level1Design - Generates an SPM design matrix same as the first level tutorial\n",
    "eventcategorical = Node(Level1Design(bases={'hrf': {'derivs': [1, 1]}},\n",
    "                                 timing_units='scans',\n",
    "                                 interscan_interval=TR,\n",
    "                                 volterra_expansion_order=1, # no model interction\n",
    "                                 flags={'mthresh': 0.8},\n",
    "                                 global_intensity_normalization='none',\n",
    "                                 microtime_onset=12,\n",
    "                                 microtime_resolution=24,\n",
    "                                 #factor_info = [dict(name = 'Fame', levels = 2), # figure out factorized output names\n",
    "                                 #               dict(name = 'Rep', levels = 2)],\n",
    "                                 model_serial_correlations='AR(1)'), #matlabbatch{1}.spm.stats.fmri_spec.cvi = 'AR(1)';\n",
    "                    name=\"eventcategorical\")\n",
    "\n",
    "# EstimateModel - estimate the parameters of the model\n",
    "categoricalestimate = Node(EstimateModel(estimation_method={'Classical': 1}),\n",
    "                      write_residuals=False, \n",
    "                      name=\"categoricalestimate\")\n",
    "\n",
    "# EstimateContrast - estimates contrasts\n",
    "categoricalconest = Node(EstimateContrast(contrasts = contrast_list),\n",
    "                    use_derivs=True, \n",
    "                    name=\"categoricalconest\")"
   ]
  },
  {
   "cell_type": "code",
   "execution_count": 17,
   "metadata": {},
   "outputs": [],
   "source": [
    "# Infosource - a function free node to iterate over the list of subject names\n",
    "infosource = Node(IdentityInterface(fields=['subject_id',\n",
    "                                            'contrasts'],\n",
    "                                    contrasts=contrast_list),\n",
    "                  name=\"infosource\")\n",
    "infosource.iterables = [('subject_id', subject_list)]\n",
    "\n",
    "\n",
    "templates = {'func': os.path.join(output_dir, 'event_preproc', '_subject_id_{subject_id}',\n",
    "                         'swars{subject_id}_0005_*.img'),#sM03953_0005_*.img\n",
    "             'mc_param': os.path.join(output_dir, 'event_preproc', '_subject_id_{subject_id}',\n",
    "                         'rp_s{subject_id}_0005_0006.txt')}\n",
    "selectfiles = Node(SelectFiles(templates,\n",
    "                               base_directory=experiment_dir,\n",
    "                               sort_filelist=True),\n",
    "                   name=\"selectfiles\")\n",
    "\n",
    "# Datasink - creates output folder for important outputs\n",
    "datasink = Node(DataSink(base_directory=experiment_dir,\n",
    "                         container=output_dir),\n",
    "                name=\"datasink\")"
   ]
  },
  {
   "cell_type": "code",
   "execution_count": 18,
   "metadata": {},
   "outputs": [],
   "source": [
    "def makelist(item):\n",
    "    return [item] # look how similar thing incoorporated."
   ]
  },
  {
   "cell_type": "code",
   "execution_count": 20,
   "metadata": {},
   "outputs": [],
   "source": [
    "# Initiation of the 1st-level analysis workflow\n",
    "event_cat = Workflow(name='event_cat')\n",
    "event_cat.base_dir = os.path.join(experiment_dir, working_dir)\n",
    "\n",
    "# Connect up the 1st-level analysis components\n",
    "event_cat.connect([(infosource, selectfiles, [('subject_id', 'subject_id')]),\n",
    "                    (infosource, categoricalconest, [('contrasts', 'contrasts')]),\n",
    "                    (selectfiles, specifymodel, [(('func', makelist),  'functional_runs')]), # [(('smooth.smoothed_files',makelist), 'modelspec.functional_runs')])])\n",
    "\n",
    "                    (selectfiles, specifymodel, [('mc_param', 'realignment_parameters')]),\n",
    "                    (specifymodel, eventcategorical, [('session_info','session_info')]),\n",
    "                    (eventcategorical, categoricalestimate, [('spm_mat_file','spm_mat_file')]),                    \n",
    "                    (categoricalestimate, categoricalconest, [('spm_mat_file','spm_mat_file'),\n",
    "                                                              ('beta_images','beta_images'),\n",
    "                                                              ('residual_image', 'residual_image')]),\n",
    "                    (categoricalestimate, datasink, [('mask_image','event_cat.@mask_image'),\n",
    "                                                    ('beta_images','event_cat.@beta_images'),\n",
    "                                                    ('residual_images','event_cat.@residual_images'),\n",
    "                                                    ('residual_image','event_cat.@residual_image'),\n",
    "                                                    ('RPVimage', 'event_cat.@RPVimage')]),\n",
    "                    (categoricalconest, datasink, [('spm_mat_file', 'event_cat.@spm_mat'),\n",
    "                                                   ('spmT_images', 'event_cat.@T'),\n",
    "                                                   ('con_images', 'event_cat.@con'),\n",
    "                                                   ('spmF_images', 'event_cat.@F'),\n",
    "                                                   ('ess_images', 'event_cat.@ess')]),\n",
    "                    ])"
   ]
  },
  {
   "cell_type": "code",
   "execution_count": 21,
   "metadata": {},
   "outputs": [
    {
     "name": "stdout",
     "output_type": "stream",
     "text": [
      "240528-10:41:56,222 nipype.workflow INFO:\n",
      "\t Generated workflow graph: /home/matay/spmbasics/data/output/workingdir/event_cat/colored_cat.png (graph2use=colored, simple_form=True).\n"
     ]
    },
    {
     "data": {
      "text/plain": [
       "'/home/matay/spmbasics/data/output/workingdir/event_cat/colored_cat.png'"
      ]
     },
     "execution_count": 21,
     "metadata": {},
     "output_type": "execute_result"
    }
   ],
   "source": [
    "event_cat.write_graph(graph2use='colored', format='png', dotfilename='colored_cat.dot', simple_form=True)"
   ]
  },
  {
   "cell_type": "code",
   "execution_count": 22,
   "metadata": {},
   "outputs": [
    {
     "name": "stdout",
     "output_type": "stream",
     "text": [
      "240528-10:41:57,597 nipype.workflow INFO:\n",
      "\t Generated workflow graph: /home/matay/spmbasics/data/output/workingdir/event_cat/flat_cat.png (graph2use=flat, simple_form=True).\n"
     ]
    },
    {
     "data": {
      "text/plain": [
       "'/home/matay/spmbasics/data/output/workingdir/event_cat/flat_cat.png'"
      ]
     },
     "execution_count": 22,
     "metadata": {},
     "output_type": "execute_result"
    }
   ],
   "source": [
    "event_cat.write_graph(graph2use='flat', format='png', dotfilename='flat_cat.dot', simple_form=True)"
   ]
  },
  {
   "cell_type": "code",
   "execution_count": 23,
   "metadata": {},
   "outputs": [
    {
     "data": {
      "image/png": "[encoded data removed]",
      "text/plain": [
       "<IPython.core.display.Image object>"
      ]
     },
     "execution_count": 23,
     "metadata": {},
     "output_type": "execute_result"
    }
   ],
   "source": [
    "# Visualize the graph\n",
    "from IPython.display import Image\n",
    "Image(filename=os.path.join(event_cat.base_dir, 'event_cat', 'colored_cat.png'))"
   ]
  },
  {
   "cell_type": "code",
   "execution_count": 24,
   "metadata": {},
   "outputs": [
    {
     "name": "stdout",
     "output_type": "stream",
     "text": [
      "240528-10:42:02,390 nipype.workflow INFO:\n",
      "\t Workflow event_cat settings: ['check', 'execution', 'logging', 'monitoring']\n",
      "240528-10:42:02,397 nipype.workflow INFO:\n",
      "\t Running in parallel.\n",
      "240528-10:42:02,398 nipype.workflow INFO:\n",
      "\t [MultiProc] Running 0 tasks, and 1 jobs ready. Free memory (GB): 13.77/13.77, Free processors: 4/4.\n",
      "240528-10:42:02,471 nipype.workflow INFO:\n",
      "\t [Node] Setting-up \"event_cat.selectfiles\" in \"/home/matay/spmbasics/data/output/workingdir/event_cat/_subject_id_M03953/selectfiles\".\n",
      "240528-10:42:02,479 nipype.workflow INFO:\n",
      "\t [Node] Executing \"selectfiles\" <nipype.interfaces.io.SelectFiles>\n",
      "240528-10:42:02,490 nipype.workflow INFO:\n",
      "\t [Node] Finished \"selectfiles\", elapsed time 0.008862s.\n",
      "240528-10:42:04,403 nipype.workflow INFO:\n",
      "\t [Job 0] Completed (event_cat.selectfiles).\n",
      "240528-10:42:04,408 nipype.workflow INFO:\n",
      "\t [MultiProc] Running 0 tasks, and 1 jobs ready. Free memory (GB): 13.77/13.77, Free processors: 4/4.\n",
      "240528-10:42:04,480 nipype.workflow INFO:\n",
      "\t [Node] Setting-up \"event_cat.specifymodel\" in \"/home/matay/spmbasics/data/output/workingdir/event_cat/_subject_id_M03953/specifymodel\".\n",
      "240528-10:42:04,527 nipype.workflow INFO:\n",
      "\t [Node] Executing \"specifymodel\" <nipype.algorithms.modelgen.SpecifySPMModel>\n",
      "240528-10:42:04,530 nipype.workflow INFO:\n",
      "\t [Node] Finished \"specifymodel\", elapsed time 0.001367s.\n",
      "240528-10:42:06,404 nipype.workflow INFO:\n",
      "\t [Job 1] Completed (event_cat.specifymodel).\n",
      "240528-10:42:06,408 nipype.workflow INFO:\n",
      "\t [MultiProc] Running 0 tasks, and 1 jobs ready. Free memory (GB): 13.77/13.77, Free processors: 4/4.\n",
      "240528-10:42:06,477 nipype.workflow INFO:\n",
      "\t [Node] Setting-up \"event_cat.eventcategorical\" in \"/home/matay/spmbasics/data/output/workingdir/event_cat/_subject_id_M03953/eventcategorical\".\n",
      "240528-10:42:06,511 nipype.workflow INFO:\n",
      "\t [Node] Executing \"eventcategorical\" <nipype.interfaces.spm.model.Level1Design>\n",
      "240528-10:42:08,405 nipype.workflow INFO:\n",
      "\t [MultiProc] Running 1 tasks, and 0 jobs ready. Free memory (GB): 13.57/13.77, Free processors: 3/4.\n",
      "                     Currently running:\n",
      "                       * event_cat.eventcategorical\n"
     ]
    },
    {
     "name": "stderr",
     "output_type": "stream",
     "text": [
      "stty: 'standard input': Inappropriate ioctl for device\n"
     ]
    },
    {
     "name": "stdout",
     "output_type": "stream",
     "text": [
      "240528-10:42:25,434 nipype.workflow INFO:\n",
      "\t [Node] Finished \"eventcategorical\", elapsed time 12.455252s.\n"
     ]
    },
    {
     "name": "stderr",
     "output_type": "stream",
     "text": [
      "stty: 'standard input': Inappropriate ioctl for device\n"
     ]
    },
    {
     "name": "stdout",
     "output_type": "stream",
     "text": [
      "240528-10:42:26,424 nipype.workflow INFO:\n",
      "\t [Job 2] Completed (event_cat.eventcategorical).\n",
      "240528-10:42:26,429 nipype.workflow INFO:\n",
      "\t [MultiProc] Running 0 tasks, and 1 jobs ready. Free memory (GB): 13.77/13.77, Free processors: 4/4.\n",
      "240528-10:42:26,496 nipype.workflow INFO:\n",
      "\t [Node] Setting-up \"event_cat.categoricalestimate\" in \"/home/matay/spmbasics/data/output/workingdir/event_cat/_subject_id_M03953/categoricalestimate\".\n",
      "240528-10:42:26,502 nipype.workflow INFO:\n",
      "\t [Node] Executing \"categoricalestimate\" <nipype.interfaces.spm.model.EstimateModel>\n",
      "240528-10:42:28,425 nipype.workflow INFO:\n",
      "\t [MultiProc] Running 1 tasks, and 0 jobs ready. Free memory (GB): 13.57/13.77, Free processors: 3/4.\n",
      "                     Currently running:\n",
      "                       * event_cat.categoricalestimate\n"
     ]
    },
    {
     "name": "stderr",
     "output_type": "stream",
     "text": [
      "stty: 'standard input': Inappropriate ioctl for device\n"
     ]
    },
    {
     "name": "stdout",
     "output_type": "stream",
     "text": [
      "240528-10:42:49,577 nipype.workflow INFO:\n",
      "\t [Node] Finished \"categoricalestimate\", elapsed time 17.331593s.\n"
     ]
    },
    {
     "name": "stderr",
     "output_type": "stream",
     "text": [
      "stty: 'standard input': Inappropriate ioctl for device\n"
     ]
    },
    {
     "name": "stdout",
     "output_type": "stream",
     "text": [
      "240528-10:42:50,448 nipype.workflow INFO:\n",
      "\t [Job 3] Completed (event_cat.categoricalestimate).\n",
      "240528-10:42:50,452 nipype.workflow INFO:\n",
      "\t [MultiProc] Running 0 tasks, and 1 jobs ready. Free memory (GB): 13.77/13.77, Free processors: 4/4.\n",
      "240528-10:42:50,510 nipype.workflow INFO:\n",
      "\t [Node] Setting-up \"event_cat.categoricalconest\" in \"/home/matay/spmbasics/data/output/workingdir/event_cat/_subject_id_M03953/categoricalconest\".\n",
      "240528-10:42:50,534 nipype.workflow INFO:\n",
      "\t [Node] Executing \"categoricalconest\" <nipype.interfaces.spm.model.EstimateContrast>\n",
      "240528-10:42:52,450 nipype.workflow INFO:\n",
      "\t [MultiProc] Running 1 tasks, and 0 jobs ready. Free memory (GB): 13.57/13.77, Free processors: 3/4.\n",
      "                     Currently running:\n",
      "                       * event_cat.categoricalconest\n"
     ]
    },
    {
     "name": "stderr",
     "output_type": "stream",
     "text": [
      "stty: 'standard input': Inappropriate ioctl for device\n"
     ]
    },
    {
     "name": "stdout",
     "output_type": "stream",
     "text": [
      "240528-10:43:10,412 nipype.workflow INFO:\n",
      "\t [Node] Finished \"categoricalconest\", elapsed time 12.873159s.\n",
      "240528-10:43:10,466 nipype.workflow INFO:\n",
      "\t [Job 4] Completed (event_cat.categoricalconest).\n",
      "240528-10:43:10,470 nipype.workflow INFO:\n",
      "\t [MultiProc] Running 0 tasks, and 1 jobs ready. Free memory (GB): 13.77/13.77, Free processors: 4/4.\n",
      "240528-10:43:10,548 nipype.workflow INFO:\n",
      "\t [Node] Setting-up \"event_cat.datasink\" in \"/home/matay/spmbasics/data/output/workingdir/event_cat/_subject_id_M03953/datasink\".\n",
      "240528-10:43:10,558 nipype.workflow INFO:\n",
      "\t [Node] Executing \"datasink\" <nipype.interfaces.io.DataSink>\n"
     ]
    },
    {
     "name": "stderr",
     "output_type": "stream",
     "text": [
      "stty: 'standard input': Inappropriate ioctl for device\n"
     ]
    },
    {
     "name": "stdout",
     "output_type": "stream",
     "text": [
      "240528-10:43:10,565 nipype.workflow INFO:\n",
      "\t [Node] Finished \"datasink\", elapsed time 0.005288s.\n",
      "240528-10:43:12,468 nipype.workflow INFO:\n",
      "\t [Job 5] Completed (event_cat.datasink).\n",
      "240528-10:43:12,472 nipype.workflow INFO:\n",
      "\t [MultiProc] Running 0 tasks, and 0 jobs ready. Free memory (GB): 13.77/13.77, Free processors: 4/4.\n"
     ]
    },
    {
     "data": {
      "text/plain": [
       "<networkx.classes.digraph.DiGraph at 0x7fb636006040>"
      ]
     },
     "execution_count": 24,
     "metadata": {},
     "output_type": "execute_result"
    }
   ],
   "source": [
    "event_cat.run('MultiProc', plugin_args={'n_procs': 4})"
   ]
  },
  {
   "cell_type": "code",
   "execution_count": null,
   "metadata": {},
   "outputs": [],
   "source": []
  }
 ],
 "metadata": {
  "anaconda-cloud": {},
  "kernelspec": {
   "display_name": "Python 3 (ipykernel)",
   "language": "python",
   "name": "python3"
  },
  "language_info": {
   "codemirror_mode": {
    "name": "ipython",
    "version": 3
   },
   "file_extension": ".py",
   "mimetype": "text/x-python",
   "name": "python",
   "nbconvert_exporter": "python",
   "pygments_lexer": "ipython3",
   "version": "3.9.18"
  }
 },
 "nbformat": 4,
 "nbformat_minor": 4
}
