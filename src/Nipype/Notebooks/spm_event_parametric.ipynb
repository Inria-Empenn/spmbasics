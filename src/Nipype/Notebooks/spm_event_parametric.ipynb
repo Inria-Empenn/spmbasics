{
 "cells": [
  {
   "cell_type": "markdown",
   "metadata": {},
   "source": [
    "## Preprocessing"
   ]
  },
  {
   "cell_type": "code",
   "execution_count": 1,
   "metadata": {},
   "outputs": [],
   "source": [
    "from nilearn import plotting\n",
    "%matplotlib inline\n",
    "import os\n",
    "import json\n",
    "from nipype.interfaces import fsl \n",
    "from nipype.interfaces import spm\n",
    "from nipype.interfaces.spm import (Realign, SliceTiming, Coregister,  NewSegment,  Normalize12, Smooth)\n",
    "from nipype.interfaces.spm import Level1Design, EstimateModel, EstimateContrast\n",
    "from nipype.algorithms.modelgen import SpecifySPMModel\n",
    "from nipype.interfaces import matlab as mlab\n",
    "from nipype.interfaces.io import SelectFiles, DataSink\n",
    "import nipype.interfaces.utility as util \n",
    "from nipype.algorithms import rapidart as ra\n",
    "from nipype.interfaces.utility import Function, IdentityInterface\n",
    "import nipype.pipeline.engine as pe\n",
    "import nipype.interfaces.io as nio\n",
    "from nipype.interfaces.base import Bunch\n",
    "from nipype import DataGrabber, Workflow, Node\n",
    "from scipy.io.matlab import loadmat"
   ]
  },
  {
   "cell_type": "code",
   "execution_count": 2,
   "metadata": {},
   "outputs": [],
   "source": [
    "# necessary to let nipype know about matlab path"
   ]
  },
  {
   "cell_type": "code",
   "execution_count": 3,
   "metadata": {},
   "outputs": [
    {
     "name": "stderr",
     "output_type": "stream",
     "text": [
      "stty: 'standard input': Inappropriate ioctl for device\n"
     ]
    }
   ],
   "source": [
    "spm.SPMCommand.set_mlab_paths(paths=os.path.abspath(os.path.join(os.environ['HOME'], 'Documents/MATLAB/spm12/')), matlab_cmd='/soft/matlab_hd/R2020b/bin/glnxa64/MATLAB -nodesktop -nosplash')"
   ]
  },
  {
   "cell_type": "code",
   "execution_count": 4,
   "metadata": {},
   "outputs": [],
   "source": [
    "mlab.MatlabCommand.set_default_matlab_cmd(\"/soft/matlab_hd/R2020b/bin/glnxa64/MATLAB  -nodesktop -nosplash\")\n",
    "mlab.MatlabCommand.set_default_paths(os.path.abspath(os.path.join(os.environ['HOME'], 'Documents/MATLAB/spm12/')))"
   ]
  },
  {
   "cell_type": "code",
   "execution_count": 5,
   "metadata": {},
   "outputs": [],
   "source": [
    "# spm.SPMCommand().version"
   ]
  },
  {
   "cell_type": "code",
   "execution_count": 6,
   "metadata": {},
   "outputs": [],
   "source": [
    "fsl.FSLCommand.set_default_output_type('NIFTI')"
   ]
  },
  {
   "cell_type": "code",
   "execution_count": 7,
   "metadata": {},
   "outputs": [],
   "source": [
    "base_dir = os.path.join(os.environ['HOME'], 'spmbasics/data/')"
   ]
  },
  {
   "cell_type": "code",
   "execution_count": 8,
   "metadata": {},
   "outputs": [],
   "source": [
    "experiment_dir = os.path.join(base_dir, 'output')\n",
    "data_dir = os.path.abspath(os.path.join(base_dir, 'face_rep'))\n",
    "output_dir = 'datasink'\n",
    "working_dir = 'workingdir'\n",
    "\n",
    "# list of subject identifiers\n",
    "subject_list = ['M03953']\n",
    "\n",
    "# TR of functional images\n",
    "TR = 2.\n",
    "\n",
    "\n",
    "# Smoothing width used during preprocessing\n",
    "fwhm = [8]"
   ]
  },
  {
   "cell_type": "code",
   "execution_count": 9,
   "metadata": {},
   "outputs": [],
   "source": [
    "# add how to refer sots"
   ]
  },
  {
   "cell_type": "code",
   "execution_count": 10,
   "metadata": {},
   "outputs": [],
   "source": [
    "#mat0 = mat = loadmat(os.path.join(data_dir, \"sots.mat\"), mat_dtype=True, matlab_compatible=True, struct_as_record=True)"
   ]
  },
  {
   "cell_type": "code",
   "execution_count": 11,
   "metadata": {},
   "outputs": [],
   "source": [
    "mat = loadmat(os.path.join(data_dir, \"sots.mat\"), mat_dtype=True, matlab_compatible=True, struct_as_record=True, simplify_cells=True)\n",
    "#sot = mat['sot'][1]\n",
    "\n",
    "#itemlag = mat['itemlag'][0]\n",
    "#onsets=[sot[0], sot[1], sot[2], sot[3]],\n",
    "itemlag = mat['itemlag']"
   ]
  },
  {
   "cell_type": "code",
   "execution_count": 23,
   "metadata": {},
   "outputs": [
    {
     "name": "stdout",
     "output_type": "stream",
     "text": [
      "{'__header__': b'MATLAB 5.0 MAT-file, Platform: GLNX86, Created on: Wed Jun  4 11:58:02 2008', '__version__': '1.0', '__globals__': [], 'itemlag': array([array([], dtype=float64),\n",
      "       array([ 3.,  3., 10., 10., 14.,  1., 23.,  3.,  3., 37., 10., 42., 61.,\n",
      "              33., 27., 61., 28., 22., 39., 37., 62., 37., 20., 54., 34., 50.]),\n",
      "       array([], dtype=float64),\n",
      "       array([11., 14.,  2., 47., 36., 18., 37., 59., 11., 56., 33.,  4., 57.,\n",
      "              18., 59., 55., 46., 61.,  4., 67.,  9., 63., 13., 19., 42.,  1.])],\n",
      "      dtype=object), 'sot': array([array([  6.74996667,  15.74996667,  17.99996667,  26.99996667,\n",
      "               29.24996667,  31.49996667,  35.99996667,  42.74996667,\n",
      "               65.24996667,  67.49996667,  74.24996667,  92.24996667,\n",
      "              112.49996667, 119.24996667, 123.74996667, 125.99996667,\n",
      "              137.24996667, 141.74996667, 143.99996667, 146.24996667,\n",
      "              155.24996667, 159.74996667, 161.99996667, 164.24996667,\n",
      "              204.74996667, 238.49996667])                           ,\n",
      "       array([ 13.49996667,  40.49996667,  47.24996667,  56.24996667,\n",
      "               89.99996667,  94.49996667,  96.74996667, 134.99996667,\n",
      "              148.49996667, 184.49996667, 191.24996667, 202.49996667,\n",
      "              215.99996667, 233.99996667, 236.24996667, 242.99996667,\n",
      "              245.24996667, 256.49996667, 260.99996667, 281.24996667,\n",
      "              290.24996667, 303.74996667, 310.49996667, 319.49996667,\n",
      "              339.74996667, 341.99996667])                           ,\n",
      "       array([-3.33333333e-05,  2.24996667e+00,  8.99996667e+00,  1.12499667e+01,\n",
      "               2.24999667e+01,  4.49999667e+01,  5.17499667e+01,  6.07499667e+01,\n",
      "               6.29999667e+01,  7.64999667e+01,  7.87499667e+01,  8.54999667e+01,\n",
      "               9.89999667e+01,  1.01249967e+02,  1.03499967e+02,  1.16999967e+02,\n",
      "               1.30499967e+02,  1.50749967e+02,  1.70999967e+02,  1.88999967e+02,\n",
      "               2.27249967e+02,  2.65499967e+02,  2.83499967e+02,  2.85749967e+02,\n",
      "               2.87999967e+02,  3.44249967e+02])                                 ,\n",
      "       array([ 33.74996667,  49.49996667, 105.74996667, 152.99996667,\n",
      "              157.49996667, 168.74996667, 177.74996667, 179.99996667,\n",
      "              182.24996667, 197.99996667, 222.74996667, 240.74996667,\n",
      "              254.24996667, 267.74996667, 269.99996667, 274.49996667,\n",
      "              294.74996667, 299.24996667, 301.49996667, 314.99996667,\n",
      "              317.24996667, 326.24996667, 332.99996667, 335.24996667,\n",
      "              337.49996667, 346.49996667])                           ],\n",
      "      dtype=object)}\n"
     ]
    }
   ],
   "source": [
    "print(mat)"
   ]
  },
  {
   "cell_type": "code",
   "execution_count": 24,
   "metadata": {},
   "outputs": [],
   "source": [
    "param1 = mat['itemlag'][1],"
   ]
  },
  {
   "cell_type": "code",
   "execution_count": 29,
   "metadata": {},
   "outputs": [],
   "source": [
    "itemlag = mat['itemlag']"
   ]
  },
  {
   "cell_type": "code",
   "execution_count": 30,
   "metadata": {},
   "outputs": [
    {
     "name": "stdout",
     "output_type": "stream",
     "text": [
      "[array([], dtype=float64)\n",
      " array([ 3.,  3., 10., 10., 14.,  1., 23.,  3.,  3., 37., 10., 42., 61.,\n",
      "        33., 27., 61., 28., 22., 39., 37., 62., 37., 20., 54., 34., 50.])\n",
      " array([], dtype=float64)\n",
      " array([11., 14.,  2., 47., 36., 18., 37., 59., 11., 56., 33.,  4., 57.,\n",
      "        18., 59., 55., 46., 61.,  4., 67.,  9., 63., 13., 19., 42.,  1.])]\n"
     ]
    }
   ],
   "source": [
    "print(itemlag)"
   ]
  },
  {
   "cell_type": "code",
   "execution_count": 31,
   "metadata": {},
   "outputs": [
    {
     "data": {
      "text/plain": [
       "array([ 3.,  3., 10., 10., 14.,  1., 23.,  3.,  3., 37., 10., 42., 61.,\n",
       "       33., 27., 61., 28., 22., 39., 37., 62., 37., 20., 54., 34., 50.])"
      ]
     },
     "execution_count": 31,
     "metadata": {},
     "output_type": "execute_result"
    }
   ],
   "source": [
    "itemlag[1]"
   ]
  },
  {
   "cell_type": "code",
   "execution_count": 25,
   "metadata": {},
   "outputs": [
    {
     "name": "stdout",
     "output_type": "stream",
     "text": [
      "(array([ 3.,  3., 10., 10., 14.,  1., 23.,  3.,  3., 37., 10., 42., 61.,\n",
      "       33., 27., 61., 28., 22., 39., 37., 62., 37., 20., 54., 34., 50.]),)\n"
     ]
    }
   ],
   "source": [
    "print(param1)"
   ]
  },
  {
   "cell_type": "code",
   "execution_count": 12,
   "metadata": {},
   "outputs": [],
   "source": [
    "itemlag = mat['itemlag'][1]"
   ]
  },
  {
   "cell_type": "code",
   "execution_count": null,
   "metadata": {},
   "outputs": [],
   "source": []
  },
  {
   "cell_type": "code",
   "execution_count": 13,
   "metadata": {},
   "outputs": [],
   "source": [
    "f = mat['itemlag'][3].tolist()"
   ]
  },
  {
   "cell_type": "code",
   "execution_count": 17,
   "metadata": {},
   "outputs": [
    {
     "name": "stdout",
     "output_type": "stream",
     "text": [
      "26\n"
     ]
    }
   ],
   "source": [
    "print(len(f))"
   ]
  },
  {
   "cell_type": "code",
   "execution_count": 15,
   "metadata": {},
   "outputs": [
    {
     "name": "stdout",
     "output_type": "stream",
     "text": [
      "26\n"
     ]
    }
   ],
   "source": [
    "print(itemlag.size)"
   ]
  },
  {
   "cell_type": "code",
   "execution_count": 12,
   "metadata": {},
   "outputs": [],
   "source": [
    "subjectinfo = [\n",
    "    Bunch(\n",
    "        conditions=['N1', 'N2', 'F1', 'F2'],\n",
    "        onsets=[ mat['sot'][0], mat['sot'][1],  mat['sot'][2],  mat['sot'][3]],\n",
    "        durations=[[0], [0], [0], [0]],\n",
    "        amplitudes=None,\n",
    "        tmod=None,\n",
    "        pmod=None,\n",
    "        regressor_names=None,\n",
    "        regressors=None)\n",
    "]"
   ]
  },
  {
   "cell_type": "code",
   "execution_count": 12,
   "metadata": {},
   "outputs": [],
   "source": [
    "subjectinfo_param = [\n",
    "    Bunch(\n",
    "        conditions=['N1', 'N2', 'F1', 'F2'],\n",
    "        onsets=[mat['sot'][0], mat['sot'][1],  mat['sot'][2],  mat['sot'][3]],\n",
    "        durations=[[0], [0], [0], [0]],\n",
    "        amplitudes=None,\n",
    "        tmod=0,\n",
    "        pmod=[\n",
    "            None,\n",
    "            Bunch(name=['Lag'], param=itemlag[1], poly=[2]), \n",
    "            None,\n",
    "            Bunch(name=['Lag'], param=itemlag[3], poly=[2])\n",
    "        ],\n",
    "        regressor_names=None,\n",
    "        regressors=None)\n",
    "]"
   ]
  },
  {
   "cell_type": "code",
   "execution_count": 26,
   "metadata": {},
   "outputs": [
    {
     "ename": "SyntaxError",
     "evalue": "invalid syntax (3944740332.py, line 2)",
     "output_type": "error",
     "traceback": [
      "\u001b[0;36m  Cell \u001b[0;32mIn[26], line 2\u001b[0;36m\u001b[0m\n\u001b[0;31m    conditions=['N1', 'N2', 'F1', 'F2'],\u001b[0m\n\u001b[0m              ^\u001b[0m\n\u001b[0;31mSyntaxError\u001b[0m\u001b[0;31m:\u001b[0m invalid syntax\n"
     ]
    }
   ],
   "source": [
    "subjectinfo_param = [\n",
    "        [conditions=['N1', 'N2', 'F1', 'F2']],\n",
    "        [onsets=[mat['sot'][0], mat['sot'][1],  mat['sot'][2],  mat['sot'][3]]],\n",
    "        [durations=[[0], [0], [0], [0]]],\n",
    "        amplitudes=None,\n",
    "        tmod=0,\n",
    "        pmod=[\n",
    "            None,\n",
    "            Bunch(name=['Lag'], param=itemlag[1], poly=[2]), \n",
    "            None,\n",
    "            Bunch(name=['Lag'], param=itemlag[3], poly=[2])\n",
    "        ],\n",
    "        regressor_names=None,\n",
    "        regressors=None\n",
    "]"
   ]
  },
  {
   "cell_type": "code",
   "execution_count": 13,
   "metadata": {},
   "outputs": [],
   "source": [
    "cont1 = ('Famous_lag1', 'T', ['F2xLag^1'], [1])\n",
    "cont2 = ('Famous_lag2', 'T', ['F2xLag^2'], [1])\n",
    "fcont1 = ('Famous Lag', 'F', [cont1, cont2])\n",
    "paramcontrasts = [cont1, cont2, fcont1]"
   ]
  },
  {
   "cell_type": "code",
   "execution_count": null,
   "metadata": {},
   "outputs": [],
   "source": [
    "paramanalysis = l1analysis.clone(name='paramanalysis')\n",
    "\n",
    "paramanalysis.inputs.level1design.bases = {'hrf': {'derivs': [0, 0]}}\n",
    "paramanalysis.inputs.modelspec.subject_info = subjectinfo_param\n",
    "paramanalysis.inputs.contrastestimate.contrasts = paramcontrasts\n",
    "paramanalysis.inputs.contrastestimate.use_derivs = False\n"
   ]
  },
  {
   "cell_type": "code",
   "execution_count": null,
   "metadata": {},
   "outputs": [],
   "source": [
    "l1pipeline.connect(\n",
    "    [(preproc, paramanalysis,\n",
    "      [('realign.realignment_parameters', 'modelspec.realignment_parameters'),\n",
    "       (('smooth.smoothed_files', makelist), 'modelspec.functional_runs')])"
   ]
  },
  {
   "cell_type": "code",
   "execution_count": 13,
   "metadata": {},
   "outputs": [],
   "source": [
    "# design matrix setting"
   ]
  },
  {
   "cell_type": "code",
   "execution_count": 14,
   "metadata": {},
   "outputs": [],
   "source": [
    "# SpecifyModel - Generates SPM-specific Model\n",
    "specmodel = Node(SpecifySPMModel(concatenate_runs=False,\n",
    "                                 input_units='scans',\n",
    "                                 output_units='scans',\n",
    "                                 time_repetition=TR,\n",
    "                                 high_pass_filter_cutoff=128,\n",
    "                                 subject_info = subjectinfo_param),\n",
    "                 name=\"specmodel\")\n",
    "\n",
    "# Level1Design - Generates an SPM design matrix same as the first level tutorial\n",
    "eventparam = Node(Level1Design(bases={'hrf': {'derivs': [0, 0]}},\n",
    "                                 timing_units='scans',\n",
    "                                 interscan_interval=TR,\n",
    "                                 volterra_expansion_order=1, # no model interction\n",
    "                                 flags={'mthresh': 0.8},\n",
    "                                 global_intensity_normalization='none',\n",
    "                                 microtime_onset=12,\n",
    "                                 microtime_resolution=24,\n",
    "                                 factor_info = [dict(name = 'Fame', levels = 2), # figure out factorized output names\n",
    "                                                dict(name = 'Rep', levels = 2)],\n",
    "                                 model_serial_correlations='AR(1)'), #matlabbatch{1}.spm.stats.fmri_spec.cvi = 'AR(1)';\n",
    "                    name=\"eventparam\")\n",
    "\n",
    "# EstimateModel - estimate the parameters of the model\n",
    "paramestimate = Node(EstimateModel(estimation_method={'Classical': 1}),\n",
    "                      write_residuals=False, \n",
    "                      name=\"paramestimate\")\n",
    "\n",
    "# EstimateContrast - estimates contrasts\n",
    "paramconest = Node(EstimateContrast(contrasts = paramcontrasts),\n",
    "                    use_derivs=False, \n",
    "                    name=\"paramconest\")"
   ]
  },
  {
   "cell_type": "code",
   "execution_count": 15,
   "metadata": {},
   "outputs": [],
   "source": [
    "# Infosource - a function free node to iterate over the list of subject names\n",
    "infosource = Node(IdentityInterface(fields=['subject_id',\n",
    "                                            'contrasts'],\n",
    "                                    contrasts=paramcontrasts),\n",
    "                  name=\"infosource\")\n",
    "infosource.iterables = [('subject_id', subject_list)]\n",
    "\n",
    "\n",
    "templates = {'func': os.path.join(output_dir, 'preproc', '_subject_id_{subject_id}',\n",
    "                         's{subject_id}_0005_0006_merged.nii'),\n",
    "             'mc_param': os.path.join(output_dir, 'preproc', '_subject_id_{subject_id}',\n",
    "                         'rp_s{subject_id}_0005_0006_merged.txt'),\n",
    "             'outliers': os.path.join(output_dir, 'preproc', '_subject_id_{subject_id}', \n",
    "                             'art.wars{subject_id}_0005_0006_merged_outliers.txt'),\n",
    "             'smooths': os.path.join(output_dir, 'preproc', '_subject_id_{subject_id}',\n",
    "                         'swars{subject_id}_0005_0006_merged.nii')}\n",
    "selectfiles = Node(SelectFiles(templates,\n",
    "                               base_directory=experiment_dir,\n",
    "                               sort_filelist=True),\n",
    "                   name=\"selectfiles\")\n",
    "\n",
    "# Datasink - creates output folder for important outputs\n",
    "datasink = Node(DataSink(base_directory=experiment_dir,\n",
    "                         container=output_dir),\n",
    "                name=\"datasink\")"
   ]
  },
  {
   "cell_type": "code",
   "execution_count": 16,
   "metadata": {},
   "outputs": [],
   "source": [
    "# Initiation of the 1st-level analysis workflow\n",
    "event_param = Workflow(name='event_param')\n",
    "event_param.base_dir = os.path.join(experiment_dir, working_dir)\n",
    "\n",
    "# Connect up the 1st-level analysis components\n",
    "event_param.connect([(infosource, selectfiles, [('subject_id', 'subject_id')]),\n",
    "                    (infosource, paramconest, [('contrasts', 'contrasts')]),\n",
    "                    (selectfiles, specmodel, [('smooths', 'functional_runs')]),\n",
    "                    (selectfiles, specmodel, [('mc_param', 'realignment_parameters'),\n",
    "                                                ('outliers', 'outlier_files')]),\n",
    "                    (specmodel, eventparam, [('session_info','session_info')]),\n",
    "                    (eventparam, paramestimate, [('spm_mat_file','spm_mat_file')]),                    \n",
    "                    (paramestimate, paramconest, [('spm_mat_file','spm_mat_file'),\n",
    "                                                    ('beta_images','beta_images'),\n",
    "                                                   ('residual_image', 'residual_image')]),\n",
    "                    (paramconest, datasink, [('spm_mat_file', 'event_param.@spm_mat'),\n",
    "                                              ('spmT_images', 'event_param.@T'),\n",
    "                                              ('con_images', 'event_param.@con'),\n",
    "                                              ('spmF_images', 'event_param.@F'),\n",
    "                                              ('ess_images', 'event_param.@ess')]),\n",
    "                    ])"
   ]
  },
  {
   "cell_type": "code",
   "execution_count": 17,
   "metadata": {},
   "outputs": [
    {
     "name": "stdout",
     "output_type": "stream",
     "text": [
      "240523-09:12:49,490 nipype.workflow INFO:\n",
      "\t Generated workflow graph: /home/matay/spmbasics/data/output/workingdir/event_param/colored_graph.png (graph2use=colored, simple_form=True).\n"
     ]
    },
    {
     "data": {
      "text/plain": [
       "'/home/matay/spmbasics/data/output/workingdir/event_param/colored_graph.png'"
      ]
     },
     "execution_count": 17,
     "metadata": {},
     "output_type": "execute_result"
    }
   ],
   "source": [
    "event_param.write_graph(graph2use='colored', format='png', dotfilename='colored_graph.dot', simple_form=True)"
   ]
  },
  {
   "cell_type": "code",
   "execution_count": 18,
   "metadata": {},
   "outputs": [
    {
     "name": "stdout",
     "output_type": "stream",
     "text": [
      "240523-09:12:52,397 nipype.workflow INFO:\n",
      "\t Generated workflow graph: /home/matay/spmbasics/data/output/workingdir/event_param/flat_graph.png (graph2use=flat, simple_form=True).\n"
     ]
    },
    {
     "data": {
      "text/plain": [
       "'/home/matay/spmbasics/data/output/workingdir/event_param/flat_graph.png'"
      ]
     },
     "execution_count": 18,
     "metadata": {},
     "output_type": "execute_result"
    }
   ],
   "source": [
    "event_param.write_graph(graph2use='flat', format='png', dotfilename='flat_graph.dot', simple_form=True)"
   ]
  },
  {
   "cell_type": "code",
   "execution_count": 20,
   "metadata": {},
   "outputs": [
    {
     "data": {
      "image/png": "[encoded data removed]",
      "text/plain": [
       "<IPython.core.display.Image object>"
      ]
     },
     "execution_count": 20,
     "metadata": {},
     "output_type": "execute_result"
    }
   ],
   "source": [
    "# Visualize the graph\n",
    "from IPython.display import Image\n",
    "Image(filename='./spmbasics/data/output/workingdir/event_param/colored_graph.png')"
   ]
  },
  {
   "cell_type": "code",
   "execution_count": 21,
   "metadata": {},
   "outputs": [
    {
     "name": "stdout",
     "output_type": "stream",
     "text": [
      "240523-09:13:22,627 nipype.workflow INFO:\n",
      "\t Workflow event_param settings: ['check', 'execution', 'logging', 'monitoring']\n",
      "240523-09:13:22,633 nipype.workflow INFO:\n",
      "\t Running in parallel.\n",
      "240523-09:13:22,634 nipype.workflow INFO:\n",
      "\t [MultiProc] Running 0 tasks, and 1 jobs ready. Free memory (GB): 13.77/13.77, Free processors: 4/4.\n",
      "240523-09:13:22,702 nipype.workflow INFO:\n",
      "\t [Node] Setting-up \"event_param.selectfiles\" in \"/home/matay/spmbasics/data/output/workingdir/event_param/_subject_id_M03953/selectfiles\".\n",
      "240523-09:13:22,706 nipype.workflow INFO:\n",
      "\t [Node] Executing \"selectfiles\" <nipype.interfaces.io.SelectFiles>\n",
      "240523-09:13:22,708 nipype.workflow INFO:\n",
      "\t [Node] Finished \"selectfiles\", elapsed time 0.000831s.\n",
      "240523-09:13:24,639 nipype.workflow INFO:\n",
      "\t [Job 0] Completed (event_param.selectfiles).\n",
      "240523-09:13:24,645 nipype.workflow INFO:\n",
      "\t [MultiProc] Running 0 tasks, and 1 jobs ready. Free memory (GB): 13.77/13.77, Free processors: 4/4.\n",
      "240523-09:13:24,717 nipype.workflow INFO:\n",
      "\t [Node] Setting-up \"event_param.specmodel\" in \"/home/matay/spmbasics/data/output/workingdir/event_param/_subject_id_M03953/specmodel\".\n",
      "240523-09:13:24,727 nipype.workflow INFO:\n",
      "\t [Node] Executing \"specmodel\" <nipype.algorithms.modelgen.SpecifySPMModel>\n",
      "240523-09:13:24,732 nipype.workflow INFO:\n",
      "\t [Node] Finished \"specmodel\", elapsed time 0.003566s.\n",
      "240523-09:13:26,639 nipype.workflow INFO:\n",
      "\t [Job 1] Completed (event_param.specmodel).\n",
      "240523-09:13:26,642 nipype.workflow INFO:\n",
      "\t [MultiProc] Running 0 tasks, and 1 jobs ready. Free memory (GB): 13.77/13.77, Free processors: 4/4.\n",
      "240523-09:13:26,700 nipype.workflow INFO:\n",
      "\t [Node] Setting-up \"event_param.eventparam\" in \"/home/matay/spmbasics/data/output/workingdir/event_param/_subject_id_M03953/eventparam\".\n",
      "240523-09:13:26,737 nipype.workflow INFO:\n",
      "\t [Node] Executing \"eventparam\" <nipype.interfaces.spm.model.Level1Design>\n",
      "240523-09:13:28,642 nipype.workflow INFO:\n",
      "\t [MultiProc] Running 1 tasks, and 0 jobs ready. Free memory (GB): 13.57/13.77, Free processors: 3/4.\n",
      "                     Currently running:\n",
      "                       * event_param.eventparam\n"
     ]
    },
    {
     "name": "stderr",
     "output_type": "stream",
     "text": [
      "stty: 'standard input': Inappropriate ioctl for device\n"
     ]
    },
    {
     "name": "stdout",
     "output_type": "stream",
     "text": [
      "240523-09:13:43,721 nipype.workflow INFO:\n",
      "\t [Node] Finished \"eventparam\", elapsed time 9.625525s.\n",
      "240523-09:13:43,723 nipype.workflow WARNING:\n",
      "\t Storing result file without outputs\n",
      "240523-09:13:43,727 nipype.workflow WARNING:\n",
      "\t [Node] Error on \"event_param.eventparam\" (/home/matay/spmbasics/data/output/workingdir/event_param/_subject_id_M03953/eventparam)\n"
     ]
    },
    {
     "name": "stderr",
     "output_type": "stream",
     "text": [
      "stty: 'standard input': Inappropriate ioctl for device\n"
     ]
    },
    {
     "name": "stdout",
     "output_type": "stream",
     "text": [
      "240523-09:13:44,662 nipype.workflow ERROR:\n",
      "\t Node eventparam.a0 failed to run on host ptb-03240070.irisa.fr.\n",
      "240523-09:13:44,664 nipype.workflow ERROR:\n",
      "\t Saving crash info to /home/matay/spmbasics/src/Nipype/Notebooks/crash-20240523-091344-matay-eventparam.a0-01af0d5d-3682-4a7d-bd1f-93ac00f26dfa.pklz\n",
      "Traceback (most recent call last):\n",
      "  File \"/home/matay/anaconda3/envs/spmbasics/lib/python3.9/site-packages/nipype/pipeline/plugins/multiproc.py\", line 67, in run_node\n",
      "    result[\"result\"] = node.run(updatehash=updatehash)\n",
      "  File \"/home/matay/anaconda3/envs/spmbasics/lib/python3.9/site-packages/nipype/pipeline/engine/nodes.py\", line 527, in run\n",
      "    result = self._run_interface(execute=True)\n",
      "  File \"/home/matay/anaconda3/envs/spmbasics/lib/python3.9/site-packages/nipype/pipeline/engine/nodes.py\", line 645, in _run_interface\n",
      "    return self._run_command(execute)\n",
      "  File \"/home/matay/anaconda3/envs/spmbasics/lib/python3.9/site-packages/nipype/pipeline/engine/nodes.py\", line 771, in _run_command\n",
      "    raise NodeExecutionError(msg)\n",
      "nipype.pipeline.engine.nodes.NodeExecutionError: Exception raised while executing Node eventparam.\n",
      "\n",
      "Traceback:\n",
      "\tTraceback (most recent call last):\n",
      "\t  File \"/home/matay/anaconda3/envs/spmbasics/lib/python3.9/site-packages/nipype/interfaces/base/core.py\", line 397, in run\n",
      "\t    runtime = self._run_interface(runtime)\n",
      "\t  File \"/home/matay/anaconda3/envs/spmbasics/lib/python3.9/site-packages/nipype/interfaces/spm/base.py\", line 386, in _run_interface\n",
      "\t    results = self.mlab.run()\n",
      "\t  File \"/home/matay/anaconda3/envs/spmbasics/lib/python3.9/site-packages/nipype/interfaces/base/core.py\", line 397, in run\n",
      "\t    runtime = self._run_interface(runtime)\n",
      "\t  File \"/home/matay/anaconda3/envs/spmbasics/lib/python3.9/site-packages/nipype/interfaces/matlab.py\", line 164, in _run_interface\n",
      "\t    self.raise_exception(runtime)\n",
      "\t  File \"/home/matay/anaconda3/envs/spmbasics/lib/python3.9/site-packages/nipype/interfaces/base/core.py\", line 685, in raise_exception\n",
      "\t    raise RuntimeError(\n",
      "\tRuntimeError: Command:\n",
      "\t/soft/matlab_hd/R2020b/bin/glnxa64/MATLAB -nodesktop -nosplash -nodesktop -nosplash -singleCompThread -r \"addpath('/home/matay/spmbasics/data/output/workingdir/event_param/_subject_id_M03953/eventparam');pyscript_level1design;exit\"\n",
      "\tStandard output:\n",
      "\n",
      "\t                                                                              < M A T L A B (R) >\n",
      "\t                                                                    Copyright 1984-2020 The MathWorks, Inc.\n",
      "\t                                                                R2020b Update 1 (9.9.0.1495850) 64-bit (glnxa64)\n",
      "\t                                                                               September 30, 2020\n",
      "\n",
      " \n",
      "\tTo get started, type doc.\n",
      "\tFor product information, visit www.mathworks.com.\n",
      " \n",
      "\tExecuting pyscript_level1design at 23-May-2024 09:13:37:\n",
      "\tExecuting pyscript_level1design at 23-May-2024 09:13:37:\n",
      "\t---------------------------------------------------------------------------------------------------------\n",
      "\tMATLAB Version: 9.9.0.1495850 (R2020b) Update 1\n",
      "\tMATLAB License Number: 2473\n",
      "\tOperating System: Linux 6.8.10-200.fc39.x86_64 #1 SMP PREEMPT_DYNAMIC Fri May 17 21:20:15 UTC 2024 x86_64\n",
      "\tJava Version: Java 1.8.0_202-b08 with Oracle Corporation Java HotSpot(TM) 64-Bit Server VM mixed mode\n",
      "\t---------------------------------------------------------------------------------------------------------\n",
      "\tMATLAB                                                Version 9.9         (R2020b)\n",
      "\tSimulink                                              Version 10.2        (R2020b)\n",
      "\tBioinformatics Toolbox                                Version 4.15        (R2020b)\n",
      "\tCommunications Toolbox                                Version 7.4         (R2020b)\n",
      "\tComputer Vision Toolbox                               Version 9.3         (R2020b)\n",
      "\tControl System Toolbox                                Version 10.9        (R2020b)\n",
      "\tDSP System Toolbox                                    Version 9.11        (R2020b)\n",
      "\tDeep Learning Toolbox                                 Version 14.1        (R2020b)\n",
      "\tFixed-Point Designer                                  Version 7.1         (R2020b)\n",
      "\tHDL Coder                                             Version 3.17        (R2020b)\n",
      "\tImage Acquisition Toolbox                             Version 6.3         (R2020b)\n",
      "\tImage Processing Toolbox                              Version 11.2        (R2020b)\n",
      "\tMATLAB Coder                                          Version 5.1         (R2020b)\n",
      "\tMATLAB Compiler                                       Version 8.1         (R2020b)\n",
      "\tMATLAB Compiler SDK                                   Version 6.9         (R2020b)\n",
      "\tNavigation Toolbox                                    Version 1.2         (R2020b)\n",
      "\tOptimization Toolbox                                  Version 9.0         (R2020b)\n",
      "\tParallel Computing Toolbox                            Version 7.3         (R2020b)\n",
      "\tPartial Differential Equation Toolbox                 Version 3.5         (R2020b)\n",
      "\tROS Toolbox                                           Version 1.2         (R2020b)\n",
      "\tRobotics System Toolbox                               Version 3.2         (R2020b)\n",
      "\tRobust Control Toolbox                                Version 6.9         (R2020b)\n",
      "\tSignal Processing Toolbox                             Version 8.5         (R2020b)\n",
      "\tSimBiology                                            Version 6.0         (R2020b)\n",
      "\tSimscape                                              Version 5.0         (R2020b)\n",
      "\tSimscape Multibody                                    Version 7.2         (R2020b)\n",
      "\tSimulink 3D Animation                                 Version 9.1         (R2020b)\n",
      "\tSimulink Coder                                        Version 9.4         (R2020b)\n",
      "\tSimulink Control Design                               Version 5.6         (R2020b)\n",
      "\tStateflow                                             Version 10.3        (R2020b)\n",
      "\tStatistics and Machine Learning Toolbox               Version 12.0        (R2020b)\n",
      "\tSymbolic Math Toolbox                                 Version 8.6         (R2020b)\n",
      "\tSystem Identification Toolbox                         Version 9.13        (R2020b)\n",
      "\tSPM version: SPM12 Release: 7771\n",
      "\tSPM path: /home/matay/Documents/MATLAB/spm12/spm.m\n",
      "\tCan not initialise pmod value(s): job is not a struct.\n",
      "\tCan not initialise pmod value(s): job is not a struct.\n",
      "\n",
      "\n",
      "\t------------------------------------------------------------------------\n",
      "\t23-May-2024 09:13:41 - Running job #1\n",
      "\t------------------------------------------------------------------------\n",
      "\tContents of 'cond' does not meet check criteria:\n",
      "\t'\"N2\" & \"Lag\":Number of event onsets (26) does not equal the number of parameters (1).\n",
      "\t'\n",
      "\tContents of 'cond' does not meet check criteria:\n",
      "\t'\"F2\" & \"Lag\":Number of event onsets (26) does not equal the number of parameters (1).\n",
      "\t'\n",
      "\tNo executable modules, but still unresolved dependencies or incomplete module inputs.\n",
      "\tThe following modules did not run:\n",
      "\tSkipped: fMRI model specification\n",
      "\n",
      "\tStandard error:\n",
      "\tMESA-LOADER: failed to open iris: /soft/matlab_hd/R2020b/bin/glnxa64/../../sys/os/glnxa64/libstdc++.so.6: version `GLIBCXX_3.4.26' not found (required by /usr/lib64/dri/iris_dri.so) (search paths /usr/lib64/dri, suffix _dri)\n",
      "\tfailed to load driver: iris\n",
      "\tMESA-LOADER: failed to open swrast: /soft/matlab_hd/R2020b/bin/glnxa64/../../sys/os/glnxa64/libstdc++.so.6: version `GLIBCXX_3.4.26' not found (required by /usr/lib64/dri/swrast_dri.so) (search paths /usr/lib64/dri, suffix _dri)\n",
      "\tfailed to load driver: swrast\n",
      "\tMATLAB code threw an exception:\n",
      "\tJob execution failed. The full log of this run can be found in MATLAB command window, starting with the lines (look for the line showing the exact #job as displayed in this error message)\n",
      "\t------------------ \n",
      "\tRunning job #1\n",
      "\t------------------\n",
      "\n",
      "\tFile:\n",
      "\tName:MATLABbatch system\n",
      "\tLine:0\n",
      "\tReturn code: 0\n",
      "\n",
      "\n",
      "240523-09:13:44,671 nipype.workflow INFO:\n",
      "\t [MultiProc] Running 0 tasks, and 0 jobs ready. Free memory (GB): 13.77/13.77, Free processors: 4/4.\n",
      "240523-09:13:46,659 nipype.workflow INFO:\n",
      "\t ***********************************\n",
      "240523-09:13:46,661 nipype.workflow ERROR:\n",
      "\t could not run node: event_param.eventparam.a0\n",
      "240523-09:13:46,662 nipype.workflow INFO:\n",
      "\t crashfile: /home/matay/spmbasics/src/Nipype/Notebooks/crash-20240523-091344-matay-eventparam.a0-01af0d5d-3682-4a7d-bd1f-93ac00f26dfa.pklz\n",
      "240523-09:13:46,663 nipype.workflow INFO:\n",
      "\t ***********************************\n"
     ]
    },
    {
     "ename": "RuntimeError",
     "evalue": "Traceback (most recent call last):\n  File \"/home/matay/anaconda3/envs/spmbasics/lib/python3.9/site-packages/nipype/pipeline/plugins/multiproc.py\", line 67, in run_node\n    result[\"result\"] = node.run(updatehash=updatehash)\n  File \"/home/matay/anaconda3/envs/spmbasics/lib/python3.9/site-packages/nipype/pipeline/engine/nodes.py\", line 527, in run\n    result = self._run_interface(execute=True)\n  File \"/home/matay/anaconda3/envs/spmbasics/lib/python3.9/site-packages/nipype/pipeline/engine/nodes.py\", line 645, in _run_interface\n    return self._run_command(execute)\n  File \"/home/matay/anaconda3/envs/spmbasics/lib/python3.9/site-packages/nipype/pipeline/engine/nodes.py\", line 771, in _run_command\n    raise NodeExecutionError(msg)\nnipype.pipeline.engine.nodes.NodeExecutionError: Exception raised while executing Node eventparam.\n\nTraceback:\n\tTraceback (most recent call last):\n\t  File \"/home/matay/anaconda3/envs/spmbasics/lib/python3.9/site-packages/nipype/interfaces/base/core.py\", line 397, in run\n\t    runtime = self._run_interface(runtime)\n\t  File \"/home/matay/anaconda3/envs/spmbasics/lib/python3.9/site-packages/nipype/interfaces/spm/base.py\", line 386, in _run_interface\n\t    results = self.mlab.run()\n\t  File \"/home/matay/anaconda3/envs/spmbasics/lib/python3.9/site-packages/nipype/interfaces/base/core.py\", line 397, in run\n\t    runtime = self._run_interface(runtime)\n\t  File \"/home/matay/anaconda3/envs/spmbasics/lib/python3.9/site-packages/nipype/interfaces/matlab.py\", line 164, in _run_interface\n\t    self.raise_exception(runtime)\n\t  File \"/home/matay/anaconda3/envs/spmbasics/lib/python3.9/site-packages/nipype/interfaces/base/core.py\", line 685, in raise_exception\n\t    raise RuntimeError(\n\tRuntimeError: Command:\n\t/soft/matlab_hd/R2020b/bin/glnxa64/MATLAB -nodesktop -nosplash -nodesktop -nosplash -singleCompThread -r \"addpath('/home/matay/spmbasics/data/output/workingdir/event_param/_subject_id_M03953/eventparam');pyscript_level1design;exit\"\n\tStandard output:\n\n\t                                                                              < M A T L A B (R) >\n\t                                                                    Copyright 1984-2020 The MathWorks, Inc.\n\t                                                                R2020b Update 1 (9.9.0.1495850) 64-bit (glnxa64)\n\t                                                                               September 30, 2020\n\n \n\tTo get started, type doc.\n\tFor product information, visit www.mathworks.com.\n \n\tExecuting pyscript_level1design at 23-May-2024 09:13:37:\n\tExecuting pyscript_level1design at 23-May-2024 09:13:37:\n\t---------------------------------------------------------------------------------------------------------\n\tMATLAB Version: 9.9.0.1495850 (R2020b) Update 1\n\tMATLAB License Number: 2473\n\tOperating System: Linux 6.8.10-200.fc39.x86_64 #1 SMP PREEMPT_DYNAMIC Fri May 17 21:20:15 UTC 2024 x86_64\n\tJava Version: Java 1.8.0_202-b08 with Oracle Corporation Java HotSpot(TM) 64-Bit Server VM mixed mode\n\t---------------------------------------------------------------------------------------------------------\n\tMATLAB                                                Version 9.9         (R2020b)\n\tSimulink                                              Version 10.2        (R2020b)\n\tBioinformatics Toolbox                                Version 4.15        (R2020b)\n\tCommunications Toolbox                                Version 7.4         (R2020b)\n\tComputer Vision Toolbox                               Version 9.3         (R2020b)\n\tControl System Toolbox                                Version 10.9        (R2020b)\n\tDSP System Toolbox                                    Version 9.11        (R2020b)\n\tDeep Learning Toolbox                                 Version 14.1        (R2020b)\n\tFixed-Point Designer                                  Version 7.1         (R2020b)\n\tHDL Coder                                             Version 3.17        (R2020b)\n\tImage Acquisition Toolbox                             Version 6.3         (R2020b)\n\tImage Processing Toolbox                              Version 11.2        (R2020b)\n\tMATLAB Coder                                          Version 5.1         (R2020b)\n\tMATLAB Compiler                                       Version 8.1         (R2020b)\n\tMATLAB Compiler SDK                                   Version 6.9         (R2020b)\n\tNavigation Toolbox                                    Version 1.2         (R2020b)\n\tOptimization Toolbox                                  Version 9.0         (R2020b)\n\tParallel Computing Toolbox                            Version 7.3         (R2020b)\n\tPartial Differential Equation Toolbox                 Version 3.5         (R2020b)\n\tROS Toolbox                                           Version 1.2         (R2020b)\n\tRobotics System Toolbox                               Version 3.2         (R2020b)\n\tRobust Control Toolbox                                Version 6.9         (R2020b)\n\tSignal Processing Toolbox                             Version 8.5         (R2020b)\n\tSimBiology                                            Version 6.0         (R2020b)\n\tSimscape                                              Version 5.0         (R2020b)\n\tSimscape Multibody                                    Version 7.2         (R2020b)\n\tSimulink 3D Animation                                 Version 9.1         (R2020b)\n\tSimulink Coder                                        Version 9.4         (R2020b)\n\tSimulink Control Design                               Version 5.6         (R2020b)\n\tStateflow                                             Version 10.3        (R2020b)\n\tStatistics and Machine Learning Toolbox               Version 12.0        (R2020b)\n\tSymbolic Math Toolbox                                 Version 8.6         (R2020b)\n\tSystem Identification Toolbox                         Version 9.13        (R2020b)\n\tSPM version: SPM12 Release: 7771\n\tSPM path: /home/matay/Documents/MATLAB/spm12/spm.m\n\tCan not initialise pmod value(s): job is not a struct.\n\tCan not initialise pmod value(s): job is not a struct.\n\n\n\t------------------------------------------------------------------------\n\t23-May-2024 09:13:41 - Running job #1\n\t------------------------------------------------------------------------\n\tContents of 'cond' does not meet check criteria:\n\t'\"N2\" & \"Lag\":Number of event onsets (26) does not equal the number of parameters (1).\n\t'\n\tContents of 'cond' does not meet check criteria:\n\t'\"F2\" & \"Lag\":Number of event onsets (26) does not equal the number of parameters (1).\n\t'\n\tNo executable modules, but still unresolved dependencies or incomplete module inputs.\n\tThe following modules did not run:\n\tSkipped: fMRI model specification\n\n\tStandard error:\n\tMESA-LOADER: failed to open iris: /soft/matlab_hd/R2020b/bin/glnxa64/../../sys/os/glnxa64/libstdc++.so.6: version `GLIBCXX_3.4.26' not found (required by /usr/lib64/dri/iris_dri.so) (search paths /usr/lib64/dri, suffix _dri)\n\tfailed to load driver: iris\n\tMESA-LOADER: failed to open swrast: /soft/matlab_hd/R2020b/bin/glnxa64/../../sys/os/glnxa64/libstdc++.so.6: version `GLIBCXX_3.4.26' not found (required by /usr/lib64/dri/swrast_dri.so) (search paths /usr/lib64/dri, suffix _dri)\n\tfailed to load driver: swrast\n\tMATLAB code threw an exception:\n\tJob execution failed. The full log of this run can be found in MATLAB command window, starting with the lines (look for the line showing the exact #job as displayed in this error message)\n\t------------------ \n\tRunning job #1\n\t------------------\n\n\tFile:\n\tName:MATLABbatch system\n\tLine:0\n\tReturn code: 0\n\n",
     "output_type": "error",
     "traceback": [
      "\u001b[0;31m---------------------------------------------------------------------------\u001b[0m",
      "\u001b[0;31mRuntimeError\u001b[0m                              Traceback (most recent call last)",
      "Cell \u001b[0;32mIn[21], line 1\u001b[0m\n\u001b[0;32m----> 1\u001b[0m \u001b[43mevent_param\u001b[49m\u001b[38;5;241;43m.\u001b[39;49m\u001b[43mrun\u001b[49m\u001b[43m(\u001b[49m\u001b[38;5;124;43m'\u001b[39;49m\u001b[38;5;124;43mMultiProc\u001b[39;49m\u001b[38;5;124;43m'\u001b[39;49m\u001b[43m,\u001b[49m\u001b[43m \u001b[49m\u001b[43mplugin_args\u001b[49m\u001b[38;5;241;43m=\u001b[39;49m\u001b[43m{\u001b[49m\u001b[38;5;124;43m'\u001b[39;49m\u001b[38;5;124;43mn_procs\u001b[39;49m\u001b[38;5;124;43m'\u001b[39;49m\u001b[43m:\u001b[49m\u001b[43m \u001b[49m\u001b[38;5;241;43m4\u001b[39;49m\u001b[43m}\u001b[49m\u001b[43m)\u001b[49m\n",
      "File \u001b[0;32m~/anaconda3/envs/spmbasics/lib/python3.9/site-packages/nipype/pipeline/engine/workflows.py:638\u001b[0m, in \u001b[0;36mWorkflow.run\u001b[0;34m(self, plugin, plugin_args, updatehash)\u001b[0m\n\u001b[1;32m    636\u001b[0m \u001b[38;5;28;01mif\u001b[39;00m str2bool(\u001b[38;5;28mself\u001b[39m\u001b[38;5;241m.\u001b[39mconfig[\u001b[38;5;124m\"\u001b[39m\u001b[38;5;124mexecution\u001b[39m\u001b[38;5;124m\"\u001b[39m][\u001b[38;5;124m\"\u001b[39m\u001b[38;5;124mcreate_report\u001b[39m\u001b[38;5;124m\"\u001b[39m]):\n\u001b[1;32m    637\u001b[0m     \u001b[38;5;28mself\u001b[39m\u001b[38;5;241m.\u001b[39m_write_report_info(\u001b[38;5;28mself\u001b[39m\u001b[38;5;241m.\u001b[39mbase_dir, \u001b[38;5;28mself\u001b[39m\u001b[38;5;241m.\u001b[39mname, execgraph)\n\u001b[0;32m--> 638\u001b[0m \u001b[43mrunner\u001b[49m\u001b[38;5;241;43m.\u001b[39;49m\u001b[43mrun\u001b[49m\u001b[43m(\u001b[49m\u001b[43mexecgraph\u001b[49m\u001b[43m,\u001b[49m\u001b[43m \u001b[49m\u001b[43mupdatehash\u001b[49m\u001b[38;5;241;43m=\u001b[39;49m\u001b[43mupdatehash\u001b[49m\u001b[43m,\u001b[49m\u001b[43m \u001b[49m\u001b[43mconfig\u001b[49m\u001b[38;5;241;43m=\u001b[39;49m\u001b[38;5;28;43mself\u001b[39;49m\u001b[38;5;241;43m.\u001b[39;49m\u001b[43mconfig\u001b[49m\u001b[43m)\u001b[49m\n\u001b[1;32m    639\u001b[0m datestr \u001b[38;5;241m=\u001b[39m datetime\u001b[38;5;241m.\u001b[39mutcnow()\u001b[38;5;241m.\u001b[39mstrftime(\u001b[38;5;124m\"\u001b[39m\u001b[38;5;124m%\u001b[39m\u001b[38;5;124mY\u001b[39m\u001b[38;5;124m%\u001b[39m\u001b[38;5;124mm\u001b[39m\u001b[38;5;132;01m%d\u001b[39;00m\u001b[38;5;124mT\u001b[39m\u001b[38;5;124m%\u001b[39m\u001b[38;5;124mH\u001b[39m\u001b[38;5;124m%\u001b[39m\u001b[38;5;124mM\u001b[39m\u001b[38;5;124m%\u001b[39m\u001b[38;5;124mS\u001b[39m\u001b[38;5;124m\"\u001b[39m)\n\u001b[1;32m    640\u001b[0m \u001b[38;5;28;01mif\u001b[39;00m str2bool(\u001b[38;5;28mself\u001b[39m\u001b[38;5;241m.\u001b[39mconfig[\u001b[38;5;124m\"\u001b[39m\u001b[38;5;124mexecution\u001b[39m\u001b[38;5;124m\"\u001b[39m][\u001b[38;5;124m\"\u001b[39m\u001b[38;5;124mwrite_provenance\u001b[39m\u001b[38;5;124m\"\u001b[39m]):\n",
      "File \u001b[0;32m~/anaconda3/envs/spmbasics/lib/python3.9/site-packages/nipype/pipeline/plugins/base.py:224\u001b[0m, in \u001b[0;36mDistributedPluginBase.run\u001b[0;34m(self, graph, config, updatehash)\u001b[0m\n\u001b[1;32m    218\u001b[0m \u001b[38;5;28;01mif\u001b[39;00m \u001b[38;5;28mlen\u001b[39m(errors) \u001b[38;5;241m>\u001b[39m \u001b[38;5;241m1\u001b[39m:\n\u001b[1;32m    219\u001b[0m     error, cause \u001b[38;5;241m=\u001b[39m (\n\u001b[1;32m    220\u001b[0m         \u001b[38;5;167;01mRuntimeError\u001b[39;00m(\u001b[38;5;124mf\u001b[39m\u001b[38;5;124m\"\u001b[39m\u001b[38;5;132;01m{\u001b[39;00m\u001b[38;5;28mlen\u001b[39m(errors)\u001b[38;5;132;01m}\u001b[39;00m\u001b[38;5;124m raised. Re-raising first.\u001b[39m\u001b[38;5;124m\"\u001b[39m),\n\u001b[1;32m    221\u001b[0m         error,\n\u001b[1;32m    222\u001b[0m     )\n\u001b[0;32m--> 224\u001b[0m \u001b[38;5;28;01mraise\u001b[39;00m error \u001b[38;5;28;01mfrom\u001b[39;00m \u001b[38;5;21;01mcause\u001b[39;00m\n",
      "\u001b[0;31mRuntimeError\u001b[0m: Traceback (most recent call last):\n  File \"/home/matay/anaconda3/envs/spmbasics/lib/python3.9/site-packages/nipype/pipeline/plugins/multiproc.py\", line 67, in run_node\n    result[\"result\"] = node.run(updatehash=updatehash)\n  File \"/home/matay/anaconda3/envs/spmbasics/lib/python3.9/site-packages/nipype/pipeline/engine/nodes.py\", line 527, in run\n    result = self._run_interface(execute=True)\n  File \"/home/matay/anaconda3/envs/spmbasics/lib/python3.9/site-packages/nipype/pipeline/engine/nodes.py\", line 645, in _run_interface\n    return self._run_command(execute)\n  File \"/home/matay/anaconda3/envs/spmbasics/lib/python3.9/site-packages/nipype/pipeline/engine/nodes.py\", line 771, in _run_command\n    raise NodeExecutionError(msg)\nnipype.pipeline.engine.nodes.NodeExecutionError: Exception raised while executing Node eventparam.\n\nTraceback:\n\tTraceback (most recent call last):\n\t  File \"/home/matay/anaconda3/envs/spmbasics/lib/python3.9/site-packages/nipype/interfaces/base/core.py\", line 397, in run\n\t    runtime = self._run_interface(runtime)\n\t  File \"/home/matay/anaconda3/envs/spmbasics/lib/python3.9/site-packages/nipype/interfaces/spm/base.py\", line 386, in _run_interface\n\t    results = self.mlab.run()\n\t  File \"/home/matay/anaconda3/envs/spmbasics/lib/python3.9/site-packages/nipype/interfaces/base/core.py\", line 397, in run\n\t    runtime = self._run_interface(runtime)\n\t  File \"/home/matay/anaconda3/envs/spmbasics/lib/python3.9/site-packages/nipype/interfaces/matlab.py\", line 164, in _run_interface\n\t    self.raise_exception(runtime)\n\t  File \"/home/matay/anaconda3/envs/spmbasics/lib/python3.9/site-packages/nipype/interfaces/base/core.py\", line 685, in raise_exception\n\t    raise RuntimeError(\n\tRuntimeError: Command:\n\t/soft/matlab_hd/R2020b/bin/glnxa64/MATLAB -nodesktop -nosplash -nodesktop -nosplash -singleCompThread -r \"addpath('/home/matay/spmbasics/data/output/workingdir/event_param/_subject_id_M03953/eventparam');pyscript_level1design;exit\"\n\tStandard output:\n\n\t                                                                              < M A T L A B (R) >\n\t                                                                    Copyright 1984-2020 The MathWorks, Inc.\n\t                                                                R2020b Update 1 (9.9.0.1495850) 64-bit (glnxa64)\n\t                                                                               September 30, 2020\n\n \n\tTo get started, type doc.\n\tFor product information, visit www.mathworks.com.\n \n\tExecuting pyscript_level1design at 23-May-2024 09:13:37:\n\tExecuting pyscript_level1design at 23-May-2024 09:13:37:\n\t---------------------------------------------------------------------------------------------------------\n\tMATLAB Version: 9.9.0.1495850 (R2020b) Update 1\n\tMATLAB License Number: 2473\n\tOperating System: Linux 6.8.10-200.fc39.x86_64 #1 SMP PREEMPT_DYNAMIC Fri May 17 21:20:15 UTC 2024 x86_64\n\tJava Version: Java 1.8.0_202-b08 with Oracle Corporation Java HotSpot(TM) 64-Bit Server VM mixed mode\n\t---------------------------------------------------------------------------------------------------------\n\tMATLAB                                                Version 9.9         (R2020b)\n\tSimulink                                              Version 10.2        (R2020b)\n\tBioinformatics Toolbox                                Version 4.15        (R2020b)\n\tCommunications Toolbox                                Version 7.4         (R2020b)\n\tComputer Vision Toolbox                               Version 9.3         (R2020b)\n\tControl System Toolbox                                Version 10.9        (R2020b)\n\tDSP System Toolbox                                    Version 9.11        (R2020b)\n\tDeep Learning Toolbox                                 Version 14.1        (R2020b)\n\tFixed-Point Designer                                  Version 7.1         (R2020b)\n\tHDL Coder                                             Version 3.17        (R2020b)\n\tImage Acquisition Toolbox                             Version 6.3         (R2020b)\n\tImage Processing Toolbox                              Version 11.2        (R2020b)\n\tMATLAB Coder                                          Version 5.1         (R2020b)\n\tMATLAB Compiler                                       Version 8.1         (R2020b)\n\tMATLAB Compiler SDK                                   Version 6.9         (R2020b)\n\tNavigation Toolbox                                    Version 1.2         (R2020b)\n\tOptimization Toolbox                                  Version 9.0         (R2020b)\n\tParallel Computing Toolbox                            Version 7.3         (R2020b)\n\tPartial Differential Equation Toolbox                 Version 3.5         (R2020b)\n\tROS Toolbox                                           Version 1.2         (R2020b)\n\tRobotics System Toolbox                               Version 3.2         (R2020b)\n\tRobust Control Toolbox                                Version 6.9         (R2020b)\n\tSignal Processing Toolbox                             Version 8.5         (R2020b)\n\tSimBiology                                            Version 6.0         (R2020b)\n\tSimscape                                              Version 5.0         (R2020b)\n\tSimscape Multibody                                    Version 7.2         (R2020b)\n\tSimulink 3D Animation                                 Version 9.1         (R2020b)\n\tSimulink Coder                                        Version 9.4         (R2020b)\n\tSimulink Control Design                               Version 5.6         (R2020b)\n\tStateflow                                             Version 10.3        (R2020b)\n\tStatistics and Machine Learning Toolbox               Version 12.0        (R2020b)\n\tSymbolic Math Toolbox                                 Version 8.6         (R2020b)\n\tSystem Identification Toolbox                         Version 9.13        (R2020b)\n\tSPM version: SPM12 Release: 7771\n\tSPM path: /home/matay/Documents/MATLAB/spm12/spm.m\n\tCan not initialise pmod value(s): job is not a struct.\n\tCan not initialise pmod value(s): job is not a struct.\n\n\n\t------------------------------------------------------------------------\n\t23-May-2024 09:13:41 - Running job #1\n\t------------------------------------------------------------------------\n\tContents of 'cond' does not meet check criteria:\n\t'\"N2\" & \"Lag\":Number of event onsets (26) does not equal the number of parameters (1).\n\t'\n\tContents of 'cond' does not meet check criteria:\n\t'\"F2\" & \"Lag\":Number of event onsets (26) does not equal the number of parameters (1).\n\t'\n\tNo executable modules, but still unresolved dependencies or incomplete module inputs.\n\tThe following modules did not run:\n\tSkipped: fMRI model specification\n\n\tStandard error:\n\tMESA-LOADER: failed to open iris: /soft/matlab_hd/R2020b/bin/glnxa64/../../sys/os/glnxa64/libstdc++.so.6: version `GLIBCXX_3.4.26' not found (required by /usr/lib64/dri/iris_dri.so) (search paths /usr/lib64/dri, suffix _dri)\n\tfailed to load driver: iris\n\tMESA-LOADER: failed to open swrast: /soft/matlab_hd/R2020b/bin/glnxa64/../../sys/os/glnxa64/libstdc++.so.6: version `GLIBCXX_3.4.26' not found (required by /usr/lib64/dri/swrast_dri.so) (search paths /usr/lib64/dri, suffix _dri)\n\tfailed to load driver: swrast\n\tMATLAB code threw an exception:\n\tJob execution failed. The full log of this run can be found in MATLAB command window, starting with the lines (look for the line showing the exact #job as displayed in this error message)\n\t------------------ \n\tRunning job #1\n\t------------------\n\n\tFile:\n\tName:MATLABbatch system\n\tLine:0\n\tReturn code: 0\n\n"
     ]
    }
   ],
   "source": [
    "event_param.run('MultiProc', plugin_args={'n_procs': 4})"
   ]
  },
  {
   "cell_type": "code",
   "execution_count": null,
   "metadata": {},
   "outputs": [],
   "source": []
  }
 ],
 "metadata": {
  "anaconda-cloud": {},
  "kernelspec": {
   "display_name": "Python 3 (ipykernel)",
   "language": "python",
   "name": "python3"
  },
  "language_info": {
   "codemirror_mode": {
    "name": "ipython",
    "version": 3
   },
   "file_extension": ".py",
   "mimetype": "text/x-python",
   "name": "python",
   "nbconvert_exporter": "python",
   "pygments_lexer": "ipython3",
   "version": "3.9.18"
  }
 },
 "nbformat": 4,
 "nbformat_minor": 4
}
