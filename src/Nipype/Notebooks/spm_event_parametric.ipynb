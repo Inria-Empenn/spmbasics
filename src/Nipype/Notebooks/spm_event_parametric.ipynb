{
 "cells": [
  {
   "cell_type": "markdown",
   "metadata": {},
   "source": [
    "## Parametric Modelling"
   ]
  },
  {
   "cell_type": "code",
   "execution_count": 1,
   "metadata": {},
   "outputs": [],
   "source": [
    "from nilearn import plotting\n",
    "%matplotlib inline\n",
    "import os\n",
    "import json\n",
    "from nipype.interfaces import fsl \n",
    "from nipype.interfaces import spm\n",
    "from nipype.interfaces.spm import (Realign, SliceTiming, Coregister,  NewSegment,  Normalize12, Smooth)\n",
    "from nipype.interfaces.spm import Level1Design, EstimateModel, EstimateContrast\n",
    "from nipype.algorithms.modelgen import SpecifySPMModel\n",
    "from nipype.interfaces import matlab as mlab\n",
    "from nipype.interfaces.io import SelectFiles, DataSink\n",
    "import nipype.interfaces.utility as util \n",
    "from nipype.algorithms import rapidart as ra\n",
    "from nipype.interfaces.utility import Function, IdentityInterface\n",
    "import nipype.pipeline.engine as pe\n",
    "import nipype.interfaces.io as nio\n",
    "from nipype.interfaces.base import Bunch\n",
    "from nipype import DataGrabber, Workflow, Node\n",
    "from scipy.io.matlab import loadmat"
   ]
  },
  {
   "cell_type": "code",
   "execution_count": 2,
   "metadata": {},
   "outputs": [],
   "source": [
    "# necessary to let nipype know about matlab path"
   ]
  },
  {
   "cell_type": "code",
   "execution_count": 3,
   "metadata": {},
   "outputs": [
    {
     "name": "stderr",
     "output_type": "stream",
     "text": [
      "stty: 'standard input': Inappropriate ioctl for device\n"
     ]
    }
   ],
   "source": [
    "spm.SPMCommand.set_mlab_paths(paths=os.path.abspath(os.path.join(os.environ['HOME'], 'Documents/MATLAB/spm12/')), matlab_cmd='/soft/matlab_hd/R2020b/bin/glnxa64/MATLAB -nodesktop -nosplash')"
   ]
  },
  {
   "cell_type": "code",
   "execution_count": 4,
   "metadata": {},
   "outputs": [],
   "source": [
    "mlab.MatlabCommand.set_default_matlab_cmd(\"/soft/matlab_hd/R2020b/bin/glnxa64/MATLAB  -nodesktop -nosplash\")\n",
    "mlab.MatlabCommand.set_default_paths(os.path.abspath(os.path.join(os.environ['HOME'], 'Documents/MATLAB/spm12/')))"
   ]
  },
  {
   "cell_type": "code",
   "execution_count": 5,
   "metadata": {},
   "outputs": [],
   "source": [
    "# spm.SPMCommand().version"
   ]
  },
  {
   "cell_type": "code",
   "execution_count": 6,
   "metadata": {},
   "outputs": [],
   "source": [
    "fsl.FSLCommand.set_default_output_type('NIFTI')"
   ]
  },
  {
   "cell_type": "code",
   "execution_count": 7,
   "metadata": {},
   "outputs": [],
   "source": [
    "base_dir = os.path.join(os.environ['HOME'], 'spmbasics/data/')"
   ]
  },
  {
   "cell_type": "code",
   "execution_count": 8,
   "metadata": {},
   "outputs": [],
   "source": [
    "experiment_dir = os.path.join(base_dir, 'output')\n",
    "data_dir = os.path.abspath(os.path.join(base_dir, 'face_rep'))\n",
    "output_dir = 'nipype'\n",
    "working_dir = 'workingdir'\n",
    "\n",
    "# list of subject identifiers\n",
    "subject_list = ['M03953']\n",
    "\n",
    "# TR of functional images\n",
    "TR = 2.\n",
    "\n",
    "\n",
    "# Smoothing width used during preprocessing\n",
    "fwhm = [8]"
   ]
  },
  {
   "cell_type": "code",
   "execution_count": 9,
   "metadata": {},
   "outputs": [],
   "source": [
    "# add how to refer sots"
   ]
  },
  {
   "cell_type": "code",
   "execution_count": 10,
   "metadata": {},
   "outputs": [],
   "source": [
    "#mat0 = mat = loadmat(os.path.join(data_dir, \"sots.mat\"), mat_dtype=True, matlab_compatible=True, struct_as_record=True)"
   ]
  },
  {
   "cell_type": "code",
   "execution_count": 11,
   "metadata": {},
   "outputs": [],
   "source": [
    "#mat = loadmat(os.path.join(data_dir, \"sots.mat\"), mat_dtype=True, matlab_compatible=True, struct_as_record=True, simplify_cells=True)\n",
    "#sot = mat['sot'][1]\n",
    "\n",
    "#itemlag = mat['itemlag'][0]\n",
    "#onsets=[sot[0], sot[1], sot[2], sot[3]],\n",
    "# itemlag = mat['itemlag']"
   ]
  },
  {
   "cell_type": "code",
   "execution_count": 12,
   "metadata": {},
   "outputs": [],
   "source": [
    "mat = loadmat(os.path.join(data_dir, \"sots.mat\"), struct_as_record=False, simplify_cells=True)\n",
    "sot = mat['sot']\n",
    "itemlag = mat['itemlag']"
   ]
  },
  {
   "cell_type": "code",
   "execution_count": 13,
   "metadata": {},
   "outputs": [],
   "source": [
    "mat = loadmat(os.path.join(data_dir, \"sots.mat\"), struct_as_record=False, simplify_cells=True)\n",
    "sot = mat['sot']\n",
    "itemlag = mat['itemlag']\n",
    "subjectinfo_param = [\n",
    "    Bunch(\n",
    "        conditions=['N1', 'N2', 'F1', 'F2'],\n",
    "        onsets=[sot[0], sot[1], sot[2], sot[3]],\n",
    "        durations=[[0], [0], [0], [0]],\n",
    "        amplitudes=None,\n",
    "        tmod=None,\n",
    "        pmod=[\n",
    "            None,\n",
    "            Bunch(name=['Lag'], param=[itemlag[1].astype(dtype='float64').tolist()], poly=[2]),\n",
    "            None,\n",
    "            Bunch(name=['Lag'], param=[itemlag[3].astype(dtype='float64').tolist()], poly=[2])\n",
    "        ],\n",
    "        regressor_names=None,\n",
    "        regressors=None)\n",
    "]"
   ]
  },
  {
   "cell_type": "code",
   "execution_count": 14,
   "metadata": {},
   "outputs": [],
   "source": [
    "# design matrix setting"
   ]
  },
  {
   "cell_type": "code",
   "execution_count": 15,
   "metadata": {},
   "outputs": [],
   "source": [
    "cont1 = ('Famous_lag1', 'T', ['F2xLag^1'], [1]) # does not correspond to the design\n",
    "cont2 = ('Famous_lag2', 'T', ['F2xLag^2'], [1])\n",
    "fcont1 = ('Famous Lag', 'F', [cont1, cont2])\n",
    "paramcontrasts = [cont1, cont2, fcont1]"
   ]
  },
  {
   "cell_type": "code",
   "execution_count": 16,
   "metadata": {},
   "outputs": [],
   "source": [
    "# SpecifyModel - Generates SPM-specific Model\n",
    "specmodel = Node(SpecifySPMModel(concatenate_runs=False,\n",
    "                                 input_units='scans',\n",
    "                                 output_units='scans',\n",
    "                                 time_repetition=TR,\n",
    "                                 high_pass_filter_cutoff=128,\n",
    "                                 subject_info = subjectinfo_param),\n",
    "                 name=\"specmodel\")\n",
    "\n",
    "# Level1Design - Generates an SPM design matrix same as the first level tutorial\n",
    "eventparam = Node(Level1Design(bases={'hrf': {'derivs': [0, 0]}},\n",
    "                                 timing_units='scans',\n",
    "                                 interscan_interval=TR,\n",
    "                                 volterra_expansion_order=1, # no model interction\n",
    "                                 flags={'mthresh': 0.8},\n",
    "                                 global_intensity_normalization='none',\n",
    "                                 microtime_onset=12,\n",
    "                                 microtime_resolution=24,\n",
    "                                 #factor_info = [dict(name = 'Fame', levels = 2), # figure out factorized output names\n",
    "                                 #               dict(name = 'Rep', levels = 2)],\n",
    "                                 model_serial_correlations='AR(1)'), #matlabbatch{1}.spm.stats.fmri_spec.cvi = 'AR(1)';\n",
    "                    name=\"eventparam\")\n",
    "\n",
    "# EstimateModel - estimate the parameters of the model\n",
    "paramestimate = Node(EstimateModel(estimation_method={'Classical': 1}),\n",
    "                      write_residuals=False, \n",
    "                      name=\"paramestimate\")\n",
    "\n",
    "# EstimateContrast - estimates contrasts\n",
    "paramconest = Node(EstimateContrast(contrasts = paramcontrasts),\n",
    "                    use_derivs=False, \n",
    "                    name=\"paramconest\")"
   ]
  },
  {
   "cell_type": "code",
   "execution_count": 17,
   "metadata": {},
   "outputs": [],
   "source": [
    "# Infosource - a function free node to iterate over the list of subject names\n",
    "infosource = Node(IdentityInterface(fields=['subject_id',\n",
    "                                            'contrasts'],\n",
    "                                    contrasts=paramcontrasts),\n",
    "                  name=\"infosource\")\n",
    "infosource.iterables = [('subject_id', subject_list)]\n",
    "\n",
    "\n",
    "templates = {'func': os.path.join(output_dir, 'event_preproc', '_subject_id_{subject_id}',\n",
    "                         'swars{subject_id}_0005_*.img'),#sM03953_0005_*.img\n",
    "             'mc_param': os.path.join(output_dir, 'event_preproc', '_subject_id_{subject_id}',\n",
    "                         'rp_s{subject_id}_0005_0006.txt')}\n",
    "selectfiles = Node(SelectFiles(templates,\n",
    "                               base_directory=experiment_dir,\n",
    "                               sort_filelist=True),\n",
    "                   name=\"selectfiles\")\n",
    "\n",
    "# Datasink - creates output folder for important outputs\n",
    "datasink = Node(DataSink(base_directory=experiment_dir,\n",
    "                         container=output_dir),\n",
    "                name=\"datasink\")"
   ]
  },
  {
   "cell_type": "code",
   "execution_count": 18,
   "metadata": {},
   "outputs": [],
   "source": [
    "def makelist(item):\n",
    "    return [item]"
   ]
  },
  {
   "cell_type": "code",
   "execution_count": 19,
   "metadata": {},
   "outputs": [],
   "source": [
    "# Initiation of the 1st-level analysis workflow\n",
    "event_param = Workflow(name='event_param')\n",
    "event_param.base_dir = os.path.join(experiment_dir, working_dir)\n"
   ]
  },
  {
   "cell_type": "code",
   "execution_count": 20,
   "metadata": {},
   "outputs": [],
   "source": [
    "\n",
    "# Connect up the 1st-level analysis components\n",
    "event_param.connect([(infosource, selectfiles, [('subject_id', 'subject_id')]),\n",
    "                    (infosource, paramconest, [('contrasts', 'contrasts')]),\n",
    "                    (selectfiles, specmodel, [(('func', makelist),  'functional_runs')]), \n",
    "                    (selectfiles, specmodel, [('mc_param', 'realignment_parameters')]),\n",
    "                    (specmodel, eventparam, [('session_info','session_info')]),\n",
    "                    (eventparam, paramestimate, [('spm_mat_file','spm_mat_file')]),                    \n",
    "                    (paramestimate, paramconest, [('spm_mat_file','spm_mat_file'),\n",
    "                                                  ('beta_images','beta_images'),\n",
    "                                                  ('residual_image', 'residual_image')]),\n",
    "                    (paramestimate, datasink, [('mask_image','event_param.@mask_image'),\n",
    "                                                    ('beta_images','event_param.@beta_images'),\n",
    "                                                    ('residual_images','event_param.@residual_images'),\n",
    "                                                    ('residual_image','event_param.@residual_image'),\n",
    "                                                    ('RPVimage', 'event_param.@RPVimage')]), \n",
    "                    (paramconest, datasink, [('spm_mat_file', 'event_param.@spm_mat_file'),\n",
    "                                              ('spmT_images', 'event_param.@spmT_images'),\n",
    "                                              ('con_images', 'event_param.@con_images'),\n",
    "                                              ('spmF_images', 'event_param.@spmF_images'),\n",
    "                                              ('ess_images', 'event_param.@ess_images')]),\n",
    "                    ])"
   ]
  },
  {
   "cell_type": "code",
   "execution_count": 21,
   "metadata": {},
   "outputs": [
    {
     "name": "stdout",
     "output_type": "stream",
     "text": [
      "240528-11:25:16,86 nipype.workflow INFO:\n",
      "\t Generated workflow graph: /home/matay/spmbasics/data/output/workingdir/event_param/colored_param.png (graph2use=colored, simple_form=True).\n"
     ]
    },
    {
     "data": {
      "text/plain": [
       "'/home/matay/spmbasics/data/output/workingdir/event_param/colored_param.png'"
      ]
     },
     "execution_count": 21,
     "metadata": {},
     "output_type": "execute_result"
    }
   ],
   "source": [
    "event_param.write_graph(graph2use='colored', format='png', dotfilename='colored_param.dot', simple_form=True)"
   ]
  },
  {
   "cell_type": "code",
   "execution_count": 22,
   "metadata": {},
   "outputs": [
    {
     "name": "stdout",
     "output_type": "stream",
     "text": [
      "240528-11:25:16,388 nipype.workflow INFO:\n",
      "\t Generated workflow graph: /home/matay/spmbasics/data/output/workingdir/event_param/flat_param.png (graph2use=flat, simple_form=True).\n"
     ]
    },
    {
     "data": {
      "text/plain": [
       "'/home/matay/spmbasics/data/output/workingdir/event_param/flat_param.png'"
      ]
     },
     "execution_count": 22,
     "metadata": {},
     "output_type": "execute_result"
    }
   ],
   "source": [
    "event_param.write_graph(graph2use='flat', format='png', dotfilename='flat_param.dot', simple_form=True)"
   ]
  },
  {
   "cell_type": "code",
   "execution_count": 23,
   "metadata": {},
   "outputs": [
    {
     "data": {
      "image/png": "[encoded data removed]",
      "text/plain": [
       "<IPython.core.display.Image object>"
      ]
     },
     "execution_count": 23,
     "metadata": {},
     "output_type": "execute_result"
    }
   ],
   "source": [
    "# Visualize the graph\n",
    "from IPython.display import Image\n",
    "Image(filename=os.path.join(event_param.base_dir, 'event_param', 'colored_param.png'))"
   ]
  },
  {
   "cell_type": "code",
   "execution_count": 24,
   "metadata": {},
   "outputs": [
    {
     "name": "stdout",
     "output_type": "stream",
     "text": [
      "240528-11:25:16,414 nipype.workflow INFO:\n",
      "\t Workflow event_param settings: ['check', 'execution', 'logging', 'monitoring']\n",
      "240528-11:25:16,419 nipype.workflow INFO:\n",
      "\t Running in parallel.\n",
      "240528-11:25:16,420 nipype.workflow INFO:\n",
      "\t [MultiProc] Running 0 tasks, and 1 jobs ready. Free memory (GB): 13.77/13.77, Free processors: 4/4.\n",
      "240528-11:25:16,536 nipype.workflow INFO:\n",
      "\t [Node] Setting-up \"event_param.selectfiles\" in \"/home/matay/spmbasics/data/output/workingdir/event_param/_subject_id_M03953/selectfiles\".\n",
      "240528-11:25:16,548 nipype.workflow INFO:\n",
      "\t [Node] Executing \"selectfiles\" <nipype.interfaces.io.SelectFiles>\n",
      "240528-11:25:16,560 nipype.workflow INFO:\n",
      "\t [Node] Finished \"selectfiles\", elapsed time 0.008597s.\n",
      "240528-11:25:18,424 nipype.workflow INFO:\n",
      "\t [Job 0] Completed (event_param.selectfiles).\n",
      "240528-11:25:18,429 nipype.workflow INFO:\n",
      "\t [MultiProc] Running 0 tasks, and 1 jobs ready. Free memory (GB): 13.77/13.77, Free processors: 4/4.\n",
      "240528-11:25:18,506 nipype.workflow INFO:\n",
      "\t [Node] Setting-up \"event_param.specmodel\" in \"/home/matay/spmbasics/data/output/workingdir/event_param/_subject_id_M03953/specmodel\".\n",
      "240528-11:25:18,553 nipype.workflow INFO:\n",
      "\t [Node] Executing \"specmodel\" <nipype.algorithms.modelgen.SpecifySPMModel>\n",
      "240528-11:25:18,555 nipype.workflow INFO:\n",
      "\t [Node] Finished \"specmodel\", elapsed time 0.001386s.\n",
      "240528-11:25:20,424 nipype.workflow INFO:\n",
      "\t [Job 1] Completed (event_param.specmodel).\n",
      "240528-11:25:20,427 nipype.workflow INFO:\n",
      "\t [MultiProc] Running 0 tasks, and 1 jobs ready. Free memory (GB): 13.77/13.77, Free processors: 4/4.\n",
      "240528-11:25:20,493 nipype.workflow INFO:\n",
      "\t [Node] Setting-up \"event_param.eventparam\" in \"/home/matay/spmbasics/data/output/workingdir/event_param/_subject_id_M03953/eventparam\".\n",
      "240528-11:25:20,532 nipype.workflow INFO:\n",
      "\t [Node] Executing \"eventparam\" <nipype.interfaces.spm.model.Level1Design>\n",
      "240528-11:25:22,426 nipype.workflow INFO:\n",
      "\t [MultiProc] Running 1 tasks, and 0 jobs ready. Free memory (GB): 13.57/13.77, Free processors: 3/4.\n",
      "                     Currently running:\n",
      "                       * event_param.eventparam\n"
     ]
    },
    {
     "name": "stderr",
     "output_type": "stream",
     "text": [
      "stty: 'standard input': Inappropriate ioctl for device\n"
     ]
    },
    {
     "name": "stdout",
     "output_type": "stream",
     "text": [
      "240528-11:25:39,565 nipype.workflow INFO:\n",
      "\t [Node] Finished \"eventparam\", elapsed time 12.496646s.\n"
     ]
    },
    {
     "name": "stderr",
     "output_type": "stream",
     "text": [
      "stty: 'standard input': Inappropriate ioctl for device\n"
     ]
    },
    {
     "name": "stdout",
     "output_type": "stream",
     "text": [
      "240528-11:25:40,446 nipype.workflow INFO:\n",
      "\t [Job 2] Completed (event_param.eventparam).\n",
      "240528-11:25:40,450 nipype.workflow INFO:\n",
      "\t [MultiProc] Running 0 tasks, and 1 jobs ready. Free memory (GB): 13.77/13.77, Free processors: 4/4.\n",
      "240528-11:25:40,513 nipype.workflow INFO:\n",
      "\t [Node] Setting-up \"event_param.paramestimate\" in \"/home/matay/spmbasics/data/output/workingdir/event_param/_subject_id_M03953/paramestimate\".\n",
      "240528-11:25:40,520 nipype.workflow INFO:\n",
      "\t [Node] Executing \"paramestimate\" <nipype.interfaces.spm.model.EstimateModel>\n",
      "240528-11:25:42,447 nipype.workflow INFO:\n",
      "\t [MultiProc] Running 1 tasks, and 0 jobs ready. Free memory (GB): 13.57/13.77, Free processors: 3/4.\n",
      "                     Currently running:\n",
      "                       * event_param.paramestimate\n"
     ]
    },
    {
     "name": "stderr",
     "output_type": "stream",
     "text": [
      "stty: 'standard input': Inappropriate ioctl for device\n"
     ]
    },
    {
     "name": "stdout",
     "output_type": "stream",
     "text": [
      "240528-11:26:02,825 nipype.workflow INFO:\n",
      "\t [Node] Finished \"paramestimate\", elapsed time 15.812844s.\n"
     ]
    },
    {
     "name": "stderr",
     "output_type": "stream",
     "text": [
      "stty: 'standard input': Inappropriate ioctl for device\n"
     ]
    },
    {
     "name": "stdout",
     "output_type": "stream",
     "text": [
      "240528-11:26:04,469 nipype.workflow INFO:\n",
      "\t [Job 3] Completed (event_param.paramestimate).\n",
      "240528-11:26:04,474 nipype.workflow INFO:\n",
      "\t [MultiProc] Running 0 tasks, and 1 jobs ready. Free memory (GB): 13.77/13.77, Free processors: 4/4.\n",
      "240528-11:26:04,534 nipype.workflow INFO:\n",
      "\t [Node] Setting-up \"event_param.paramconest\" in \"/home/matay/spmbasics/data/output/workingdir/event_param/_subject_id_M03953/paramconest\".\n",
      "240528-11:26:04,544 nipype.workflow INFO:\n",
      "\t [Node] Executing \"paramconest\" <nipype.interfaces.spm.model.EstimateContrast>\n",
      "240528-11:26:06,471 nipype.workflow INFO:\n",
      "\t [MultiProc] Running 1 tasks, and 0 jobs ready. Free memory (GB): 13.57/13.77, Free processors: 3/4.\n",
      "                     Currently running:\n",
      "                       * event_param.paramconest\n"
     ]
    },
    {
     "name": "stderr",
     "output_type": "stream",
     "text": [
      "stty: 'standard input': Inappropriate ioctl for device\n"
     ]
    },
    {
     "name": "stdout",
     "output_type": "stream",
     "text": [
      "240528-11:26:22,282 nipype.workflow INFO:\n",
      "\t [Node] Finished \"paramconest\", elapsed time 11.280577s.\n"
     ]
    },
    {
     "name": "stderr",
     "output_type": "stream",
     "text": [
      "stty: 'standard input': Inappropriate ioctl for device\n"
     ]
    },
    {
     "name": "stdout",
     "output_type": "stream",
     "text": [
      "240528-11:26:22,487 nipype.workflow INFO:\n",
      "\t [Job 4] Completed (event_param.paramconest).\n",
      "240528-11:26:22,491 nipype.workflow INFO:\n",
      "\t [MultiProc] Running 0 tasks, and 1 jobs ready. Free memory (GB): 13.77/13.77, Free processors: 4/4.\n",
      "240528-11:26:22,576 nipype.workflow INFO:\n",
      "\t [Node] Setting-up \"event_param.datasink\" in \"/home/matay/spmbasics/data/output/workingdir/event_param/_subject_id_M03953/datasink\".\n",
      "240528-11:26:22,588 nipype.workflow INFO:\n",
      "\t [Node] Executing \"datasink\" <nipype.interfaces.io.DataSink>\n",
      "240528-11:26:22,594 nipype.workflow INFO:\n",
      "\t [Node] Finished \"datasink\", elapsed time 0.003591s.\n",
      "240528-11:26:24,490 nipype.workflow INFO:\n",
      "\t [Job 5] Completed (event_param.datasink).\n",
      "240528-11:26:24,494 nipype.workflow INFO:\n",
      "\t [MultiProc] Running 0 tasks, and 0 jobs ready. Free memory (GB): 13.77/13.77, Free processors: 4/4.\n"
     ]
    },
    {
     "data": {
      "text/plain": [
       "<networkx.classes.digraph.DiGraph at 0x7f25f7836760>"
      ]
     },
     "execution_count": 24,
     "metadata": {},
     "output_type": "execute_result"
    }
   ],
   "source": [
    "event_param.run('MultiProc', plugin_args={'n_procs': 4})"
   ]
  },
  {
   "cell_type": "code",
   "execution_count": null,
   "metadata": {},
   "outputs": [],
   "source": []
  }
 ],
 "metadata": {
  "anaconda-cloud": {},
  "kernelspec": {
   "display_name": "Python 3 (ipykernel)",
   "language": "python",
   "name": "python3"
  },
  "language_info": {
   "codemirror_mode": {
    "name": "ipython",
    "version": 3
   },
   "file_extension": ".py",
   "mimetype": "text/x-python",
   "name": "python",
   "nbconvert_exporter": "python",
   "pygments_lexer": "ipython3",
   "version": "3.9.18"
  }
 },
 "nbformat": 4,
 "nbformat_minor": 4
}
